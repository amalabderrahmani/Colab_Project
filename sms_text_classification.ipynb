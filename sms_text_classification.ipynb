{
  "cells": [
    {
      "cell_type": "markdown",
      "metadata": {
        "id": "view-in-github",
        "colab_type": "text"
      },
      "source": [
        "<a href=\"https://colab.research.google.com/github/amalabderrahmani/Colab_Project/blob/main/sms_text_classification.ipynb\" target=\"_parent\"><img src=\"https://colab.research.google.com/assets/colab-badge.svg\" alt=\"Open In Colab\"/></a>"
      ]
    },
    {
      "cell_type": "markdown",
      "metadata": {
        "id": "Eg62Pmz3o83v"
      },
      "source": [
        "\n",
        "\n",
        "In this challenge, a machine learning model that will classify SMS messages as either \"ham\" or \"spam\" is created. A \"ham\" message is a normal message sent by a friend. A \"spam\" message is an advertisement or a message sent by a company.\n",
        "\n",
        "\n",
        "\n",
        "For this challenge, you will use the [SMS Spam Collection dataset](http://www.dt.fee.unicamp.br/~tiago/smsspamcollection/). The dataset has already been grouped into train data and test data.\n",
        "\n",
        "The first two cells import the libraries and data. The final cell tests your model and function. Add your code in between these cells.\n"
      ]
    },
    {
      "cell_type": "code",
      "execution_count": null,
      "metadata": {
        "id": "8RZOuS9LWQvv",
        "colab": {
          "base_uri": "https://localhost:8080/"
        },
        "outputId": "d8bcc1f4-0955-499a-a115-2aac45d34dd1"
      },
      "outputs": [
        {
          "output_type": "stream",
          "name": "stdout",
          "text": [
            "Requirement already satisfied: tf-nightly in /usr/local/lib/python3.7/dist-packages (2.10.0.dev20220407)\n",
            "Requirement already satisfied: tb-nightly~=2.9.0.a in /usr/local/lib/python3.7/dist-packages (from tf-nightly) (2.9.0a20220408)\n",
            "Requirement already satisfied: astunparse>=1.6.0 in /usr/local/lib/python3.7/dist-packages (from tf-nightly) (1.6.3)\n",
            "Requirement already satisfied: protobuf>=3.9.2 in /usr/local/lib/python3.7/dist-packages (from tf-nightly) (3.17.3)\n",
            "Requirement already satisfied: packaging in /usr/local/lib/python3.7/dist-packages (from tf-nightly) (21.3)\n",
            "Requirement already satisfied: six>=1.12.0 in /usr/local/lib/python3.7/dist-packages (from tf-nightly) (1.15.0)\n",
            "Requirement already satisfied: setuptools in /usr/local/lib/python3.7/dist-packages (from tf-nightly) (57.4.0)\n",
            "Requirement already satisfied: absl-py>=1.0.0 in /usr/local/lib/python3.7/dist-packages (from tf-nightly) (1.0.0)\n",
            "Requirement already satisfied: grpcio<2.0,>=1.24.3 in /usr/local/lib/python3.7/dist-packages (from tf-nightly) (1.44.0)\n",
            "Requirement already satisfied: typing-extensions>=3.6.6 in /usr/local/lib/python3.7/dist-packages (from tf-nightly) (3.10.0.2)\n",
            "Requirement already satisfied: google-pasta>=0.1.1 in /usr/local/lib/python3.7/dist-packages (from tf-nightly) (0.2.0)\n",
            "Requirement already satisfied: libclang>=13.0.0 in /usr/local/lib/python3.7/dist-packages (from tf-nightly) (13.0.0)\n",
            "Requirement already satisfied: tensorflow-io-gcs-filesystem>=0.23.1 in /usr/local/lib/python3.7/dist-packages (from tf-nightly) (0.24.0)\n",
            "Requirement already satisfied: wrapt>=1.11.0 in /usr/local/lib/python3.7/dist-packages (from tf-nightly) (1.14.0)\n",
            "Requirement already satisfied: termcolor>=1.1.0 in /usr/local/lib/python3.7/dist-packages (from tf-nightly) (1.1.0)\n",
            "Requirement already satisfied: gast<=0.4.0,>=0.2.1 in /usr/local/lib/python3.7/dist-packages (from tf-nightly) (0.4.0)\n",
            "Requirement already satisfied: keras-preprocessing>=1.1.1 in /usr/local/lib/python3.7/dist-packages (from tf-nightly) (1.1.2)\n",
            "Requirement already satisfied: keras-nightly~=2.10.0.dev in /usr/local/lib/python3.7/dist-packages (from tf-nightly) (2.10.0.dev2022041207)\n",
            "Requirement already satisfied: flatbuffers<2,>=1.12 in /usr/local/lib/python3.7/dist-packages (from tf-nightly) (1.12)\n",
            "Requirement already satisfied: tf-estimator-nightly~=2.10.0.dev in /usr/local/lib/python3.7/dist-packages (from tf-nightly) (2.10.0.dev2022041208)\n",
            "Requirement already satisfied: numpy>=1.20 in /usr/local/lib/python3.7/dist-packages (from tf-nightly) (1.21.5)\n",
            "Requirement already satisfied: h5py>=2.9.0 in /usr/local/lib/python3.7/dist-packages (from tf-nightly) (3.1.0)\n",
            "Requirement already satisfied: opt-einsum>=2.3.2 in /usr/local/lib/python3.7/dist-packages (from tf-nightly) (3.3.0)\n",
            "Requirement already satisfied: wheel<1.0,>=0.23.0 in /usr/local/lib/python3.7/dist-packages (from astunparse>=1.6.0->tf-nightly) (0.37.1)\n",
            "Requirement already satisfied: cached-property in /usr/local/lib/python3.7/dist-packages (from h5py>=2.9.0->tf-nightly) (1.5.2)\n",
            "Requirement already satisfied: google-auth<3,>=1.6.3 in /usr/local/lib/python3.7/dist-packages (from tb-nightly~=2.9.0.a->tf-nightly) (1.35.0)\n",
            "Requirement already satisfied: requests<3,>=2.21.0 in /usr/local/lib/python3.7/dist-packages (from tb-nightly~=2.9.0.a->tf-nightly) (2.23.0)\n",
            "Requirement already satisfied: tensorboard-plugin-wit>=1.6.0 in /usr/local/lib/python3.7/dist-packages (from tb-nightly~=2.9.0.a->tf-nightly) (1.8.1)\n",
            "Requirement already satisfied: werkzeug>=1.0.1 in /usr/local/lib/python3.7/dist-packages (from tb-nightly~=2.9.0.a->tf-nightly) (1.0.1)\n",
            "Requirement already satisfied: google-auth-oauthlib<0.5,>=0.4.1 in /usr/local/lib/python3.7/dist-packages (from tb-nightly~=2.9.0.a->tf-nightly) (0.4.6)\n",
            "Requirement already satisfied: tensorboard-data-server<0.7.0,>=0.6.0 in /usr/local/lib/python3.7/dist-packages (from tb-nightly~=2.9.0.a->tf-nightly) (0.6.1)\n",
            "Requirement already satisfied: markdown>=2.6.8 in /usr/local/lib/python3.7/dist-packages (from tb-nightly~=2.9.0.a->tf-nightly) (3.3.6)\n",
            "Requirement already satisfied: pyasn1-modules>=0.2.1 in /usr/local/lib/python3.7/dist-packages (from google-auth<3,>=1.6.3->tb-nightly~=2.9.0.a->tf-nightly) (0.2.8)\n",
            "Requirement already satisfied: rsa<5,>=3.1.4 in /usr/local/lib/python3.7/dist-packages (from google-auth<3,>=1.6.3->tb-nightly~=2.9.0.a->tf-nightly) (4.8)\n",
            "Requirement already satisfied: cachetools<5.0,>=2.0.0 in /usr/local/lib/python3.7/dist-packages (from google-auth<3,>=1.6.3->tb-nightly~=2.9.0.a->tf-nightly) (4.2.4)\n",
            "Requirement already satisfied: requests-oauthlib>=0.7.0 in /usr/local/lib/python3.7/dist-packages (from google-auth-oauthlib<0.5,>=0.4.1->tb-nightly~=2.9.0.a->tf-nightly) (1.3.1)\n",
            "Requirement already satisfied: importlib-metadata>=4.4 in /usr/local/lib/python3.7/dist-packages (from markdown>=2.6.8->tb-nightly~=2.9.0.a->tf-nightly) (4.11.3)\n",
            "Requirement already satisfied: zipp>=0.5 in /usr/local/lib/python3.7/dist-packages (from importlib-metadata>=4.4->markdown>=2.6.8->tb-nightly~=2.9.0.a->tf-nightly) (3.7.0)\n",
            "Requirement already satisfied: pyasn1<0.5.0,>=0.4.6 in /usr/local/lib/python3.7/dist-packages (from pyasn1-modules>=0.2.1->google-auth<3,>=1.6.3->tb-nightly~=2.9.0.a->tf-nightly) (0.4.8)\n",
            "Requirement already satisfied: urllib3!=1.25.0,!=1.25.1,<1.26,>=1.21.1 in /usr/local/lib/python3.7/dist-packages (from requests<3,>=2.21.0->tb-nightly~=2.9.0.a->tf-nightly) (1.24.3)\n",
            "Requirement already satisfied: certifi>=2017.4.17 in /usr/local/lib/python3.7/dist-packages (from requests<3,>=2.21.0->tb-nightly~=2.9.0.a->tf-nightly) (2021.10.8)\n",
            "Requirement already satisfied: idna<3,>=2.5 in /usr/local/lib/python3.7/dist-packages (from requests<3,>=2.21.0->tb-nightly~=2.9.0.a->tf-nightly) (2.10)\n",
            "Requirement already satisfied: chardet<4,>=3.0.2 in /usr/local/lib/python3.7/dist-packages (from requests<3,>=2.21.0->tb-nightly~=2.9.0.a->tf-nightly) (3.0.4)\n",
            "Requirement already satisfied: oauthlib>=3.0.0 in /usr/local/lib/python3.7/dist-packages (from requests-oauthlib>=0.7.0->google-auth-oauthlib<0.5,>=0.4.1->tb-nightly~=2.9.0.a->tf-nightly) (3.2.0)\n",
            "Requirement already satisfied: pyparsing!=3.0.5,>=2.0.2 in /usr/local/lib/python3.7/dist-packages (from packaging->tf-nightly) (3.0.7)\n",
            "Requirement already satisfied: tensorflow-datasets in /usr/local/lib/python3.7/dist-packages (4.0.1)\n",
            "Requirement already satisfied: future in /usr/local/lib/python3.7/dist-packages (from tensorflow-datasets) (0.16.0)\n",
            "Requirement already satisfied: attrs>=18.1.0 in /usr/local/lib/python3.7/dist-packages (from tensorflow-datasets) (21.4.0)\n",
            "Requirement already satisfied: six in /usr/local/lib/python3.7/dist-packages (from tensorflow-datasets) (1.15.0)\n",
            "Requirement already satisfied: dm-tree in /usr/local/lib/python3.7/dist-packages (from tensorflow-datasets) (0.1.6)\n",
            "Requirement already satisfied: requests>=2.19.0 in /usr/local/lib/python3.7/dist-packages (from tensorflow-datasets) (2.23.0)\n",
            "Requirement already satisfied: absl-py in /usr/local/lib/python3.7/dist-packages (from tensorflow-datasets) (1.0.0)\n",
            "Requirement already satisfied: promise in /usr/local/lib/python3.7/dist-packages (from tensorflow-datasets) (2.3)\n",
            "Requirement already satisfied: tqdm in /usr/local/lib/python3.7/dist-packages (from tensorflow-datasets) (4.63.0)\n",
            "Requirement already satisfied: dill in /usr/local/lib/python3.7/dist-packages (from tensorflow-datasets) (0.3.4)\n",
            "Requirement already satisfied: numpy in /usr/local/lib/python3.7/dist-packages (from tensorflow-datasets) (1.21.5)\n",
            "Requirement already satisfied: tensorflow-metadata in /usr/local/lib/python3.7/dist-packages (from tensorflow-datasets) (1.7.0)\n",
            "Requirement already satisfied: protobuf>=3.6.1 in /usr/local/lib/python3.7/dist-packages (from tensorflow-datasets) (3.17.3)\n",
            "Requirement already satisfied: termcolor in /usr/local/lib/python3.7/dist-packages (from tensorflow-datasets) (1.1.0)\n",
            "Requirement already satisfied: importlib-resources in /usr/local/lib/python3.7/dist-packages (from tensorflow-datasets) (5.4.0)\n",
            "Requirement already satisfied: urllib3!=1.25.0,!=1.25.1,<1.26,>=1.21.1 in /usr/local/lib/python3.7/dist-packages (from requests>=2.19.0->tensorflow-datasets) (1.24.3)\n",
            "Requirement already satisfied: certifi>=2017.4.17 in /usr/local/lib/python3.7/dist-packages (from requests>=2.19.0->tensorflow-datasets) (2021.10.8)\n",
            "Requirement already satisfied: idna<3,>=2.5 in /usr/local/lib/python3.7/dist-packages (from requests>=2.19.0->tensorflow-datasets) (2.10)\n",
            "Requirement already satisfied: chardet<4,>=3.0.2 in /usr/local/lib/python3.7/dist-packages (from requests>=2.19.0->tensorflow-datasets) (3.0.4)\n",
            "Requirement already satisfied: zipp>=3.1.0 in /usr/local/lib/python3.7/dist-packages (from importlib-resources->tensorflow-datasets) (3.7.0)\n",
            "Requirement already satisfied: googleapis-common-protos<2,>=1.52.0 in /usr/local/lib/python3.7/dist-packages (from tensorflow-metadata->tensorflow-datasets) (1.56.0)\n",
            "2.10.0-dev20220407\n"
          ]
        }
      ],
      "source": [
        "# import libraries\n",
        "try:\n",
        "  # %tensorflow_version only exists in Colab.\n",
        "  !pip install tf-nightly\n",
        "except Exception:\n",
        "  pass\n",
        "import tensorflow as tf\n",
        "import pandas as pd\n",
        "from tensorflow import keras\n",
        "!pip install tensorflow-datasets\n",
        "import tensorflow_datasets as tfds\n",
        "from tensorflow.keras.preprocessing.text import Tokenizer\n",
        "from tensorflow.keras.preprocessing.sequence import pad_sequences\n",
        "\n",
        "import numpy as np\n",
        "import matplotlib.pyplot as plt\n",
        "\n",
        "print(tf.__version__)"
      ]
    },
    {
      "cell_type": "code",
      "source": [
        "from tensorflow.keras.callbacks import EarlyStopping\n",
        "from tensorflow.keras.models import Sequential\n",
        "from tensorflow.keras.layers import Embedding, GlobalAveragePooling1D, Dense, Dropout, LSTM, Bidirectional"
      ],
      "metadata": {
        "id": "ubcyZmDxnXlu"
      },
      "execution_count": null,
      "outputs": []
    },
    {
      "cell_type": "code",
      "execution_count": null,
      "metadata": {
        "id": "lMHwYXHXCar3",
        "colab": {
          "base_uri": "https://localhost:8080/"
        },
        "outputId": "d3da1a0c-9ca6-4f7c-87c4-6f640438d310"
      },
      "outputs": [
        {
          "output_type": "stream",
          "name": "stdout",
          "text": [
            "--2022-04-13 00:04:49--  https://cdn.freecodecamp.org/project-data/sms/train-data.tsv\n",
            "Resolving cdn.freecodecamp.org (cdn.freecodecamp.org)... 104.26.3.33, 172.67.70.149, 104.26.2.33, ...\n",
            "Connecting to cdn.freecodecamp.org (cdn.freecodecamp.org)|104.26.3.33|:443... connected.\n",
            "HTTP request sent, awaiting response... 200 OK\n",
            "Length: 358233 (350K) [text/tab-separated-values]\n",
            "Saving to: ‘train-data.tsv.1’\n",
            "\n",
            "train-data.tsv.1    100%[===================>] 349.84K  --.-KB/s    in 0.03s   \n",
            "\n",
            "2022-04-13 00:04:49 (11.4 MB/s) - ‘train-data.tsv.1’ saved [358233/358233]\n",
            "\n",
            "--2022-04-13 00:04:49--  https://cdn.freecodecamp.org/project-data/sms/valid-data.tsv\n",
            "Resolving cdn.freecodecamp.org (cdn.freecodecamp.org)... 104.26.3.33, 172.67.70.149, 104.26.2.33, ...\n",
            "Connecting to cdn.freecodecamp.org (cdn.freecodecamp.org)|104.26.3.33|:443... connected.\n",
            "HTTP request sent, awaiting response... 200 OK\n",
            "Length: 118774 (116K) [text/tab-separated-values]\n",
            "Saving to: ‘valid-data.tsv.1’\n",
            "\n",
            "valid-data.tsv.1    100%[===================>] 115.99K  --.-KB/s    in 0.01s   \n",
            "\n",
            "2022-04-13 00:04:49 (9.04 MB/s) - ‘valid-data.tsv.1’ saved [118774/118774]\n",
            "\n"
          ]
        }
      ],
      "source": [
        "# get data files\n",
        "!wget https://cdn.freecodecamp.org/project-data/sms/train-data.tsv\n",
        "!wget https://cdn.freecodecamp.org/project-data/sms/valid-data.tsv\n",
        "\n",
        "train_file_path = \"train-data.tsv\"\n",
        "test_file_path = \"valid-data.tsv\""
      ]
    },
    {
      "cell_type": "markdown",
      "source": [
        "# Datasets preprocessing"
      ],
      "metadata": {
        "id": "K4S649inaRtP"
      }
    },
    {
      "cell_type": "code",
      "execution_count": null,
      "metadata": {
        "id": "g_h508FEClxO"
      },
      "outputs": [],
      "source": [
        "train_dataset= pd.read_csv(train_file_path, sep='\\t', names=[\"label\", \"message\"])\n",
        "test_dataset= pd.read_csv(test_file_path, sep= '\\t',names=[\"label\", \"message\"])"
      ]
    },
    {
      "cell_type": "code",
      "source": [
        "print(train_dataset.shape[0])\n",
        "print(test_dataset.shape[0])"
      ],
      "metadata": {
        "id": "_12dxZkObUDM",
        "colab": {
          "base_uri": "https://localhost:8080/"
        },
        "outputId": "9604a8f3-47d3-400a-a2d6-2b12f5af6d0e"
      },
      "execution_count": null,
      "outputs": [
        {
          "output_type": "stream",
          "name": "stdout",
          "text": [
            "4179\n",
            "1392\n"
          ]
        }
      ]
    },
    {
      "cell_type": "code",
      "source": [
        "dataset=pd.concat([test_dataset, train_dataset])"
      ],
      "metadata": {
        "id": "OnsYWozfqMmK"
      },
      "execution_count": null,
      "outputs": []
    },
    {
      "cell_type": "code",
      "source": [
        "dataset.describe()"
      ],
      "metadata": {
        "id": "4W2xdNLBhJl9",
        "colab": {
          "base_uri": "https://localhost:8080/",
          "height": 174
        },
        "outputId": "862fd0d5-6713-4a78-960c-559fd8716604"
      },
      "execution_count": null,
      "outputs": [
        {
          "output_type": "execute_result",
          "data": {
            "text/plain": [
              "       label                 message\n",
              "count   5571                    5571\n",
              "unique     2                    5156\n",
              "top      ham  sorry, i'll call later\n",
              "freq    4824                      30"
            ],
            "text/html": [
              "\n",
              "  <div id=\"df-6b6f6db6-7d90-4bff-a3fb-bec1a7b96e6b\">\n",
              "    <div class=\"colab-df-container\">\n",
              "      <div>\n",
              "<style scoped>\n",
              "    .dataframe tbody tr th:only-of-type {\n",
              "        vertical-align: middle;\n",
              "    }\n",
              "\n",
              "    .dataframe tbody tr th {\n",
              "        vertical-align: top;\n",
              "    }\n",
              "\n",
              "    .dataframe thead th {\n",
              "        text-align: right;\n",
              "    }\n",
              "</style>\n",
              "<table border=\"1\" class=\"dataframe\">\n",
              "  <thead>\n",
              "    <tr style=\"text-align: right;\">\n",
              "      <th></th>\n",
              "      <th>label</th>\n",
              "      <th>message</th>\n",
              "    </tr>\n",
              "  </thead>\n",
              "  <tbody>\n",
              "    <tr>\n",
              "      <th>count</th>\n",
              "      <td>5571</td>\n",
              "      <td>5571</td>\n",
              "    </tr>\n",
              "    <tr>\n",
              "      <th>unique</th>\n",
              "      <td>2</td>\n",
              "      <td>5156</td>\n",
              "    </tr>\n",
              "    <tr>\n",
              "      <th>top</th>\n",
              "      <td>ham</td>\n",
              "      <td>sorry, i'll call later</td>\n",
              "    </tr>\n",
              "    <tr>\n",
              "      <th>freq</th>\n",
              "      <td>4824</td>\n",
              "      <td>30</td>\n",
              "    </tr>\n",
              "  </tbody>\n",
              "</table>\n",
              "</div>\n",
              "      <button class=\"colab-df-convert\" onclick=\"convertToInteractive('df-6b6f6db6-7d90-4bff-a3fb-bec1a7b96e6b')\"\n",
              "              title=\"Convert this dataframe to an interactive table.\"\n",
              "              style=\"display:none;\">\n",
              "        \n",
              "  <svg xmlns=\"http://www.w3.org/2000/svg\" height=\"24px\"viewBox=\"0 0 24 24\"\n",
              "       width=\"24px\">\n",
              "    <path d=\"M0 0h24v24H0V0z\" fill=\"none\"/>\n",
              "    <path d=\"M18.56 5.44l.94 2.06.94-2.06 2.06-.94-2.06-.94-.94-2.06-.94 2.06-2.06.94zm-11 1L8.5 8.5l.94-2.06 2.06-.94-2.06-.94L8.5 2.5l-.94 2.06-2.06.94zm10 10l.94 2.06.94-2.06 2.06-.94-2.06-.94-.94-2.06-.94 2.06-2.06.94z\"/><path d=\"M17.41 7.96l-1.37-1.37c-.4-.4-.92-.59-1.43-.59-.52 0-1.04.2-1.43.59L10.3 9.45l-7.72 7.72c-.78.78-.78 2.05 0 2.83L4 21.41c.39.39.9.59 1.41.59.51 0 1.02-.2 1.41-.59l7.78-7.78 2.81-2.81c.8-.78.8-2.07 0-2.86zM5.41 20L4 18.59l7.72-7.72 1.47 1.35L5.41 20z\"/>\n",
              "  </svg>\n",
              "      </button>\n",
              "      \n",
              "  <style>\n",
              "    .colab-df-container {\n",
              "      display:flex;\n",
              "      flex-wrap:wrap;\n",
              "      gap: 12px;\n",
              "    }\n",
              "\n",
              "    .colab-df-convert {\n",
              "      background-color: #E8F0FE;\n",
              "      border: none;\n",
              "      border-radius: 50%;\n",
              "      cursor: pointer;\n",
              "      display: none;\n",
              "      fill: #1967D2;\n",
              "      height: 32px;\n",
              "      padding: 0 0 0 0;\n",
              "      width: 32px;\n",
              "    }\n",
              "\n",
              "    .colab-df-convert:hover {\n",
              "      background-color: #E2EBFA;\n",
              "      box-shadow: 0px 1px 2px rgba(60, 64, 67, 0.3), 0px 1px 3px 1px rgba(60, 64, 67, 0.15);\n",
              "      fill: #174EA6;\n",
              "    }\n",
              "\n",
              "    [theme=dark] .colab-df-convert {\n",
              "      background-color: #3B4455;\n",
              "      fill: #D2E3FC;\n",
              "    }\n",
              "\n",
              "    [theme=dark] .colab-df-convert:hover {\n",
              "      background-color: #434B5C;\n",
              "      box-shadow: 0px 1px 3px 1px rgba(0, 0, 0, 0.15);\n",
              "      filter: drop-shadow(0px 1px 2px rgba(0, 0, 0, 0.3));\n",
              "      fill: #FFFFFF;\n",
              "    }\n",
              "  </style>\n",
              "\n",
              "      <script>\n",
              "        const buttonEl =\n",
              "          document.querySelector('#df-6b6f6db6-7d90-4bff-a3fb-bec1a7b96e6b button.colab-df-convert');\n",
              "        buttonEl.style.display =\n",
              "          google.colab.kernel.accessAllowed ? 'block' : 'none';\n",
              "\n",
              "        async function convertToInteractive(key) {\n",
              "          const element = document.querySelector('#df-6b6f6db6-7d90-4bff-a3fb-bec1a7b96e6b');\n",
              "          const dataTable =\n",
              "            await google.colab.kernel.invokeFunction('convertToInteractive',\n",
              "                                                     [key], {});\n",
              "          if (!dataTable) return;\n",
              "\n",
              "          const docLinkHtml = 'Like what you see? Visit the ' +\n",
              "            '<a target=\"_blank\" href=https://colab.research.google.com/notebooks/data_table.ipynb>data table notebook</a>'\n",
              "            + ' to learn more about interactive tables.';\n",
              "          element.innerHTML = '';\n",
              "          dataTable['output_type'] = 'display_data';\n",
              "          await google.colab.output.renderOutput(dataTable, element);\n",
              "          const docLink = document.createElement('div');\n",
              "          docLink.innerHTML = docLinkHtml;\n",
              "          element.appendChild(docLink);\n",
              "        }\n",
              "      </script>\n",
              "    </div>\n",
              "  </div>\n",
              "  "
            ]
          },
          "metadata": {},
          "execution_count": 7
        }
      ]
    },
    {
      "cell_type": "code",
      "source": [
        "dataset.groupby('label').describe().T"
      ],
      "metadata": {
        "id": "cZIqGQ0Ygm5C",
        "colab": {
          "base_uri": "https://localhost:8080/",
          "height": 174
        },
        "outputId": "a0dd2fdf-497e-4b23-ba7b-cd36dc4a681c"
      },
      "execution_count": null,
      "outputs": [
        {
          "output_type": "execute_result",
          "data": {
            "text/plain": [
              "label                              ham  \\\n",
              "message count                     4824   \n",
              "        unique                    4514   \n",
              "        top     sorry, i'll call later   \n",
              "        freq                        30   \n",
              "\n",
              "label                                                        spam  \n",
              "message count                                                 747  \n",
              "        unique                                                642  \n",
              "        top     please call our customer service representativ...  \n",
              "        freq                                                    4  "
            ],
            "text/html": [
              "\n",
              "  <div id=\"df-0c8b02ab-4699-4239-93d2-71acb0d180fc\">\n",
              "    <div class=\"colab-df-container\">\n",
              "      <div>\n",
              "<style scoped>\n",
              "    .dataframe tbody tr th:only-of-type {\n",
              "        vertical-align: middle;\n",
              "    }\n",
              "\n",
              "    .dataframe tbody tr th {\n",
              "        vertical-align: top;\n",
              "    }\n",
              "\n",
              "    .dataframe thead th {\n",
              "        text-align: right;\n",
              "    }\n",
              "</style>\n",
              "<table border=\"1\" class=\"dataframe\">\n",
              "  <thead>\n",
              "    <tr style=\"text-align: right;\">\n",
              "      <th></th>\n",
              "      <th>label</th>\n",
              "      <th>ham</th>\n",
              "      <th>spam</th>\n",
              "    </tr>\n",
              "  </thead>\n",
              "  <tbody>\n",
              "    <tr>\n",
              "      <th rowspan=\"4\" valign=\"top\">message</th>\n",
              "      <th>count</th>\n",
              "      <td>4824</td>\n",
              "      <td>747</td>\n",
              "    </tr>\n",
              "    <tr>\n",
              "      <th>unique</th>\n",
              "      <td>4514</td>\n",
              "      <td>642</td>\n",
              "    </tr>\n",
              "    <tr>\n",
              "      <th>top</th>\n",
              "      <td>sorry, i'll call later</td>\n",
              "      <td>please call our customer service representativ...</td>\n",
              "    </tr>\n",
              "    <tr>\n",
              "      <th>freq</th>\n",
              "      <td>30</td>\n",
              "      <td>4</td>\n",
              "    </tr>\n",
              "  </tbody>\n",
              "</table>\n",
              "</div>\n",
              "      <button class=\"colab-df-convert\" onclick=\"convertToInteractive('df-0c8b02ab-4699-4239-93d2-71acb0d180fc')\"\n",
              "              title=\"Convert this dataframe to an interactive table.\"\n",
              "              style=\"display:none;\">\n",
              "        \n",
              "  <svg xmlns=\"http://www.w3.org/2000/svg\" height=\"24px\"viewBox=\"0 0 24 24\"\n",
              "       width=\"24px\">\n",
              "    <path d=\"M0 0h24v24H0V0z\" fill=\"none\"/>\n",
              "    <path d=\"M18.56 5.44l.94 2.06.94-2.06 2.06-.94-2.06-.94-.94-2.06-.94 2.06-2.06.94zm-11 1L8.5 8.5l.94-2.06 2.06-.94-2.06-.94L8.5 2.5l-.94 2.06-2.06.94zm10 10l.94 2.06.94-2.06 2.06-.94-2.06-.94-.94-2.06-.94 2.06-2.06.94z\"/><path d=\"M17.41 7.96l-1.37-1.37c-.4-.4-.92-.59-1.43-.59-.52 0-1.04.2-1.43.59L10.3 9.45l-7.72 7.72c-.78.78-.78 2.05 0 2.83L4 21.41c.39.39.9.59 1.41.59.51 0 1.02-.2 1.41-.59l7.78-7.78 2.81-2.81c.8-.78.8-2.07 0-2.86zM5.41 20L4 18.59l7.72-7.72 1.47 1.35L5.41 20z\"/>\n",
              "  </svg>\n",
              "      </button>\n",
              "      \n",
              "  <style>\n",
              "    .colab-df-container {\n",
              "      display:flex;\n",
              "      flex-wrap:wrap;\n",
              "      gap: 12px;\n",
              "    }\n",
              "\n",
              "    .colab-df-convert {\n",
              "      background-color: #E8F0FE;\n",
              "      border: none;\n",
              "      border-radius: 50%;\n",
              "      cursor: pointer;\n",
              "      display: none;\n",
              "      fill: #1967D2;\n",
              "      height: 32px;\n",
              "      padding: 0 0 0 0;\n",
              "      width: 32px;\n",
              "    }\n",
              "\n",
              "    .colab-df-convert:hover {\n",
              "      background-color: #E2EBFA;\n",
              "      box-shadow: 0px 1px 2px rgba(60, 64, 67, 0.3), 0px 1px 3px 1px rgba(60, 64, 67, 0.15);\n",
              "      fill: #174EA6;\n",
              "    }\n",
              "\n",
              "    [theme=dark] .colab-df-convert {\n",
              "      background-color: #3B4455;\n",
              "      fill: #D2E3FC;\n",
              "    }\n",
              "\n",
              "    [theme=dark] .colab-df-convert:hover {\n",
              "      background-color: #434B5C;\n",
              "      box-shadow: 0px 1px 3px 1px rgba(0, 0, 0, 0.15);\n",
              "      filter: drop-shadow(0px 1px 2px rgba(0, 0, 0, 0.3));\n",
              "      fill: #FFFFFF;\n",
              "    }\n",
              "  </style>\n",
              "\n",
              "      <script>\n",
              "        const buttonEl =\n",
              "          document.querySelector('#df-0c8b02ab-4699-4239-93d2-71acb0d180fc button.colab-df-convert');\n",
              "        buttonEl.style.display =\n",
              "          google.colab.kernel.accessAllowed ? 'block' : 'none';\n",
              "\n",
              "        async function convertToInteractive(key) {\n",
              "          const element = document.querySelector('#df-0c8b02ab-4699-4239-93d2-71acb0d180fc');\n",
              "          const dataTable =\n",
              "            await google.colab.kernel.invokeFunction('convertToInteractive',\n",
              "                                                     [key], {});\n",
              "          if (!dataTable) return;\n",
              "\n",
              "          const docLinkHtml = 'Like what you see? Visit the ' +\n",
              "            '<a target=\"_blank\" href=https://colab.research.google.com/notebooks/data_table.ipynb>data table notebook</a>'\n",
              "            + ' to learn more about interactive tables.';\n",
              "          element.innerHTML = '';\n",
              "          dataTable['output_type'] = 'display_data';\n",
              "          await google.colab.output.renderOutput(dataTable, element);\n",
              "          const docLink = document.createElement('div');\n",
              "          docLink.innerHTML = docLinkHtml;\n",
              "          element.appendChild(docLink);\n",
              "        }\n",
              "      </script>\n",
              "    </div>\n",
              "  </div>\n",
              "  "
            ]
          },
          "metadata": {},
          "execution_count": 8
        }
      ]
    },
    {
      "cell_type": "markdown",
      "source": [
        "since the training data is obviously imbalanced, we downsample the ham messages to get a balanced data"
      ],
      "metadata": {
        "id": "od6BM6JZhqCq"
      }
    },
    {
      "cell_type": "code",
      "source": [
        "ham_messages= dataset[dataset.label == 'ham']\n",
        "spam_messages= dataset[dataset.label == 'spam']\n",
        "ham_msg_df = ham_messages.sample(n = len(spam_messages), random_state = 44)\n",
        "spam_msg_df = spam_messages\n",
        "print(ham_msg_df.shape, spam_msg_df.shape)"
      ],
      "metadata": {
        "id": "xX7ZpO-GhxFm",
        "colab": {
          "base_uri": "https://localhost:8080/"
        },
        "outputId": "c7621278-54cd-4981-fdca-131e97b59418"
      },
      "execution_count": null,
      "outputs": [
        {
          "output_type": "stream",
          "name": "stdout",
          "text": [
            "(747, 2) (747, 2)\n"
          ]
        }
      ]
    },
    {
      "cell_type": "code",
      "source": [
        "df = ham_msg_df.append(spam_msg_df).reset_index(drop=True)"
      ],
      "metadata": {
        "id": "TaESNaG9iU85"
      },
      "execution_count": null,
      "outputs": []
    },
    {
      "cell_type": "code",
      "source": [
        "df"
      ],
      "metadata": {
        "id": "y34jXyvliXUf",
        "colab": {
          "base_uri": "https://localhost:8080/",
          "height": 423
        },
        "outputId": "09818fb0-19cd-4853-bbb9-3f07fa15a6fa"
      },
      "execution_count": null,
      "outputs": [
        {
          "output_type": "execute_result",
          "data": {
            "text/plain": [
              "     label                                            message\n",
              "0      ham        these won't do. have to move on to morphine\n",
              "1      ham                       love you aathi..love u lot..\n",
              "2      ham          that's cause your old. i live to be high.\n",
              "3      ham  no i'm in the same boat. still here at my moms...\n",
              "4      ham                           :( but your not here....\n",
              "...    ...                                                ...\n",
              "1489  spam  free msg: single? find a partner in your area!...\n",
              "1490  spam  free2day sexy st george's day pic of jordan!tx...\n",
              "1491  spam  you are a winner you have been specially selec...\n",
              "1492  spam  free entry into our £250 weekly competition ju...\n",
              "1493  spam  -pls stop bootydelious (32/f) is inviting you ...\n",
              "\n",
              "[1494 rows x 2 columns]"
            ],
            "text/html": [
              "\n",
              "  <div id=\"df-22ee1196-1cc7-4f50-9720-12485cee6bb4\">\n",
              "    <div class=\"colab-df-container\">\n",
              "      <div>\n",
              "<style scoped>\n",
              "    .dataframe tbody tr th:only-of-type {\n",
              "        vertical-align: middle;\n",
              "    }\n",
              "\n",
              "    .dataframe tbody tr th {\n",
              "        vertical-align: top;\n",
              "    }\n",
              "\n",
              "    .dataframe thead th {\n",
              "        text-align: right;\n",
              "    }\n",
              "</style>\n",
              "<table border=\"1\" class=\"dataframe\">\n",
              "  <thead>\n",
              "    <tr style=\"text-align: right;\">\n",
              "      <th></th>\n",
              "      <th>label</th>\n",
              "      <th>message</th>\n",
              "    </tr>\n",
              "  </thead>\n",
              "  <tbody>\n",
              "    <tr>\n",
              "      <th>0</th>\n",
              "      <td>ham</td>\n",
              "      <td>these won't do. have to move on to morphine</td>\n",
              "    </tr>\n",
              "    <tr>\n",
              "      <th>1</th>\n",
              "      <td>ham</td>\n",
              "      <td>love you aathi..love u lot..</td>\n",
              "    </tr>\n",
              "    <tr>\n",
              "      <th>2</th>\n",
              "      <td>ham</td>\n",
              "      <td>that's cause your old. i live to be high.</td>\n",
              "    </tr>\n",
              "    <tr>\n",
              "      <th>3</th>\n",
              "      <td>ham</td>\n",
              "      <td>no i'm in the same boat. still here at my moms...</td>\n",
              "    </tr>\n",
              "    <tr>\n",
              "      <th>4</th>\n",
              "      <td>ham</td>\n",
              "      <td>:( but your not here....</td>\n",
              "    </tr>\n",
              "    <tr>\n",
              "      <th>...</th>\n",
              "      <td>...</td>\n",
              "      <td>...</td>\n",
              "    </tr>\n",
              "    <tr>\n",
              "      <th>1489</th>\n",
              "      <td>spam</td>\n",
              "      <td>free msg: single? find a partner in your area!...</td>\n",
              "    </tr>\n",
              "    <tr>\n",
              "      <th>1490</th>\n",
              "      <td>spam</td>\n",
              "      <td>free2day sexy st george's day pic of jordan!tx...</td>\n",
              "    </tr>\n",
              "    <tr>\n",
              "      <th>1491</th>\n",
              "      <td>spam</td>\n",
              "      <td>you are a winner you have been specially selec...</td>\n",
              "    </tr>\n",
              "    <tr>\n",
              "      <th>1492</th>\n",
              "      <td>spam</td>\n",
              "      <td>free entry into our £250 weekly competition ju...</td>\n",
              "    </tr>\n",
              "    <tr>\n",
              "      <th>1493</th>\n",
              "      <td>spam</td>\n",
              "      <td>-pls stop bootydelious (32/f) is inviting you ...</td>\n",
              "    </tr>\n",
              "  </tbody>\n",
              "</table>\n",
              "<p>1494 rows × 2 columns</p>\n",
              "</div>\n",
              "      <button class=\"colab-df-convert\" onclick=\"convertToInteractive('df-22ee1196-1cc7-4f50-9720-12485cee6bb4')\"\n",
              "              title=\"Convert this dataframe to an interactive table.\"\n",
              "              style=\"display:none;\">\n",
              "        \n",
              "  <svg xmlns=\"http://www.w3.org/2000/svg\" height=\"24px\"viewBox=\"0 0 24 24\"\n",
              "       width=\"24px\">\n",
              "    <path d=\"M0 0h24v24H0V0z\" fill=\"none\"/>\n",
              "    <path d=\"M18.56 5.44l.94 2.06.94-2.06 2.06-.94-2.06-.94-.94-2.06-.94 2.06-2.06.94zm-11 1L8.5 8.5l.94-2.06 2.06-.94-2.06-.94L8.5 2.5l-.94 2.06-2.06.94zm10 10l.94 2.06.94-2.06 2.06-.94-2.06-.94-.94-2.06-.94 2.06-2.06.94z\"/><path d=\"M17.41 7.96l-1.37-1.37c-.4-.4-.92-.59-1.43-.59-.52 0-1.04.2-1.43.59L10.3 9.45l-7.72 7.72c-.78.78-.78 2.05 0 2.83L4 21.41c.39.39.9.59 1.41.59.51 0 1.02-.2 1.41-.59l7.78-7.78 2.81-2.81c.8-.78.8-2.07 0-2.86zM5.41 20L4 18.59l7.72-7.72 1.47 1.35L5.41 20z\"/>\n",
              "  </svg>\n",
              "      </button>\n",
              "      \n",
              "  <style>\n",
              "    .colab-df-container {\n",
              "      display:flex;\n",
              "      flex-wrap:wrap;\n",
              "      gap: 12px;\n",
              "    }\n",
              "\n",
              "    .colab-df-convert {\n",
              "      background-color: #E8F0FE;\n",
              "      border: none;\n",
              "      border-radius: 50%;\n",
              "      cursor: pointer;\n",
              "      display: none;\n",
              "      fill: #1967D2;\n",
              "      height: 32px;\n",
              "      padding: 0 0 0 0;\n",
              "      width: 32px;\n",
              "    }\n",
              "\n",
              "    .colab-df-convert:hover {\n",
              "      background-color: #E2EBFA;\n",
              "      box-shadow: 0px 1px 2px rgba(60, 64, 67, 0.3), 0px 1px 3px 1px rgba(60, 64, 67, 0.15);\n",
              "      fill: #174EA6;\n",
              "    }\n",
              "\n",
              "    [theme=dark] .colab-df-convert {\n",
              "      background-color: #3B4455;\n",
              "      fill: #D2E3FC;\n",
              "    }\n",
              "\n",
              "    [theme=dark] .colab-df-convert:hover {\n",
              "      background-color: #434B5C;\n",
              "      box-shadow: 0px 1px 3px 1px rgba(0, 0, 0, 0.15);\n",
              "      filter: drop-shadow(0px 1px 2px rgba(0, 0, 0, 0.3));\n",
              "      fill: #FFFFFF;\n",
              "    }\n",
              "  </style>\n",
              "\n",
              "      <script>\n",
              "        const buttonEl =\n",
              "          document.querySelector('#df-22ee1196-1cc7-4f50-9720-12485cee6bb4 button.colab-df-convert');\n",
              "        buttonEl.style.display =\n",
              "          google.colab.kernel.accessAllowed ? 'block' : 'none';\n",
              "\n",
              "        async function convertToInteractive(key) {\n",
              "          const element = document.querySelector('#df-22ee1196-1cc7-4f50-9720-12485cee6bb4');\n",
              "          const dataTable =\n",
              "            await google.colab.kernel.invokeFunction('convertToInteractive',\n",
              "                                                     [key], {});\n",
              "          if (!dataTable) return;\n",
              "\n",
              "          const docLinkHtml = 'Like what you see? Visit the ' +\n",
              "            '<a target=\"_blank\" href=https://colab.research.google.com/notebooks/data_table.ipynb>data table notebook</a>'\n",
              "            + ' to learn more about interactive tables.';\n",
              "          element.innerHTML = '';\n",
              "          dataTable['output_type'] = 'display_data';\n",
              "          await google.colab.output.renderOutput(dataTable, element);\n",
              "          const docLink = document.createElement('div');\n",
              "          docLink.innerHTML = docLinkHtml;\n",
              "          element.appendChild(docLink);\n",
              "        }\n",
              "      </script>\n",
              "    </div>\n",
              "  </div>\n",
              "  "
            ]
          },
          "metadata": {},
          "execution_count": 11
        }
      ]
    },
    {
      "cell_type": "code",
      "source": [
        "# Get length column for each text\n",
        "df['text_length'] = df['message'].apply(len)\n",
        "#Calculate average length by label types\n",
        "labels = df.groupby('label').mean()\n",
        "labels"
      ],
      "metadata": {
        "id": "BxRVhPi6lR3k",
        "colab": {
          "base_uri": "https://localhost:8080/",
          "height": 143
        },
        "outputId": "6d255770-80e7-42a9-8389-e86b0279d417"
      },
      "execution_count": null,
      "outputs": [
        {
          "output_type": "execute_result",
          "data": {
            "text/plain": [
              "       text_length\n",
              "label             \n",
              "ham      70.716198\n",
              "spam    138.601071"
            ],
            "text/html": [
              "\n",
              "  <div id=\"df-f9267416-4ef3-43be-b421-20eb11bdc216\">\n",
              "    <div class=\"colab-df-container\">\n",
              "      <div>\n",
              "<style scoped>\n",
              "    .dataframe tbody tr th:only-of-type {\n",
              "        vertical-align: middle;\n",
              "    }\n",
              "\n",
              "    .dataframe tbody tr th {\n",
              "        vertical-align: top;\n",
              "    }\n",
              "\n",
              "    .dataframe thead th {\n",
              "        text-align: right;\n",
              "    }\n",
              "</style>\n",
              "<table border=\"1\" class=\"dataframe\">\n",
              "  <thead>\n",
              "    <tr style=\"text-align: right;\">\n",
              "      <th></th>\n",
              "      <th>text_length</th>\n",
              "    </tr>\n",
              "    <tr>\n",
              "      <th>label</th>\n",
              "      <th></th>\n",
              "    </tr>\n",
              "  </thead>\n",
              "  <tbody>\n",
              "    <tr>\n",
              "      <th>ham</th>\n",
              "      <td>70.716198</td>\n",
              "    </tr>\n",
              "    <tr>\n",
              "      <th>spam</th>\n",
              "      <td>138.601071</td>\n",
              "    </tr>\n",
              "  </tbody>\n",
              "</table>\n",
              "</div>\n",
              "      <button class=\"colab-df-convert\" onclick=\"convertToInteractive('df-f9267416-4ef3-43be-b421-20eb11bdc216')\"\n",
              "              title=\"Convert this dataframe to an interactive table.\"\n",
              "              style=\"display:none;\">\n",
              "        \n",
              "  <svg xmlns=\"http://www.w3.org/2000/svg\" height=\"24px\"viewBox=\"0 0 24 24\"\n",
              "       width=\"24px\">\n",
              "    <path d=\"M0 0h24v24H0V0z\" fill=\"none\"/>\n",
              "    <path d=\"M18.56 5.44l.94 2.06.94-2.06 2.06-.94-2.06-.94-.94-2.06-.94 2.06-2.06.94zm-11 1L8.5 8.5l.94-2.06 2.06-.94-2.06-.94L8.5 2.5l-.94 2.06-2.06.94zm10 10l.94 2.06.94-2.06 2.06-.94-2.06-.94-.94-2.06-.94 2.06-2.06.94z\"/><path d=\"M17.41 7.96l-1.37-1.37c-.4-.4-.92-.59-1.43-.59-.52 0-1.04.2-1.43.59L10.3 9.45l-7.72 7.72c-.78.78-.78 2.05 0 2.83L4 21.41c.39.39.9.59 1.41.59.51 0 1.02-.2 1.41-.59l7.78-7.78 2.81-2.81c.8-.78.8-2.07 0-2.86zM5.41 20L4 18.59l7.72-7.72 1.47 1.35L5.41 20z\"/>\n",
              "  </svg>\n",
              "      </button>\n",
              "      \n",
              "  <style>\n",
              "    .colab-df-container {\n",
              "      display:flex;\n",
              "      flex-wrap:wrap;\n",
              "      gap: 12px;\n",
              "    }\n",
              "\n",
              "    .colab-df-convert {\n",
              "      background-color: #E8F0FE;\n",
              "      border: none;\n",
              "      border-radius: 50%;\n",
              "      cursor: pointer;\n",
              "      display: none;\n",
              "      fill: #1967D2;\n",
              "      height: 32px;\n",
              "      padding: 0 0 0 0;\n",
              "      width: 32px;\n",
              "    }\n",
              "\n",
              "    .colab-df-convert:hover {\n",
              "      background-color: #E2EBFA;\n",
              "      box-shadow: 0px 1px 2px rgba(60, 64, 67, 0.3), 0px 1px 3px 1px rgba(60, 64, 67, 0.15);\n",
              "      fill: #174EA6;\n",
              "    }\n",
              "\n",
              "    [theme=dark] .colab-df-convert {\n",
              "      background-color: #3B4455;\n",
              "      fill: #D2E3FC;\n",
              "    }\n",
              "\n",
              "    [theme=dark] .colab-df-convert:hover {\n",
              "      background-color: #434B5C;\n",
              "      box-shadow: 0px 1px 3px 1px rgba(0, 0, 0, 0.15);\n",
              "      filter: drop-shadow(0px 1px 2px rgba(0, 0, 0, 0.3));\n",
              "      fill: #FFFFFF;\n",
              "    }\n",
              "  </style>\n",
              "\n",
              "      <script>\n",
              "        const buttonEl =\n",
              "          document.querySelector('#df-f9267416-4ef3-43be-b421-20eb11bdc216 button.colab-df-convert');\n",
              "        buttonEl.style.display =\n",
              "          google.colab.kernel.accessAllowed ? 'block' : 'none';\n",
              "\n",
              "        async function convertToInteractive(key) {\n",
              "          const element = document.querySelector('#df-f9267416-4ef3-43be-b421-20eb11bdc216');\n",
              "          const dataTable =\n",
              "            await google.colab.kernel.invokeFunction('convertToInteractive',\n",
              "                                                     [key], {});\n",
              "          if (!dataTable) return;\n",
              "\n",
              "          const docLinkHtml = 'Like what you see? Visit the ' +\n",
              "            '<a target=\"_blank\" href=https://colab.research.google.com/notebooks/data_table.ipynb>data table notebook</a>'\n",
              "            + ' to learn more about interactive tables.';\n",
              "          element.innerHTML = '';\n",
              "          dataTable['output_type'] = 'display_data';\n",
              "          await google.colab.output.renderOutput(dataTable, element);\n",
              "          const docLink = document.createElement('div');\n",
              "          docLink.innerHTML = docLinkHtml;\n",
              "          element.appendChild(docLink);\n",
              "        }\n",
              "      </script>\n",
              "    </div>\n",
              "  </div>\n",
              "  "
            ]
          },
          "metadata": {},
          "execution_count": 12
        }
      ]
    },
    {
      "cell_type": "code",
      "source": [
        "text_length=df.pop('text_length')"
      ],
      "metadata": {
        "id": "WPU3Qg_Tloau"
      },
      "execution_count": null,
      "outputs": []
    },
    {
      "cell_type": "code",
      "source": [
        "text_length"
      ],
      "metadata": {
        "id": "6K5GugBPl1Cb",
        "colab": {
          "base_uri": "https://localhost:8080/"
        },
        "outputId": "e568e886-0305-4509-d652-f2f798d0c247"
      },
      "execution_count": null,
      "outputs": [
        {
          "output_type": "execute_result",
          "data": {
            "text/plain": [
              "0        43\n",
              "1        28\n",
              "2        41\n",
              "3        83\n",
              "4        24\n",
              "       ... \n",
              "1489    151\n",
              "1490    154\n",
              "1491    157\n",
              "1492    106\n",
              "1493    152\n",
              "Name: text_length, Length: 1494, dtype: int64"
            ]
          },
          "metadata": {},
          "execution_count": 14
        }
      ]
    },
    {
      "cell_type": "code",
      "source": [
        "df"
      ],
      "metadata": {
        "id": "Pia2_ouu3QpI",
        "colab": {
          "base_uri": "https://localhost:8080/",
          "height": 423
        },
        "outputId": "ea0e7ebf-9078-4849-b5de-85c5c7f070be"
      },
      "execution_count": null,
      "outputs": [
        {
          "output_type": "execute_result",
          "data": {
            "text/plain": [
              "     label                                            message\n",
              "0      ham        these won't do. have to move on to morphine\n",
              "1      ham                       love you aathi..love u lot..\n",
              "2      ham          that's cause your old. i live to be high.\n",
              "3      ham  no i'm in the same boat. still here at my moms...\n",
              "4      ham                           :( but your not here....\n",
              "...    ...                                                ...\n",
              "1489  spam  free msg: single? find a partner in your area!...\n",
              "1490  spam  free2day sexy st george's day pic of jordan!tx...\n",
              "1491  spam  you are a winner you have been specially selec...\n",
              "1492  spam  free entry into our £250 weekly competition ju...\n",
              "1493  spam  -pls stop bootydelious (32/f) is inviting you ...\n",
              "\n",
              "[1494 rows x 2 columns]"
            ],
            "text/html": [
              "\n",
              "  <div id=\"df-2d9d5939-bb4c-41d8-bdfe-18ae4a4b7ed8\">\n",
              "    <div class=\"colab-df-container\">\n",
              "      <div>\n",
              "<style scoped>\n",
              "    .dataframe tbody tr th:only-of-type {\n",
              "        vertical-align: middle;\n",
              "    }\n",
              "\n",
              "    .dataframe tbody tr th {\n",
              "        vertical-align: top;\n",
              "    }\n",
              "\n",
              "    .dataframe thead th {\n",
              "        text-align: right;\n",
              "    }\n",
              "</style>\n",
              "<table border=\"1\" class=\"dataframe\">\n",
              "  <thead>\n",
              "    <tr style=\"text-align: right;\">\n",
              "      <th></th>\n",
              "      <th>label</th>\n",
              "      <th>message</th>\n",
              "    </tr>\n",
              "  </thead>\n",
              "  <tbody>\n",
              "    <tr>\n",
              "      <th>0</th>\n",
              "      <td>ham</td>\n",
              "      <td>these won't do. have to move on to morphine</td>\n",
              "    </tr>\n",
              "    <tr>\n",
              "      <th>1</th>\n",
              "      <td>ham</td>\n",
              "      <td>love you aathi..love u lot..</td>\n",
              "    </tr>\n",
              "    <tr>\n",
              "      <th>2</th>\n",
              "      <td>ham</td>\n",
              "      <td>that's cause your old. i live to be high.</td>\n",
              "    </tr>\n",
              "    <tr>\n",
              "      <th>3</th>\n",
              "      <td>ham</td>\n",
              "      <td>no i'm in the same boat. still here at my moms...</td>\n",
              "    </tr>\n",
              "    <tr>\n",
              "      <th>4</th>\n",
              "      <td>ham</td>\n",
              "      <td>:( but your not here....</td>\n",
              "    </tr>\n",
              "    <tr>\n",
              "      <th>...</th>\n",
              "      <td>...</td>\n",
              "      <td>...</td>\n",
              "    </tr>\n",
              "    <tr>\n",
              "      <th>1489</th>\n",
              "      <td>spam</td>\n",
              "      <td>free msg: single? find a partner in your area!...</td>\n",
              "    </tr>\n",
              "    <tr>\n",
              "      <th>1490</th>\n",
              "      <td>spam</td>\n",
              "      <td>free2day sexy st george's day pic of jordan!tx...</td>\n",
              "    </tr>\n",
              "    <tr>\n",
              "      <th>1491</th>\n",
              "      <td>spam</td>\n",
              "      <td>you are a winner you have been specially selec...</td>\n",
              "    </tr>\n",
              "    <tr>\n",
              "      <th>1492</th>\n",
              "      <td>spam</td>\n",
              "      <td>free entry into our £250 weekly competition ju...</td>\n",
              "    </tr>\n",
              "    <tr>\n",
              "      <th>1493</th>\n",
              "      <td>spam</td>\n",
              "      <td>-pls stop bootydelious (32/f) is inviting you ...</td>\n",
              "    </tr>\n",
              "  </tbody>\n",
              "</table>\n",
              "<p>1494 rows × 2 columns</p>\n",
              "</div>\n",
              "      <button class=\"colab-df-convert\" onclick=\"convertToInteractive('df-2d9d5939-bb4c-41d8-bdfe-18ae4a4b7ed8')\"\n",
              "              title=\"Convert this dataframe to an interactive table.\"\n",
              "              style=\"display:none;\">\n",
              "        \n",
              "  <svg xmlns=\"http://www.w3.org/2000/svg\" height=\"24px\"viewBox=\"0 0 24 24\"\n",
              "       width=\"24px\">\n",
              "    <path d=\"M0 0h24v24H0V0z\" fill=\"none\"/>\n",
              "    <path d=\"M18.56 5.44l.94 2.06.94-2.06 2.06-.94-2.06-.94-.94-2.06-.94 2.06-2.06.94zm-11 1L8.5 8.5l.94-2.06 2.06-.94-2.06-.94L8.5 2.5l-.94 2.06-2.06.94zm10 10l.94 2.06.94-2.06 2.06-.94-2.06-.94-.94-2.06-.94 2.06-2.06.94z\"/><path d=\"M17.41 7.96l-1.37-1.37c-.4-.4-.92-.59-1.43-.59-.52 0-1.04.2-1.43.59L10.3 9.45l-7.72 7.72c-.78.78-.78 2.05 0 2.83L4 21.41c.39.39.9.59 1.41.59.51 0 1.02-.2 1.41-.59l7.78-7.78 2.81-2.81c.8-.78.8-2.07 0-2.86zM5.41 20L4 18.59l7.72-7.72 1.47 1.35L5.41 20z\"/>\n",
              "  </svg>\n",
              "      </button>\n",
              "      \n",
              "  <style>\n",
              "    .colab-df-container {\n",
              "      display:flex;\n",
              "      flex-wrap:wrap;\n",
              "      gap: 12px;\n",
              "    }\n",
              "\n",
              "    .colab-df-convert {\n",
              "      background-color: #E8F0FE;\n",
              "      border: none;\n",
              "      border-radius: 50%;\n",
              "      cursor: pointer;\n",
              "      display: none;\n",
              "      fill: #1967D2;\n",
              "      height: 32px;\n",
              "      padding: 0 0 0 0;\n",
              "      width: 32px;\n",
              "    }\n",
              "\n",
              "    .colab-df-convert:hover {\n",
              "      background-color: #E2EBFA;\n",
              "      box-shadow: 0px 1px 2px rgba(60, 64, 67, 0.3), 0px 1px 3px 1px rgba(60, 64, 67, 0.15);\n",
              "      fill: #174EA6;\n",
              "    }\n",
              "\n",
              "    [theme=dark] .colab-df-convert {\n",
              "      background-color: #3B4455;\n",
              "      fill: #D2E3FC;\n",
              "    }\n",
              "\n",
              "    [theme=dark] .colab-df-convert:hover {\n",
              "      background-color: #434B5C;\n",
              "      box-shadow: 0px 1px 3px 1px rgba(0, 0, 0, 0.15);\n",
              "      filter: drop-shadow(0px 1px 2px rgba(0, 0, 0, 0.3));\n",
              "      fill: #FFFFFF;\n",
              "    }\n",
              "  </style>\n",
              "\n",
              "      <script>\n",
              "        const buttonEl =\n",
              "          document.querySelector('#df-2d9d5939-bb4c-41d8-bdfe-18ae4a4b7ed8 button.colab-df-convert');\n",
              "        buttonEl.style.display =\n",
              "          google.colab.kernel.accessAllowed ? 'block' : 'none';\n",
              "\n",
              "        async function convertToInteractive(key) {\n",
              "          const element = document.querySelector('#df-2d9d5939-bb4c-41d8-bdfe-18ae4a4b7ed8');\n",
              "          const dataTable =\n",
              "            await google.colab.kernel.invokeFunction('convertToInteractive',\n",
              "                                                     [key], {});\n",
              "          if (!dataTable) return;\n",
              "\n",
              "          const docLinkHtml = 'Like what you see? Visit the ' +\n",
              "            '<a target=\"_blank\" href=https://colab.research.google.com/notebooks/data_table.ipynb>data table notebook</a>'\n",
              "            + ' to learn more about interactive tables.';\n",
              "          element.innerHTML = '';\n",
              "          dataTable['output_type'] = 'display_data';\n",
              "          await google.colab.output.renderOutput(dataTable, element);\n",
              "          const docLink = document.createElement('div');\n",
              "          docLink.innerHTML = docLinkHtml;\n",
              "          element.appendChild(docLink);\n",
              "        }\n",
              "      </script>\n",
              "    </div>\n",
              "  </div>\n",
              "  "
            ]
          },
          "metadata": {},
          "execution_count": 15
        }
      ]
    },
    {
      "cell_type": "code",
      "source": [
        "df['label']= df['label'].map({'ham': 0, 'spam': 1})\n",
        "df"
      ],
      "metadata": {
        "id": "o8Iq1QPr3CdT",
        "colab": {
          "base_uri": "https://localhost:8080/",
          "height": 423
        },
        "outputId": "8361ee18-3e36-4e06-f78f-be805fdda279"
      },
      "execution_count": null,
      "outputs": [
        {
          "output_type": "execute_result",
          "data": {
            "text/plain": [
              "      label                                            message\n",
              "0         0        these won't do. have to move on to morphine\n",
              "1         0                       love you aathi..love u lot..\n",
              "2         0          that's cause your old. i live to be high.\n",
              "3         0  no i'm in the same boat. still here at my moms...\n",
              "4         0                           :( but your not here....\n",
              "...     ...                                                ...\n",
              "1489      1  free msg: single? find a partner in your area!...\n",
              "1490      1  free2day sexy st george's day pic of jordan!tx...\n",
              "1491      1  you are a winner you have been specially selec...\n",
              "1492      1  free entry into our £250 weekly competition ju...\n",
              "1493      1  -pls stop bootydelious (32/f) is inviting you ...\n",
              "\n",
              "[1494 rows x 2 columns]"
            ],
            "text/html": [
              "\n",
              "  <div id=\"df-ccd46541-1e64-4add-a989-b57f259696fd\">\n",
              "    <div class=\"colab-df-container\">\n",
              "      <div>\n",
              "<style scoped>\n",
              "    .dataframe tbody tr th:only-of-type {\n",
              "        vertical-align: middle;\n",
              "    }\n",
              "\n",
              "    .dataframe tbody tr th {\n",
              "        vertical-align: top;\n",
              "    }\n",
              "\n",
              "    .dataframe thead th {\n",
              "        text-align: right;\n",
              "    }\n",
              "</style>\n",
              "<table border=\"1\" class=\"dataframe\">\n",
              "  <thead>\n",
              "    <tr style=\"text-align: right;\">\n",
              "      <th></th>\n",
              "      <th>label</th>\n",
              "      <th>message</th>\n",
              "    </tr>\n",
              "  </thead>\n",
              "  <tbody>\n",
              "    <tr>\n",
              "      <th>0</th>\n",
              "      <td>0</td>\n",
              "      <td>these won't do. have to move on to morphine</td>\n",
              "    </tr>\n",
              "    <tr>\n",
              "      <th>1</th>\n",
              "      <td>0</td>\n",
              "      <td>love you aathi..love u lot..</td>\n",
              "    </tr>\n",
              "    <tr>\n",
              "      <th>2</th>\n",
              "      <td>0</td>\n",
              "      <td>that's cause your old. i live to be high.</td>\n",
              "    </tr>\n",
              "    <tr>\n",
              "      <th>3</th>\n",
              "      <td>0</td>\n",
              "      <td>no i'm in the same boat. still here at my moms...</td>\n",
              "    </tr>\n",
              "    <tr>\n",
              "      <th>4</th>\n",
              "      <td>0</td>\n",
              "      <td>:( but your not here....</td>\n",
              "    </tr>\n",
              "    <tr>\n",
              "      <th>...</th>\n",
              "      <td>...</td>\n",
              "      <td>...</td>\n",
              "    </tr>\n",
              "    <tr>\n",
              "      <th>1489</th>\n",
              "      <td>1</td>\n",
              "      <td>free msg: single? find a partner in your area!...</td>\n",
              "    </tr>\n",
              "    <tr>\n",
              "      <th>1490</th>\n",
              "      <td>1</td>\n",
              "      <td>free2day sexy st george's day pic of jordan!tx...</td>\n",
              "    </tr>\n",
              "    <tr>\n",
              "      <th>1491</th>\n",
              "      <td>1</td>\n",
              "      <td>you are a winner you have been specially selec...</td>\n",
              "    </tr>\n",
              "    <tr>\n",
              "      <th>1492</th>\n",
              "      <td>1</td>\n",
              "      <td>free entry into our £250 weekly competition ju...</td>\n",
              "    </tr>\n",
              "    <tr>\n",
              "      <th>1493</th>\n",
              "      <td>1</td>\n",
              "      <td>-pls stop bootydelious (32/f) is inviting you ...</td>\n",
              "    </tr>\n",
              "  </tbody>\n",
              "</table>\n",
              "<p>1494 rows × 2 columns</p>\n",
              "</div>\n",
              "      <button class=\"colab-df-convert\" onclick=\"convertToInteractive('df-ccd46541-1e64-4add-a989-b57f259696fd')\"\n",
              "              title=\"Convert this dataframe to an interactive table.\"\n",
              "              style=\"display:none;\">\n",
              "        \n",
              "  <svg xmlns=\"http://www.w3.org/2000/svg\" height=\"24px\"viewBox=\"0 0 24 24\"\n",
              "       width=\"24px\">\n",
              "    <path d=\"M0 0h24v24H0V0z\" fill=\"none\"/>\n",
              "    <path d=\"M18.56 5.44l.94 2.06.94-2.06 2.06-.94-2.06-.94-.94-2.06-.94 2.06-2.06.94zm-11 1L8.5 8.5l.94-2.06 2.06-.94-2.06-.94L8.5 2.5l-.94 2.06-2.06.94zm10 10l.94 2.06.94-2.06 2.06-.94-2.06-.94-.94-2.06-.94 2.06-2.06.94z\"/><path d=\"M17.41 7.96l-1.37-1.37c-.4-.4-.92-.59-1.43-.59-.52 0-1.04.2-1.43.59L10.3 9.45l-7.72 7.72c-.78.78-.78 2.05 0 2.83L4 21.41c.39.39.9.59 1.41.59.51 0 1.02-.2 1.41-.59l7.78-7.78 2.81-2.81c.8-.78.8-2.07 0-2.86zM5.41 20L4 18.59l7.72-7.72 1.47 1.35L5.41 20z\"/>\n",
              "  </svg>\n",
              "      </button>\n",
              "      \n",
              "  <style>\n",
              "    .colab-df-container {\n",
              "      display:flex;\n",
              "      flex-wrap:wrap;\n",
              "      gap: 12px;\n",
              "    }\n",
              "\n",
              "    .colab-df-convert {\n",
              "      background-color: #E8F0FE;\n",
              "      border: none;\n",
              "      border-radius: 50%;\n",
              "      cursor: pointer;\n",
              "      display: none;\n",
              "      fill: #1967D2;\n",
              "      height: 32px;\n",
              "      padding: 0 0 0 0;\n",
              "      width: 32px;\n",
              "    }\n",
              "\n",
              "    .colab-df-convert:hover {\n",
              "      background-color: #E2EBFA;\n",
              "      box-shadow: 0px 1px 2px rgba(60, 64, 67, 0.3), 0px 1px 3px 1px rgba(60, 64, 67, 0.15);\n",
              "      fill: #174EA6;\n",
              "    }\n",
              "\n",
              "    [theme=dark] .colab-df-convert {\n",
              "      background-color: #3B4455;\n",
              "      fill: #D2E3FC;\n",
              "    }\n",
              "\n",
              "    [theme=dark] .colab-df-convert:hover {\n",
              "      background-color: #434B5C;\n",
              "      box-shadow: 0px 1px 3px 1px rgba(0, 0, 0, 0.15);\n",
              "      filter: drop-shadow(0px 1px 2px rgba(0, 0, 0, 0.3));\n",
              "      fill: #FFFFFF;\n",
              "    }\n",
              "  </style>\n",
              "\n",
              "      <script>\n",
              "        const buttonEl =\n",
              "          document.querySelector('#df-ccd46541-1e64-4add-a989-b57f259696fd button.colab-df-convert');\n",
              "        buttonEl.style.display =\n",
              "          google.colab.kernel.accessAllowed ? 'block' : 'none';\n",
              "\n",
              "        async function convertToInteractive(key) {\n",
              "          const element = document.querySelector('#df-ccd46541-1e64-4add-a989-b57f259696fd');\n",
              "          const dataTable =\n",
              "            await google.colab.kernel.invokeFunction('convertToInteractive',\n",
              "                                                     [key], {});\n",
              "          if (!dataTable) return;\n",
              "\n",
              "          const docLinkHtml = 'Like what you see? Visit the ' +\n",
              "            '<a target=\"_blank\" href=https://colab.research.google.com/notebooks/data_table.ipynb>data table notebook</a>'\n",
              "            + ' to learn more about interactive tables.';\n",
              "          element.innerHTML = '';\n",
              "          dataTable['output_type'] = 'display_data';\n",
              "          await google.colab.output.renderOutput(dataTable, element);\n",
              "          const docLink = document.createElement('div');\n",
              "          docLink.innerHTML = docLinkHtml;\n",
              "          element.appendChild(docLink);\n",
              "        }\n",
              "      </script>\n",
              "    </div>\n",
              "  </div>\n",
              "  "
            ]
          },
          "metadata": {},
          "execution_count": 16
        }
      ]
    },
    {
      "cell_type": "code",
      "source": [
        "from sklearn.model_selection import train_test_split"
      ],
      "metadata": {
        "id": "75yYFak73xhw"
      },
      "execution_count": null,
      "outputs": []
    },
    {
      "cell_type": "code",
      "source": [
        "train_text, test_text, y_train, y_test = train_test_split(df['message'], df['label'], test_size=0.2, random_state=434)"
      ],
      "metadata": {
        "id": "qwlqmcwi3baV"
      },
      "execution_count": null,
      "outputs": []
    },
    {
      "cell_type": "code",
      "source": [
        "train_text.shape"
      ],
      "metadata": {
        "id": "TFCAVf054C91",
        "colab": {
          "base_uri": "https://localhost:8080/"
        },
        "outputId": "2b7b34b5-89ea-4dbb-d7c3-34cd2d7a3315"
      },
      "execution_count": null,
      "outputs": [
        {
          "output_type": "execute_result",
          "data": {
            "text/plain": [
              "(1195,)"
            ]
          },
          "metadata": {},
          "execution_count": 19
        }
      ]
    },
    {
      "cell_type": "code",
      "source": [
        "test_text.shape"
      ],
      "metadata": {
        "id": "CaGWY56y4-hr",
        "colab": {
          "base_uri": "https://localhost:8080/"
        },
        "outputId": "39063adb-e0b1-4686-ff71-28f14860d2c0"
      },
      "execution_count": null,
      "outputs": [
        {
          "output_type": "execute_result",
          "data": {
            "text/plain": [
              "(299,)"
            ]
          },
          "metadata": {},
          "execution_count": 20
        }
      ]
    },
    {
      "cell_type": "code",
      "source": [
        "y_train"
      ],
      "metadata": {
        "id": "jrOqmhql4YJc",
        "colab": {
          "base_uri": "https://localhost:8080/"
        },
        "outputId": "8edae6f3-8c7d-40c4-f075-ef5b1bc671c7"
      },
      "execution_count": null,
      "outputs": [
        {
          "output_type": "execute_result",
          "data": {
            "text/plain": [
              "794     1\n",
              "1074    1\n",
              "1108    1\n",
              "1085    1\n",
              "1315    1\n",
              "       ..\n",
              "197     0\n",
              "917     1\n",
              "1349    1\n",
              "1144    1\n",
              "1458    1\n",
              "Name: label, Length: 1195, dtype: int64"
            ]
          },
          "metadata": {},
          "execution_count": 21
        }
      ]
    },
    {
      "cell_type": "code",
      "source": [
        "y_test"
      ],
      "metadata": {
        "id": "YgbIUHb14Zgq",
        "colab": {
          "base_uri": "https://localhost:8080/"
        },
        "outputId": "2210effd-44ce-4ffe-f43f-7f2729d977a0"
      },
      "execution_count": null,
      "outputs": [
        {
          "output_type": "execute_result",
          "data": {
            "text/plain": [
              "205     0\n",
              "694     0\n",
              "183     0\n",
              "1379    1\n",
              "703     0\n",
              "       ..\n",
              "428     0\n",
              "775     1\n",
              "1130    1\n",
              "1434    1\n",
              "918     1\n",
              "Name: label, Length: 299, dtype: int64"
            ]
          },
          "metadata": {},
          "execution_count": 22
        }
      ]
    },
    {
      "cell_type": "code",
      "source": [
        "#Tokenization\n",
        "max_len = 100 \n",
        "trunc_type = \"post\" \n",
        "padding_type = \"post\" \n",
        "oov_tok = \"<OOV>\" \n",
        "vocab_size = 500\n",
        "tokenizer = Tokenizer(num_words = vocab_size, char_level=False, oov_token = oov_tok)\n",
        "tokenizer.fit_on_texts(train_text)"
      ],
      "metadata": {
        "id": "evsz64AckiS3"
      },
      "execution_count": null,
      "outputs": []
    },
    {
      "cell_type": "code",
      "source": [
        "#Counting the number of words\n",
        "word_index = tokenizer.word_index\n",
        "tot_words = len(word_index)\n",
        "print('There are %s unique tokens in training data. ' % tot_words)"
      ],
      "metadata": {
        "id": "5_NjXEffnmLY",
        "colab": {
          "base_uri": "https://localhost:8080/"
        },
        "outputId": "e38c94d4-4d26-44b7-8862-2b237e118481"
      },
      "execution_count": null,
      "outputs": [
        {
          "output_type": "stream",
          "name": "stdout",
          "text": [
            "There are 4137 unique tokens in training data. \n"
          ]
        }
      ]
    },
    {
      "cell_type": "code",
      "source": [
        "#Sequencing and padding\n",
        "train_seq = tokenizer.texts_to_sequences(train_text)\n",
        "train_pad = pad_sequences (train_seq, maxlen = max_len, padding = padding_type, truncating = trunc_type )\n",
        "\n",
        "\n",
        "test_seq = tokenizer.texts_to_sequences(test_text)\n",
        "test_pad = pad_sequences(test_seq, maxlen = max_len,\n",
        "padding = padding_type, truncating = trunc_type)"
      ],
      "metadata": {
        "id": "iBMY6vIRo0vJ"
      },
      "execution_count": null,
      "outputs": []
    },
    {
      "cell_type": "code",
      "source": [
        "print('Shape of training tensor: ', train_pad.shape)\n",
        "print('Shape of testing tensor: ', test_pad.shape)"
      ],
      "metadata": {
        "id": "5oKJ1h6Ipcl8",
        "colab": {
          "base_uri": "https://localhost:8080/"
        },
        "outputId": "168bdca5-43a8-4e13-ce76-5fdd4efae685"
      },
      "execution_count": null,
      "outputs": [
        {
          "output_type": "stream",
          "name": "stdout",
          "text": [
            "Shape of training tensor:  (1195, 100)\n",
            "Shape of testing tensor:  (299, 100)\n"
          ]
        }
      ]
    },
    {
      "cell_type": "code",
      "source": [
        "print(train_seq)"
      ],
      "metadata": {
        "id": "7AB6YTujJO1C",
        "colab": {
          "base_uri": "https://localhost:8080/"
        },
        "outputId": "a7a94ad7-fa74-4752-ec20-6488a53e9366"
      },
      "execution_count": null,
      "outputs": [
        {
          "output_type": "stream",
          "name": "stdout",
          "text": [
            "[[67, 74, 5, 1, 24, 139, 232, 56, 14, 4, 1, 25, 1, 1, 149, 270, 189, 62, 106, 255, 190, 1, 150, 90, 1], [35, 75, 1, 68, 25, 21, 170, 111, 65, 36, 22, 1, 2, 1, 171, 68, 16, 52, 31, 1, 12, 13, 127, 21, 420, 63, 68, 90, 39, 1, 1], [67, 74, 5, 1, 24, 139, 8, 1, 421, 25, 1, 149, 14, 1, 56, 270, 189, 255, 62, 106, 132, 1, 1, 1, 1], [140, 120, 1, 21, 1, 191, 1, 83, 1, 15, 1, 7, 1, 1, 103, 22, 103, 2, 233, 12, 63, 1, 296, 297, 234, 374, 462, 1], [1, 2, 69, 34, 1, 28, 77, 10, 16, 1, 3, 16, 1, 2, 1, 1, 1, 1, 48, 63, 1, 2, 1, 47, 58, 33, 2, 1], [256, 6, 375, 6, 1, 41, 1, 1, 271], [1, 57, 6, 422, 58, 15, 21, 1, 1, 1, 298], [74, 5, 45, 93, 79, 463, 18, 1, 1, 1, 1, 423, 1, 1, 76, 3, 20, 59, 4, 87, 141, 56, 14, 232, 49], [335, 206, 1, 5, 12, 1, 36, 1, 97, 107, 1, 317, 151, 132, 1, 1, 1, 1, 1, 222], [1, 1, 235, 8, 1, 1, 100, 4, 5, 24, 1, 257, 1, 5, 1, 2, 1, 8, 98], [192, 6, 70, 1, 46, 207, 464, 19, 29, 52, 35, 1], [318, 299, 79, 1, 1, 1, 1], [53, 3, 336, 4, 1, 1, 17, 133, 60, 61, 319, 128, 1, 26, 1, 46, 44, 1, 1, 80, 29, 37, 193, 1], [26, 1, 10, 48, 1, 1, 50, 58, 11, 7, 1, 2, 1, 142, 41, 3, 1], [113, 236, 11, 8, 1, 32, 1, 194, 1, 42, 424, 237, 1, 1, 238, 27, 33, 35, 1, 300, 208, 1, 424, 1, 1, 1], [41, 3, 81, 239, 337, 101, 195, 114, 1, 32, 13, 4, 54, 152, 88, 11, 38, 1, 240, 97, 65, 5, 1, 12, 14, 39, 11, 196, 197], [1, 1, 1, 69, 1, 1, 1, 1, 160, 15, 40, 3, 1, 8, 40, 109, 320, 10, 1], [1, 1, 338, 6, 1, 45, 1, 1, 211, 65], [1, 1, 2, 212, 43, 376, 1, 25, 1], [102, 1, 3, 1, 26, 1], [153, 11, 8, 143, 321, 1, 109, 1, 8, 34, 46, 44, 377, 25, 82, 339, 8, 68, 51, 1, 74, 5, 93, 236, 1], [31, 7, 1, 1, 340, 143, 14, 241, 425, 18, 1, 34, 11, 1, 378, 32, 68, 14, 425, 2, 1, 1, 22, 1, 33, 1, 1, 118, 82], [64, 4, 141, 56, 49, 14, 4, 49, 322, 232], [209, 55, 1, 1, 1, 1, 1], [1, 1, 1, 1, 2, 1, 11, 113, 52, 129, 23, 1, 11, 1, 1, 36, 76, 4, 341, 121, 2, 198, 4, 1, 18, 71, 129, 1, 173, 301], [6, 55, 144, 30, 80, 120, 1, 60, 61, 1, 43, 19, 26, 1], [123, 1, 6, 1, 2, 341], [242, 1, 465, 1, 27, 1, 23, 213, 2, 154, 4, 379, 342, 53, 3, 20, 4, 1, 74, 5, 1, 1, 40, 145, 1, 1, 1, 160], [41, 3, 81, 4, 54, 66, 1, 241, 88, 1, 197, 27, 1, 16, 319, 2, 101, 34, 318, 16, 32, 16, 323, 39, 14, 5, 272], [1, 1, 343, 10, 1, 3, 2, 44, 161, 380, 39, 162, 1, 14, 35, 1, 163, 161, 42, 113, 381, 9, 1, 33, 47, 33, 1, 2, 1], [84, 6, 58, 1, 273], [140, 1, 1, 93, 1, 155, 7, 54, 1, 34, 24, 38, 426, 48, 1, 22, 164, 427, 2, 35, 1, 31, 223, 12, 1], [146, 274, 1, 2, 40, 28, 466, 155, 48, 8, 1, 74, 58, 2, 243, 42, 1, 91, 69, 32, 428, 106, 160], [1, 1, 50, 302, 1, 298, 12], [192, 1, 13, 382, 1, 89], [1, 303, 467, 4, 72, 1, 57, 192, 3, 70, 26, 1, 1, 48, 1, 1], [1, 1, 1, 54, 17, 69, 6, 468, 1, 27, 69, 1, 53, 9, 100, 344, 27, 29, 32, 1, 2, 1, 99, 1, 22, 171, 1, 118, 82, 1, 1], [41, 3, 81, 4, 54, 152, 1, 239, 101, 98, 101, 195, 114, 429, 32, 323, 39, 14, 5, 12, 272, 11, 1, 1, 165], [1, 66, 214, 1, 1, 68, 1, 2, 224, 469, 68, 1, 2, 224, 1, 1, 1, 1, 1, 1, 42, 470, 91, 69, 1, 63], [3, 23, 87, 7, 134, 66, 88, 4, 1, 383, 1, 384, 14, 4, 275, 49, 22, 164, 180, 2, 35, 1, 1, 1, 63, 1], [142, 19, 7, 1, 17, 1, 1, 80, 471, 1, 1, 37, 1, 1, 1, 1, 4, 1, 430, 1], [28, 122, 10, 1, 2, 3, 92, 1, 317, 13, 10, 51, 1, 2, 7], [23, 3, 7, 1, 1, 17, 7, 1, 14, 71], [1, 7, 1, 94, 110, 207, 37, 1, 69, 1, 64, 1, 1, 1, 1, 27, 1, 258, 22, 258, 2, 1, 1, 317, 345, 1], [11, 21, 135, 2, 64, 4, 276, 346, 277, 1, 22, 341, 2, 1, 472, 244, 42, 22, 15, 341, 86, 431, 1, 1, 172], [16, 174, 17, 15, 4, 199, 473, 11, 4, 135, 2, 64, 124, 383, 22, 1, 2, 1, 2, 31, 174, 385, 22, 166, 62, 244, 160, 1, 11, 474, 99], [1, 31, 181, 175, 3, 23, 51, 1, 8, 1, 43, 19, 28, 1, 1, 17, 4, 234], [16, 429, 1, 1, 475, 15, 8, 34, 22, 1, 2, 1, 31, 16, 1, 11, 1, 1, 108, 1, 1, 97, 95, 22, 33, 1, 28, 77, 10, 16], [89, 1, 72, 1, 1, 30, 1, 2, 1], [1, 5, 9, 1, 48, 1, 27, 26, 1, 37, 1, 1, 1, 476, 33, 1, 29, 15, 1, 1, 222, 1], [1, 26, 112, 102, 1, 8, 95, 23, 3, 1, 6, 225, 19, 3, 26, 1, 13, 47, 4, 1, 2, 8, 304, 2, 1, 3, 6, 112, 3, 55, 3, 336, 30, 6, 1, 30, 1, 7, 1, 11, 89, 7, 1, 2, 336, 1, 1, 1, 10, 1, 13, 1, 1, 1, 1], [245, 8, 477, 176, 278, 11, 1, 136, 1, 1, 215, 279, 2, 40, 5, 1, 280, 145, 1, 259], [1, 1, 83, 1, 4, 1, 1, 1], [67, 67, 50, 20, 347, 16, 1, 2, 1, 2, 198, 1, 5, 1, 1, 1, 207, 4, 380, 25, 16, 5, 12, 2, 40, 18, 1, 1], [1, 1, 1, 1, 175, 1, 4, 54, 1, 19, 335, 1, 11, 45, 1, 2, 31, 11, 16, 36, 1, 1, 7, 182, 1, 305, 2, 21, 1], [16, 122, 1, 31, 7, 1, 1, 1, 12, 11, 340, 32, 1, 11, 260, 32, 1, 2, 1, 348, 1, 1, 11, 36, 137, 1, 65, 90, 38, 62, 244, 160], [246, 19, 324, 432, 1, 10, 51, 1, 10, 30, 478], [1, 349, 138, 1, 142, 108, 6, 100, 138], [8, 1, 274, 479, 96, 1, 350, 10, 1, 480, 1, 42, 1, 86, 11, 481, 482, 2, 306, 43, 39, 33, 93, 464, 5, 1], [1, 1, 1, 1, 1], [1, 349, 307, 71, 1, 1, 1, 1, 1, 2, 226, 1, 183, 1, 343, 1, 22, 226, 183, 14, 343, 2, 1, 12, 25, 135, 15, 64, 200, 56, 1, 1], [1, 308, 7, 60, 61, 1], [16, 174, 325, 45, 276, 199, 473, 36, 47, 7, 164, 64, 2, 1, 12, 99, 62, 96, 42, 1, 91, 69], [46, 167, 173, 119, 2, 1, 1, 210], [1, 51, 119, 1, 386], [433, 15, 34, 1, 1, 94, 223, 5, 1, 12, 1, 1, 21, 326, 216, 1, 247, 1, 1, 261, 1, 1, 1, 1, 1, 1], [28, 10, 7, 217, 98, 50, 20, 309, 15, 78, 9, 9, 20, 59, 7, 239, 1, 49, 15, 40, 10, 483, 5, 1, 12, 38, 227, 97, 107, 327, 228, 166], [16, 11, 171, 65, 484, 66, 68, 25, 21, 170, 111, 65, 36, 22, 66, 2, 224, 31, 387, 13, 127, 21, 326, 42, 470, 91, 69, 262, 1, 1, 1, 68, 90], [9, 20, 4, 485, 486, 85, 10, 434, 15, 144, 78, 27, 9, 115, 43, 85, 129, 94, 435, 85, 487, 21, 52, 184, 5, 18, 1], [1, 310, 281, 218, 125, 488, 134, 147, 436, 25, 16, 156, 8, 88, 1, 5, 1, 16, 18, 1, 2, 263, 12, 1], [71, 94, 9, 1, 29, 11, 1], [351, 125, 489, 17, 112, 6, 46, 352, 1, 7, 95, 6, 55, 1, 9, 14, 7, 95, 9, 1, 37, 9, 1, 1, 29, 1], [16, 122, 153, 11, 1, 7, 282, 1, 79, 99, 63, 1, 15, 1, 124, 282, 22, 43, 15, 238, 22, 33, 1, 1], [353, 21, 126, 201, 19, 1, 248, 14, 1, 87, 16, 174, 15, 318, 346, 104, 22, 261, 2, 388, 1, 42, 490, 1], [72, 72, 1, 326, 89, 1, 36, 83, 1, 328, 185, 354, 1], [1, 1, 9, 389, 29, 15, 58, 1, 468, 25, 9], [1, 271, 437, 19, 324, 1, 355, 1, 1, 335, 1, 128, 1, 344, 1], [168, 1, 1, 43, 168, 1, 29, 168, 235, 44, 283, 13, 1, 1, 29, 13, 108, 6, 1, 336, 4, 164, 24, 249], [1, 218, 93, 3, 390, 12, 40, 8, 16, 147, 88, 1, 11, 8, 1, 5, 12, 18, 1, 1, 1, 155, 1, 1, 1, 62, 244, 160, 306, 43, 1], [263, 12, 1, 310, 281, 218, 125, 488, 1, 5, 284, 18, 285, 14, 391, 1], [491, 6, 20, 59, 1, 109, 1, 1, 41, 6, 41, 182], [1, 84, 177, 1, 11, 100, 124, 1, 438, 26, 1, 10, 311, 1], [478, 30, 10, 1, 13, 53, 3, 31, 4, 1, 1, 13, 160, 11, 1, 3, 31, 1, 19, 1, 52, 30, 1, 356, 1], [1, 50, 23, 264, 2, 78, 3, 211, 1, 104, 136, 37, 3, 59, 4, 141, 49, 87, 5, 1, 40, 145, 1, 186, 286, 38, 150], [53, 6, 492, 3, 41, 28, 6, 81, 3, 17, 7, 1, 92, 1], [1, 1, 1, 9], [76, 4, 1, 1, 1, 21, 104, 25, 200, 287, 274, 46, 44, 1, 18, 1, 19, 4, 1, 1, 2, 1, 1, 484, 17, 7, 1, 1], [64, 7, 1, 1, 1, 13, 7, 321, 19, 7, 1, 1, 202, 39, 1, 392, 202, 1, 135, 2, 44, 7, 376, 1, 1], [123, 2, 44, 4, 1, 10, 30, 84, 53, 50, 265, 1, 191, 6, 1, 283, 1, 17, 1, 13, 37, 1, 6, 1, 1, 101, 19, 1, 1, 13, 37, 1, 89, 26, 98, 1, 13, 37, 123], [147, 3, 23, 126, 4, 1, 1, 147, 5, 1, 1, 139, 196, 1, 1, 312], [9, 339, 144, 4, 1, 1], [113, 282, 4, 1, 54, 66, 1, 10, 80, 25, 282, 116, 282, 10, 16, 15, 308, 207, 357, 22, 66, 2, 1, 12], [1, 67, 28, 10, 7, 217, 219, 2, 78, 9, 9, 20, 59, 1, 5, 1, 1, 1, 62, 1, 1, 150, 1, 1, 82], [1, 51, 1, 101, 130, 439, 24, 7, 103, 1, 11, 16, 1, 236, 32, 58, 2, 1, 53, 9, 31, 313, 9, 1, 1, 1, 27, 440, 195, 441, 328], [1, 437, 437, 229, 1, 19, 226, 95, 26, 146, 1, 304, 229, 1, 146], [50, 309, 2, 5, 3, 442, 8, 39, 2, 45, 113, 11, 4, 152, 34, 239, 114, 429, 32, 16, 323, 39, 14, 5, 12, 272, 1, 1], [9, 302, 1, 92, 1, 18, 7, 1, 1, 1, 15, 1, 328, 493, 113, 381, 1, 15, 266, 1, 1, 39, 266, 43], [1, 1, 41, 20, 2, 1, 18, 2, 1], [50, 1, 2, 1, 9, 37, 7, 1, 121, 1, 4, 1, 9, 302, 1, 1, 1, 74, 1, 15, 1, 1, 1, 1, 1, 50, 94, 123, 25, 7, 1], [1, 1, 314, 168, 432, 29, 84, 138], [21, 143, 79, 121, 1, 1, 16, 1, 58, 2, 1, 86, 2, 443, 393, 12, 33, 22, 258, 33, 2, 1, 63, 172, 1, 151, 1, 1, 1], [245, 8, 358, 176, 278, 11, 136, 347, 359, 394, 178, 6, 288, 279, 5, 1, 280, 145, 1, 259, 1, 250, 395], [3, 360, 110, 101, 98, 396], [28, 10, 7, 217, 98, 50, 20, 309, 15, 78, 9, 9, 20, 59, 7, 239, 1, 49, 15, 40, 10, 483, 5, 1, 12, 38, 227, 97, 107, 327, 228, 166], [1, 44, 120, 18, 60, 61, 84], [14, 36, 41, 37, 1], [1, 177, 163, 3, 17, 4, 1], [67, 50, 23, 264, 2, 78, 9, 242, 104, 136, 37, 3, 20, 59, 4, 267, 49, 87, 5, 1, 24, 251, 125, 40, 1, 186, 286, 38], [35, 75, 1, 68, 25, 21, 170, 111, 65, 36, 22, 1, 2, 1, 171, 68, 16, 52, 31, 1, 12, 13, 127, 21, 420, 63, 68, 90, 39, 1, 1], [9, 1, 157, 55, 58, 277], [494, 21, 1, 1, 477, 15, 25, 75, 155, 31, 124, 1, 425, 1, 68, 18, 21, 88, 1, 18, 7, 1, 79, 122, 11, 345], [84, 1, 313, 1], [31, 8, 1, 361, 11, 1, 27, 4, 16, 1, 19, 1, 1, 13, 1, 322, 1, 82, 38, 27, 7, 1, 28, 444, 2, 33, 1, 1, 91, 69], [81, 15, 31, 1, 397, 81, 260, 495, 1, 305, 475, 15, 21, 170, 308, 7, 1, 1, 495, 195, 327, 387, 1, 2, 1, 1, 1, 1, 77, 63], [146, 1, 6, 1, 362, 5, 1, 1, 1, 1, 12, 48, 1, 210, 1, 34, 17, 1, 1, 1, 1, 229, 1], [7, 257, 1, 10, 1, 7, 257, 77, 10, 112, 7, 257, 1, 10, 1, 1, 4, 1, 329, 1, 289, 1, 9, 1, 257], [1, 52, 283, 57, 6, 158, 2, 58, 169, 31, 220, 1], [23, 3, 28, 363, 1], [23, 3, 84, 71, 1, 2, 1, 100, 28], [140, 34, 35, 60, 61, 121, 1, 3, 17, 1, 78, 1, 18, 42, 1, 86, 30, 178, 4, 148, 398, 2, 47, 16, 113, 2, 445, 11, 130, 493, 1, 86], [399, 179, 9, 6, 36, 117, 75, 19, 1, 152, 330, 1, 39, 1, 2, 28, 22, 1, 47, 9, 26, 355, 1, 80, 364, 52, 1, 48, 212, 331, 99, 63, 496, 1], [1, 9, 80, 15, 1], [1, 1, 9], [222, 222, 105, 46, 3, 198, 1], [335, 206, 1, 5, 12, 1, 36, 1, 97, 107, 1, 317, 151, 132, 1, 1, 1, 1, 1, 10, 4, 228, 166, 5], [6, 193, 70, 9, 13, 9, 193, 70, 29, 47, 103, 2, 233, 12, 13, 1, 115, 471, 400, 38, 63, 77, 496, 401, 296, 297, 234, 374, 462, 99, 1, 14, 181], [1, 1, 53, 142, 55, 41, 30, 9, 271, 55, 41, 30, 53, 1, 55, 41, 30, 9, 1, 41, 30, 1, 1, 53, 142, 55, 41, 30, 492, 249, 41, 30, 53, 1, 55, 41, 30, 497, 30, 13, 1, 1, 1, 53, 142, 55, 41, 30, 33, 249, 252, 30, 53, 1, 55, 41, 30, 144, 4, 1, 1, 30], [2, 95, 1, 10, 120, 23, 35, 1], [72, 430, 26, 146, 20, 4, 148, 289, 1, 95], [1, 6, 165, 52, 177, 497, 1, 1], [1, 80, 8, 170, 27, 4, 1, 189, 19, 4, 1, 330, 122, 1, 4, 16, 1, 68, 22, 1, 1, 2, 224, 1, 1, 97, 1, 330], [16, 66, 14, 402, 27, 1, 1, 75, 1, 1, 201, 16, 365, 237, 114, 1, 1, 16, 1, 5, 284, 18, 1, 14, 5, 1, 1], [156, 8, 34, 250, 1, 263, 2, 134, 218, 147, 152, 436, 11, 16, 1, 1, 27, 16, 221, 498, 403, 32, 162, 11, 4, 1, 1, 2, 306, 43], [1, 7, 1, 209, 7, 266, 19, 1, 1, 10], [332, 311, 185, 3, 144, 30, 18, 1, 1, 8, 1], [3, 23, 4, 141, 333, 14, 87, 404, 49, 28, 10, 45, 290, 219, 2, 78, 3, 2, 40, 5, 1, 12, 1], [1, 3, 70, 29, 52, 192], [1, 1, 12, 22, 1, 14, 1, 21, 405, 1, 469, 1, 1, 99, 2, 224, 2, 308, 13, 31, 1], [153, 11, 8, 1, 2, 143, 69, 8, 34, 46, 44, 377, 1, 329, 74, 1, 92, 1, 162, 14, 35, 53, 3, 39, 35, 3, 46, 51, 44, 377], [1, 7, 1, 1, 1, 104, 76, 8, 1], [41, 3, 81, 4, 54, 152, 88, 1, 337, 101, 195, 114, 1, 1, 152, 403, 13, 1, 202, 97, 65, 16, 1, 5, 1, 14, 39, 12], [140, 28, 10, 1, 1, 1, 24, 1, 1, 3, 23, 1, 2, 154, 232, 446, 17, 45, 1, 49, 104, 74, 1, 1, 2, 40, 406, 1, 350, 1, 14, 8, 49, 46, 44, 1, 2, 230, 1], [179, 6, 165, 311, 1, 81, 2, 103, 14, 163, 29, 1, 32, 335, 2, 1, 32, 377, 48, 1, 2, 238, 32, 33, 1], [353, 9, 55, 40, 15, 1, 234, 4, 1, 15, 96, 1, 17, 1, 17, 1, 14, 1, 287, 87, 5, 1, 2, 40, 428, 106, 42, 1, 237, 1, 1], [113, 282, 3, 20, 59, 4, 66, 1, 28, 10, 71, 3, 31, 105, 3, 64, 45, 16, 282, 2, 207, 357, 47, 66, 2, 1, 12, 401, 296, 297, 234, 1, 90], [31, 361, 11, 60, 61, 1, 19, 1], [1, 31, 130, 1, 1, 13, 247, 24, 42, 1, 86, 1, 345, 1, 91, 69], [28, 122, 10, 16, 1, 2, 7, 54, 1, 1, 495, 258, 2, 238, 24, 28, 79, 39, 33, 439, 63, 99, 38], [3, 20, 59, 4, 87, 141, 56, 14, 4, 267, 49, 2, 40, 440, 49, 5, 45, 93, 79, 463, 18, 1, 423, 1, 1, 187, 227], [1, 443, 24, 1, 19, 1, 214, 471, 172, 28, 10, 4, 1, 79, 27, 199, 214, 1, 1, 9, 20, 142, 482, 1, 110, 13, 354], [53, 3, 1, 7, 1, 162], [67, 8, 34, 109, 59, 4, 267, 215, 404, 49, 18, 250, 1, 350, 28, 10, 7, 217, 219, 2, 1, 3, 5, 1, 1, 132, 1, 150], [225, 21, 1, 64, 1, 28, 65, 17, 45, 199, 307, 32, 216, 2, 1, 12, 62, 106, 1, 151, 132, 1, 1, 1, 90, 1, 82, 65], [194, 33, 1, 1, 343, 10, 1, 3, 2, 44, 161, 380, 39, 162, 1, 14, 35, 1, 163, 161, 42, 113, 381, 9, 1, 33, 47, 33, 1, 2, 1], [51, 1, 24, 1, 4, 499, 5, 25, 1, 103, 245, 125, 1, 2, 1, 389, 1, 355, 19, 29, 1, 1, 108, 32, 1, 2, 1, 1, 47, 33, 1, 1, 331], [231, 114, 13, 366, 25, 1, 16, 1, 18, 218, 1, 18, 1, 66, 402, 436, 5, 284, 18, 285, 14, 391, 1], [67, 3, 20, 59, 4, 75, 65, 16, 1, 17, 45, 200, 203, 49, 1, 22, 7, 164, 40, 2, 35, 1, 62, 96, 42, 1, 237, 1, 262, 1], [31, 4, 16, 34, 152, 384, 16, 1, 2, 180, 32, 58, 2, 1, 128, 16, 1, 1, 55, 44, 1, 472, 13, 244, 160, 99, 1, 38], [35, 1, 128, 51, 1, 26, 1, 117, 491, 1, 1, 73, 1, 9, 53, 9, 1, 1, 26, 1, 1, 9, 1, 44, 1, 60, 61, 1, 13, 1, 44, 1, 60, 61, 1, 6, 55, 104, 26, 1, 1, 30, 10, 60, 61, 1], [48, 407, 50, 46, 58, 84, 1], [1, 21, 1, 117, 35, 1, 1, 168, 303, 1, 1, 159, 328, 2, 207, 4, 468, 96, 117, 4, 51], [50, 70, 230, 85, 3, 70, 37, 1, 3, 5, 1, 2, 115, 43, 85, 262, 348, 1, 63], [1, 74, 39, 27, 8, 1, 13, 1, 2, 1, 183, 301, 1], [16, 214, 204, 3, 1, 8, 54, 393, 32, 33, 2, 1, 2, 238, 208, 1, 1, 92, 1, 91, 69], [1, 80, 21, 170, 27, 4, 1, 189, 19, 66, 1, 330, 122, 1, 4, 16, 1, 68, 22, 1, 1, 2, 224], [21, 447, 10, 12, 275, 21, 182, 408, 10, 85, 1, 1, 1, 17, 7, 1, 15, 392, 22, 21, 392, 2, 1, 72, 1], [50, 309, 2, 78, 3, 442, 8, 39, 2, 45, 155, 19, 239, 114, 1, 1, 4, 54, 152, 88, 5, 1, 12, 14, 39, 11, 16, 196, 197], [333, 76, 4, 448, 195, 93, 3, 20, 83, 213, 2, 1, 1, 49, 342, 2, 40, 5, 1, 40, 145, 1, 186, 1, 1, 38], [449, 1, 6, 20, 1, 1, 13, 1, 1, 2, 3, 1, 1, 207, 464, 1, 1], [229, 54, 409, 204, 3, 23, 1, 4, 72, 1], [102, 1, 23, 3, 1], [1, 1, 1, 44, 181, 17, 4, 1, 36, 1, 246, 1, 43], [51, 1, 24, 1, 4, 499, 5, 25, 1, 103, 245, 125, 1, 2, 1, 389, 1, 355, 19, 29, 1, 1, 108, 32, 1, 2, 1, 1, 47, 33, 1, 1, 331], [1, 1, 204, 9, 94, 450], [1], [1, 26, 112, 71, 23, 3, 252, 185, 3, 31, 2, 37, 1, 116, 23, 3, 3, 229, 23, 3, 1, 4, 72, 1, 41, 3, 225, 19, 29, 23, 3, 1, 29], [113, 236, 11, 8, 1, 32, 1, 194, 1, 42, 424, 237, 1, 238, 27, 33, 35, 1, 300, 208, 1, 151, 1, 1, 1], [67, 50, 23, 264, 2, 78, 9, 242, 104, 136, 37, 3, 20, 59, 4, 451, 49, 87, 5, 1, 24, 251, 125, 40, 1, 151, 1], [153, 11, 8, 143, 321, 1, 109, 1, 8, 34, 46, 44, 377, 25, 82, 339, 8, 68, 51, 1, 74, 5, 93, 236, 1], [67, 8, 34, 35, 131, 126, 267, 215, 404, 49, 18, 202, 452, 350, 28, 10, 45, 290, 441, 2, 78, 9, 5, 24, 139, 1, 1, 150], [55, 3, 453, 1, 1, 11, 1, 3, 47, 324, 1, 11], [222, 222, 454, 6, 131, 17, 1], [137, 16, 1, 221, 115, 43, 133, 8, 112, 356, 12, 441, 137, 11, 16, 32, 135, 2, 1, 90, 38, 253, 137, 16, 439, 118, 82, 471], [1, 177, 497, 17, 4, 1, 319, 289, 492, 3, 70, 105, 6, 31, 2, 1], [36, 1, 4, 1, 1, 1, 14, 1, 9, 31, 2, 362], [3, 20, 124, 367, 93, 79, 1, 24, 1, 5, 1, 455, 1, 1, 12], [193, 173, 1, 173, 1, 229, 38, 1, 103, 79, 27, 1, 1, 5, 1, 227, 107, 15, 33, 45, 221, 5, 1], [456, 6, 20, 83, 283, 17, 1, 1, 11, 7, 1, 1, 1, 13, 156, 2, 410, 4, 60, 61, 300, 6, 1, 30, 235, 44, 1, 19, 29, 2, 1, 133, 411, 3, 198, 48, 148, 187, 2, 1, 13, 467, 205, 6, 1, 1, 80, 6, 1, 165, 17, 4, 1, 13, 476, 44, 1, 2, 410, 7, 300, 28, 329, 1, 26, 1, 192, 1, 19, 1, 266, 55, 3, 74, 208, 153], [179, 1, 1, 9, 1, 185, 9, 1, 72, 149, 1, 1, 1, 365], [1, 1, 9, 1, 43, 1], [50, 309, 2, 78, 3, 442, 45, 155, 19, 54, 152, 88, 239, 337, 101, 195, 114, 310, 281, 488, 323, 5, 272, 14, 39, 11, 196, 1], [1, 30, 119, 117, 101, 1, 1, 1, 1, 1, 73, 1, 1, 2, 216, 1, 28, 1, 1, 1, 1], [313, 6, 1, 37, 1, 7, 491, 1, 8, 176, 175, 7, 1, 46, 1, 128, 1, 166, 230, 1, 60, 61, 2, 26, 176, 13, 60, 61, 1, 117, 1, 52, 7, 1, 1, 13, 1, 273, 1, 44, 1, 3, 1, 7, 1, 1, 3, 23, 1, 176, 474, 2, 438], [16, 11, 171, 65, 484, 66, 68, 25, 21, 170, 111, 65, 36, 22, 66, 2, 224, 31, 387, 13, 127, 21, 326, 42, 470, 91, 69, 262, 1, 1, 1, 68, 90], [1, 59, 1, 2, 7, 1, 1, 290, 14, 451, 56, 2, 180, 5, 1, 1, 262, 1], [6, 1, 1, 1, 210, 17, 7, 132], [71, 41, 9, 1, 76, 158, 15, 1, 1, 53, 9, 1, 41, 30, 153], [52, 1, 144, 30, 444, 14, 1, 76, 97, 1], [3, 23, 1, 1, 92, 45, 299, 79, 92, 230, 3, 70, 2, 115, 43, 85, 30, 10, 5, 24, 4, 251, 125, 1, 1], [62, 34, 93, 3, 390, 12, 40, 8, 16, 147, 88, 1, 4, 410, 58, 1, 1, 11, 8, 1, 5, 18, 1, 1, 1, 155, 1, 1, 62, 244, 160], [67, 21, 126, 4, 421, 1, 2, 1, 1, 1, 1, 14, 141, 2, 40, 22, 1, 2, 1, 99, 348, 118, 82, 1, 1, 250, 1, 1], [67, 5, 1, 24, 139, 8, 421, 25, 1, 149, 14, 426, 203, 56, 270, 189, 255, 62, 106, 132, 1, 1, 1, 150, 99], [6, 382, 9, 1, 363, 9, 1, 1, 102, 184, 9, 94, 15, 29, 1, 9, 1, 382, 9, 331], [1, 12, 231, 114, 13, 1, 366, 18, 218, 1, 134, 402, 1, 66, 1, 16, 5, 284, 18, 285, 14, 391, 1], [1, 6, 1, 1, 2, 8, 1, 28, 430, 6, 291, 3, 271, 26, 112, 6, 204, 8, 95, 1, 192, 13, 3, 23, 229, 6, 352, 11, 268, 2, 44, 1, 328], [1, 72, 65, 1, 4, 1, 14, 411, 256], [16, 77, 31, 1, 1, 1, 143, 1, 16, 36, 39, 58, 2, 28, 122, 298, 12], [450, 6, 291, 3, 254, 363], [1, 1, 1, 1, 13, 1, 1, 1], [1, 1, 1, 1, 1, 1, 187, 1, 1, 1, 2, 1, 5, 1], [84], [1, 1, 10, 17, 220, 1], [6, 81, 246, 1, 26, 1, 1, 6, 158, 4, 260, 1, 15, 1, 29, 22, 1, 2, 1, 11, 35, 1, 1, 22, 33, 15, 266, 22, 1, 118, 1, 1, 1, 1, 1], [6, 1, 167, 1, 58, 210, 92, 1, 438, 177, 173, 119, 43, 277, 25, 26, 1, 1], [93, 1, 155, 7, 54, 1, 34, 24, 38, 426, 48, 1, 22, 164, 427, 2, 35, 1, 31, 223, 12, 1, 1, 457, 63, 1], [1, 19, 332, 1, 1, 4, 1, 1, 4, 382, 1, 18, 4, 1, 57, 1, 18, 161, 1, 1, 1, 4, 1, 226], [12, 1, 1, 253, 37, 38, 6, 55, 159], [73, 311, 123, 6, 1, 8, 1, 18, 1], [257, 1, 21, 126, 1, 275, 1, 287, 248, 16, 174, 15, 94, 200, 199, 104, 22, 261, 2, 388, 1, 42, 490, 1], [6, 305, 26, 1, 2, 1, 13, 6, 156, 2, 41, 1, 1, 11, 4, 1, 1, 6, 225, 53, 3, 23, 1, 19, 1, 41, 4, 1, 18, 187, 273, 78, 1, 1, 161, 1, 10, 142, 29, 7, 1, 1, 1], [375, 71, 1, 3, 70, 1, 1, 3, 1, 115, 43, 85, 30, 10, 198, 268, 4, 5, 18, 1, 24, 139, 1, 63, 107, 99], [1, 440, 1, 31, 1, 19, 1, 1, 331, 355, 18, 440, 88, 12, 1, 1, 2, 1, 1, 317, 1, 1, 1, 1, 97, 202, 312, 1, 1], [1, 1, 15, 1, 75, 1, 65, 17, 1, 1, 117, 1, 1, 18, 54, 1, 1, 57, 6, 131, 1, 129, 302, 1, 9, 1, 48, 1, 1, 26, 212, 1, 1, 15, 1], [21, 56, 447, 10, 412, 201, 240, 2, 1, 21, 56, 17, 12, 47, 58, 2, 233, 38, 63, 77, 1, 1, 151, 132, 1, 1, 1, 1], [1, 1, 48, 1, 10, 37, 1, 18, 1, 1, 1, 1, 1, 92, 1, 84], [433, 15, 34, 1, 1, 94, 223, 5, 1, 12, 1, 1, 8, 326, 216, 1, 247, 1, 1, 261, 1, 1], [55, 6, 31, 8, 1, 18, 411, 376], [1, 1, 368, 53, 9, 55, 171, 314, 19, 265, 25, 1, 1, 9, 169, 249, 265, 55, 386, 138, 14, 9, 389, 15, 58, 368, 220, 1, 171, 108, 1, 479, 29, 1], [53, 3, 55, 144, 30, 101, 98, 397, 14, 1, 3, 55, 334, 1, 36, 32, 29, 1, 1, 1], [1, 2, 31, 8, 16, 1, 32, 304, 2, 1, 12, 62, 96, 160, 90, 38, 158, 208, 5, 1], [46, 41, 3, 1, 44, 48, 1, 89, 191, 6, 1, 44, 1, 2, 31, 43, 19, 175, 4, 1, 1], [84], [1, 64, 4, 265, 1, 27, 1, 25, 9, 14, 4, 1, 129, 23, 412, 18, 71, 1, 75, 1, 15, 1, 137, 1, 32, 75, 15, 14, 137, 2, 1, 187, 1, 385, 32], [1, 353, 17, 28, 1, 1, 104, 9, 20, 59, 7, 1, 49, 2, 40, 36, 5, 1, 1, 62, 106, 33, 113, 1, 181, 99, 38, 150], [5, 249, 13, 303, 3, 51, 1, 116, 84, 13, 127, 324, 51, 2, 1, 29, 100, 28, 84], [1, 6, 159, 2, 31, 1], [35, 57, 7, 1, 384, 55], [123, 35, 20, 117, 1, 1, 2, 41, 390, 44, 17, 1, 256], [179, 9, 157, 48, 7, 1], [1, 3, 70, 10, 264, 2, 78, 3, 1, 45, 299, 79, 2, 115, 43, 85, 30, 369, 44, 5, 24, 8, 34, 14, 139, 1, 1], [1, 1, 1, 96, 1, 1, 17, 1, 28, 1, 1, 1, 31, 75, 16, 1, 1, 36, 494, 77, 1, 1, 186, 25, 407, 1, 96, 62, 96, 1, 39, 1, 25, 1, 1, 370], [314, 1, 17, 209, 31], [229, 54, 409, 26, 146, 1, 6, 311, 41, 291, 3, 36, 117, 8, 109, 13, 1, 2, 47, 3, 28, 32, 1, 3, 38, 1, 1], [67, 367, 1, 11, 1, 1, 116, 10, 8, 1, 95, 15, 115, 43, 205, 480, 1, 243, 42, 1, 86, 120, 10, 4, 1, 1, 1, 11, 3], [245, 8, 358, 176, 278, 11, 1, 136, 347, 359, 394, 178, 6, 288, 279, 5, 1, 280, 145, 1, 259, 1, 250, 395], [6, 70, 1, 1, 1, 13, 1, 70, 6, 117, 30, 1, 1, 3, 72, 191], [242, 1, 465, 1, 1, 23, 213, 2, 154, 4, 1, 190, 53, 3, 1, 4, 1, 74, 5, 1, 1, 40, 145, 1, 1, 1, 1], [6, 1, 1, 182, 1, 55], [52, 55, 180, 21, 1], [1, 109, 1, 21, 126, 4, 1, 1, 13, 369, 64, 4, 1, 1, 277, 1, 111, 172, 22, 1, 2, 1, 1, 1, 1, 118, 1], [73, 119, 15, 1, 12, 1, 29, 1, 396, 9, 1], [339, 6, 20, 1, 80, 4, 1, 14, 411, 1], [60, 61, 1, 319, 131, 202, 319, 1, 1], [3, 23, 126, 4, 1, 1, 147, 5, 1, 24, 139, 196, 1, 1, 62, 106, 1, 1, 1, 1, 150, 90, 1, 1, 1], [73, 1, 17, 220, 1, 19, 220, 234, 18, 220, 298, 1, 1, 19, 220, 60], [123, 1, 36, 1, 7, 211, 19, 26, 1, 71, 80], [1, 1, 1, 1], [84, 6, 413, 100, 1, 1], [21, 119, 15, 1, 1, 1, 13, 1, 2, 4, 206, 458, 2, 40, 1, 1, 1, 1, 56, 99, 38, 2, 306, 43, 22, 365, 2, 1], [83, 1, 57, 38, 1, 202, 319, 13, 108, 1, 1, 1, 20, 2, 1, 2, 7, 1, 1], [8, 1, 133, 29, 75, 181, 15, 1, 137, 1, 25, 1, 202, 1, 348, 1, 1, 407, 51, 1, 1, 1, 452, 1, 194, 39], [67, 8, 34, 35, 1, 59, 4, 414, 203, 215, 404, 49, 18, 1, 1, 350, 28, 10, 7, 217, 219, 2, 1, 3, 5, 1, 1, 1, 150], [3, 20, 75, 54, 1, 74, 5, 1], [209, 3, 71, 1], [12, 1, 8, 1, 328, 13, 41, 3, 20, 101, 1, 120], [34, 258, 443, 101, 19, 7, 292, 1, 1, 11, 8, 34, 1], [252, 1, 479, 1, 138], [1, 6, 1, 43, 4, 1, 1, 92, 4, 1, 27, 7, 1, 415, 1, 320, 131, 1, 27, 4, 1, 1, 1, 129, 188, 1, 37], [293, 1, 23, 294, 11, 3, 32, 8, 1, 1, 92, 8, 1, 76, 1, 288, 14, 343, 183, 301, 1, 11, 1, 1, 32, 8, 1, 1, 92, 4, 301, 183, 301, 1], [332, 222, 253, 37, 1, 120, 1], [1, 1, 119, 110, 2, 371], [21, 126, 4, 1, 1, 13, 369, 64, 4, 1, 1, 277, 1, 111, 172, 22, 1, 2, 1, 1, 1, 1, 118, 1], [243, 1, 1, 86, 1, 1, 1, 1, 376, 1, 96, 1], [1, 10, 17, 1, 1], [6, 1, 102, 3, 117, 1, 26, 112, 156, 3, 1, 2, 7, 237, 1, 185, 3, 31, 8, 88, 1, 302, 3, 18, 4, 420, 237, 6, 225, 19, 3, 1], [1, 35, 130, 1, 420, 144, 1, 19, 491, 18, 1, 14, 411, 13, 198, 153, 2, 1], [146, 274, 1, 2, 40, 28, 466, 155, 48, 3, 1, 74, 58, 2, 243, 42, 183, 1, 91, 69, 342, 428, 106, 160], [1, 89, 1, 1, 6, 1, 1, 312, 19, 1, 1, 17, 29, 158, 2, 410, 4, 281, 52, 44, 30, 390, 1, 459, 29, 119, 13, 76, 9, 489, 1, 37, 6, 31, 7, 1, 2, 31, 181, 7, 415], [146, 1, 28, 10, 8, 290, 1, 2, 180, 8, 25, 1, 149, 14, 1, 56, 190, 5, 1, 24, 139, 1, 255, 1, 1, 150], [84], [1, 89, 400, 23, 1, 1, 38], [175, 10, 8, 481, 145, 1, 2, 33, 1, 1, 39, 33, 42, 1, 91, 69, 93, 236, 1], [1, 449, 43, 45, 1, 1, 19, 393, 247, 214, 1, 1, 13, 1, 459, 8, 34, 1, 13, 1, 32, 416, 2, 1], [9, 20, 4, 485, 486, 85, 10, 434, 15, 144, 78, 27, 9, 115, 43, 85, 129, 94, 435, 85, 487, 21, 52, 184, 5, 18, 1], [3, 23, 4, 333, 3, 20, 83, 1, 213, 2, 154, 141, 56, 14, 4, 267, 190, 1, 2, 4, 206, 458, 2, 40, 5, 1, 1, 187, 227], [353, 153, 2, 4, 72, 380, 9, 20, 59, 7, 414, 203, 257, 49, 15, 40, 10, 483, 36, 5, 1, 12, 38, 227, 97, 1, 327, 228, 166], [123, 1, 73, 1, 1, 1, 1, 1, 17, 1, 1, 1, 26, 1], [123, 6, 12, 108, 96, 21, 77, 1, 138, 52, 1, 460, 57, 38, 25, 142, 191, 1, 1, 20, 4, 1, 54, 1, 15, 371, 17], [252, 313, 108, 9, 51, 1, 1, 479, 268], [67, 28, 10, 45, 217, 219, 2, 78, 9, 8, 1, 49, 24, 454, 10, 157, 1, 189, 2, 40, 5, 12, 1, 1], [123, 456, 6, 46, 5, 3, 197, 1, 1], [5, 1, 2, 453, 21, 114, 403, 1, 227, 107, 170, 1, 79, 1, 92, 1, 36, 1, 329, 1, 1, 1, 1, 1, 9, 33, 1, 99, 38], [194, 1, 7, 1, 405, 19, 1, 1, 438, 1, 17, 1, 19, 1, 1, 2, 1, 44, 60, 61, 222, 194, 1, 110], [73, 1, 1, 7, 1, 1, 72, 71, 23, 3, 252, 182], [1, 1, 8, 1, 1, 105, 6, 158, 30], [229, 14, 1, 142, 460, 133, 1, 10, 128, 35, 130, 72, 430], [1, 1, 182, 2, 4, 1, 105, 23, 3, 1, 17, 116, 41, 3, 225], [50, 309, 2, 78, 3, 442, 8, 1, 2, 45, 155, 19, 4, 54, 66, 1, 13, 323, 1, 39, 14, 5, 272, 11, 196], [9, 20, 4, 485, 486, 85, 10, 434, 15, 144, 78, 27, 9, 115, 43, 85, 129, 94, 435, 85, 487, 21, 52, 184, 5, 18, 1], [1, 1, 1, 1, 1, 1, 1, 1], [6, 1, 192, 295, 6, 20, 1, 1, 48, 26, 1, 71, 185, 3, 266, 80, 252], [1, 24, 1, 140, 28, 10, 8, 1, 1, 113, 1, 3, 20, 1, 1, 74, 5, 110, 18, 1, 2, 1, 8, 1, 13, 1, 1, 107], [3, 20, 59, 75, 203, 56, 14, 4, 15, 203, 49, 2, 40, 1], [140, 128, 1, 1, 48, 1, 89, 95, 1, 6, 46, 173, 1, 48, 1, 9, 1, 1, 181, 194, 497, 77, 1, 1, 1, 365, 1, 1], [165, 273, 252, 17, 1, 38, 57, 20, 2, 410], [1, 100, 2, 127, 3, 26, 1, 1, 1, 5, 29, 1, 36, 1, 107, 2, 33, 221, 5, 1, 1, 166], [52, 41, 3, 20, 1, 1, 1], [156, 8, 34, 1, 263, 11, 16, 2, 1, 134, 241, 147, 1, 429, 498, 403, 5, 34, 1, 18, 1, 285, 14, 1], [1, 4, 1, 6, 41, 1, 1, 86, 22, 1, 1, 2, 1, 366, 187, 75, 82, 97, 77, 1, 18, 1, 365], [39, 2, 64, 200, 199, 71, 1, 1, 1, 1, 1, 216, 47, 33, 2, 1, 2, 266, 79], [129, 489, 53, 128, 1, 1, 30, 46, 427, 1, 1, 14, 452, 417, 1, 129, 23, 1, 124, 1, 19, 1], [67, 74, 5, 1, 24, 4, 139, 232, 56, 14, 4, 25, 149, 270, 189, 62, 106, 255, 151, 132, 1, 1, 90], [1, 307, 64, 4, 1, 1, 1, 1, 53, 3, 1, 7, 1, 19, 1, 32, 1, 2, 1, 173], [1, 6, 1, 1, 1, 52, 31, 361], [153, 1, 57, 157, 1, 1, 418, 6, 46, 497, 30, 4, 1, 1, 52, 51, 15, 1, 249, 13, 46, 441, 256, 148, 1, 153, 204, 1, 10, 157, 120], [1, 1, 10, 110, 18, 8, 349, 58, 2, 1, 1, 18, 1, 1, 13, 216, 1, 1, 1, 1, 1, 18, 444, 52, 1, 12, 1, 306, 43, 2, 1], [52, 437, 445, 1, 2, 44, 184, 48, 376, 1, 57, 38, 254, 1, 46, 1, 184, 2, 3, 1, 8, 211, 1, 1, 324, 1, 356, 1, 1, 1], [192, 1, 8, 25, 1, 1, 1, 149, 14, 232, 270, 189, 5, 1, 12, 1, 255, 1, 1, 1, 1, 1, 82, 417, 1], [16, 147, 436, 27, 1, 24, 25, 1, 329, 27, 239, 1, 1, 114, 75, 15, 281, 22, 1, 1, 273, 1, 5, 1, 14, 391, 1, 1], [6, 225, 1, 192, 1], [1, 10, 1, 57, 314, 10, 1, 338], [449, 43, 443, 8, 295, 1, 113, 1, 1, 1, 1], [332, 26, 1, 1, 1, 8, 109, 328, 73, 52, 1, 32, 29, 110, 1, 28, 439, 1, 385, 1, 1, 118, 82], [55, 41, 138], [9, 1, 20, 4, 485, 486, 85, 10, 434, 15, 144, 78, 27, 9, 115, 43, 85, 129, 94, 435, 85, 487, 21, 52, 184, 5, 18, 1], [6, 273, 1, 271, 1, 1, 1, 142, 51, 29, 9, 1, 389, 334, 84, 119, 15, 1, 1, 209, 117, 1], [1, 23, 87, 7, 134, 66, 88, 4, 1, 383, 1, 384, 14, 4, 275, 49, 22, 164, 180, 2, 35, 1, 1, 1, 63, 1], [45, 299, 79, 121, 83, 1, 15, 78, 9, 92, 230, 1, 5, 1, 12, 89, 46, 44, 1, 1, 1, 1, 63], [185, 3, 336, 133, 7, 54, 1, 1, 30, 1, 27, 89, 19, 1, 1], [1, 14, 1, 14, 1, 14, 1], [73, 1, 1, 1, 18, 8, 1], [1, 3, 333, 1, 92, 113, 72, 1, 35, 1, 1, 39, 33, 2, 1, 93, 236, 1], [28, 10, 26, 109, 92, 1], [179, 295, 6, 1, 3, 1, 1, 11, 4, 1, 13, 108, 3, 1, 71, 1], [4, 1, 257, 342, 10, 294, 11, 3, 45, 1, 121, 1, 1, 3, 24, 45, 1, 34, 1, 2, 154, 4, 1, 342, 36, 5, 1], [146, 1, 83, 1, 2, 1, 28, 10, 45, 290, 219, 2, 78, 9, 22, 103, 2, 233], [67, 5, 1, 24, 8, 139, 8, 421, 25, 1, 149, 14, 250, 203, 56, 270, 189, 255, 62, 106, 151, 132, 1, 1, 1, 1, 1, 99], [1, 1, 1, 9, 17, 1, 1, 1, 1], [1, 10, 51, 4, 378, 2, 216, 30, 10, 51, 4, 164, 2, 303, 30, 1, 1, 427, 18, 1, 13, 1, 18, 390, 30, 10, 197, 454, 116, 13, 183], [1, 1, 1, 188, 291, 7, 1, 1, 1, 22, 21, 228, 1, 2, 1, 469, 1, 2, 1, 441, 1, 1, 1, 1, 1, 1, 90], [84, 108, 6, 46, 159, 2, 21, 210, 253, 310, 124, 1], [11, 7, 1, 1, 277, 1, 24, 1, 97, 1, 5, 1, 1, 14, 493, 42, 1, 1, 69], [1, 34, 216, 7, 1, 1, 1, 1, 378, 1, 82, 18, 21, 34, 298, 12, 32, 1, 2, 1, 11, 7, 378, 50, 1, 47, 9, 4, 16, 1, 1], [8, 176, 121, 83, 1, 27, 201, 16, 32, 1, 2, 1, 36, 22, 7, 164, 482, 2, 35, 1, 62, 106, 42, 1, 1], [113, 236, 11, 8, 1, 32, 1, 194, 1, 42, 424, 237, 1, 1, 238, 27, 33, 35, 1, 300, 208, 1, 424, 1, 1, 1], [113, 381, 1, 1, 10, 1, 57, 9, 390, 51, 70, 209, 1, 30, 1, 21, 1, 1, 94, 1, 1, 39, 1, 479, 408, 266, 39, 266, 1], [332, 1, 1, 7, 1, 10, 30, 1], [94, 50, 157, 1, 25, 1, 397], [162, 7, 38, 398, 17, 1, 2, 265, 1, 1, 1, 10, 12, 17, 7, 69, 22, 103, 2, 233, 12, 63, 77], [51, 4, 1, 17, 7, 1], [102, 94, 167, 119, 2, 47, 30, 2, 29], [21, 1, 307, 56, 447, 10, 412, 275, 2, 1, 21, 56, 17, 12, 47, 1, 2, 233, 38, 63, 77], [179, 71, 1, 1, 23, 3, 1], [32, 1, 2, 1, 2, 180, 8, 1, 1, 1, 1, 1, 160, 38, 354, 8, 214], [35, 158, 2, 303, 418, 2, 29, 6, 70, 6, 165, 124, 1], [146, 1, 83, 1, 2, 1, 28, 10, 45, 290, 219, 2, 78, 9, 22, 103, 2, 233, 63, 1, 296, 297, 234, 374, 462, 99, 1], [3, 20, 59, 4, 87, 1, 190, 14, 1, 1, 141, 56, 2, 40, 21, 190, 5, 16, 18, 455, 99, 128, 4, 1, 1, 109, 314, 41, 9, 225], [1, 102, 23, 3, 252, 28, 10, 36, 1, 3, 4, 148, 95, 1], [1, 1, 1, 1, 13, 1, 23, 1, 12, 193, 291, 7, 1, 344, 5, 1, 48, 227, 107, 15, 33, 221, 5, 1, 1, 166], [1, 307, 346, 1, 64, 4, 292, 1, 1, 384, 53, 9, 70, 320, 1, 1, 1, 17, 1, 65, 22, 1, 2, 1, 118, 82, 1, 1], [21, 56, 447, 10, 412, 201, 240, 2, 1, 21, 56, 17, 12, 47, 56, 2, 233, 38, 63, 77, 1, 1, 151, 132, 1, 1, 1, 1], [211, 135, 40, 21, 1, 322, 19, 481, 248, 116, 32, 341, 2, 1, 12, 315, 370, 34, 62, 106, 315, 1, 1, 316, 446, 1, 90], [1, 67, 8, 34, 35, 1, 59, 4, 414, 203, 215, 404, 49, 18, 1, 1, 350, 28, 10, 7, 217, 219, 2, 1, 3, 5, 1, 1], [76, 142, 19, 45, 1, 1, 9, 55, 419, 7, 104, 25, 4, 318, 301, 173, 287, 274, 92, 1, 27, 419, 2, 238, 32, 33], [76, 4, 1, 1, 440, 104, 25, 4, 200, 287, 274, 46, 173, 1, 18, 1, 19, 4, 1, 1, 105, 23, 7, 182, 1, 22, 1, 2, 1], [1, 75, 137, 3, 20, 1, 4, 143, 8, 321, 10, 1, 1], [29, 450, 1, 450], [209, 185, 9, 58, 26, 88, 10, 1, 1, 3, 20, 2, 1, 17, 175], [54, 1, 103, 15, 1, 1, 17, 21, 1, 25, 36, 1, 16, 15, 154, 1, 1, 14, 48, 1, 86, 22, 142, 405, 2, 1, 1, 1, 33, 15, 1], [1, 1, 212, 153], [72, 1, 456, 204, 3, 23, 1, 4, 1, 95, 6, 1, 2, 1, 30, 2, 8, 1, 37, 6, 20, 83, 283, 17, 1, 1, 11, 7, 1, 1, 1, 13, 20, 156, 2, 410, 4, 60, 61, 300, 6, 1, 30, 235, 44, 1, 19, 29, 2, 1, 133, 411, 3, 198, 48, 148, 187, 2, 1, 13, 467, 205, 6, 1, 1, 80, 6, 1, 165, 17, 4, 1, 13, 476, 44, 1, 2, 410, 7, 300, 28, 329, 1, 26, 1, 192, 1, 19, 1, 266, 55, 3, 74, 208, 1, 3, 11, 1], [94, 9, 181, 1, 30], [30, 2, 1, 8, 201, 16, 32, 1, 23, 186, 1, 1, 1, 1], [28, 10, 7, 217, 219, 2, 1, 9, 3, 20, 59, 28, 466, 292, 49, 19, 1, 141, 56, 14, 1, 49, 36, 5, 1], [8, 135, 2, 44, 18, 4, 1, 1, 494, 5, 12, 1, 36, 1, 97, 107, 1, 317, 151, 132, 1, 1, 1, 1, 1, 10, 4, 228, 166, 5], [3, 23, 1, 2, 154, 4, 379, 190, 194, 5, 40, 109, 1, 2, 180, 8, 190, 320, 3, 23, 213, 2, 154, 76, 4, 448, 34, 93], [67, 50, 23, 264, 2, 78, 9, 242, 104, 136, 37, 3, 20, 59, 4, 451, 49, 87, 5, 1, 24, 251, 125, 40, 1, 1, 38], [399, 22, 5, 2, 35, 1, 40, 8, 342, 19, 137, 1, 372, 98, 2, 453, 24, 8, 88, 12, 1, 1, 1, 1, 90, 33, 1], [159, 2, 29, 1, 8, 252, 30, 328, 119, 325, 8, 1, 13, 1, 1, 29, 3, 23, 1, 29, 1], [71, 1, 146, 127, 29], [84, 119, 2, 371, 204, 6, 55, 265, 161], [1, 1, 53, 1, 1, 1, 17, 16, 114, 1, 1, 1, 1, 162, 1, 117, 1, 1, 137, 188, 1, 4, 1, 1, 1, 17, 312, 6, 1, 276, 137, 81, 451], [1, 489, 73, 226, 1, 17, 226, 1, 1, 1, 289, 489, 352, 9, 1, 1, 226, 1, 1, 28, 77, 1, 1, 1, 55, 1, 1, 1, 1, 1, 1], [332, 9, 1, 20, 1, 8, 260, 1, 43, 277, 376], [67, 50, 23, 264, 2, 78, 9, 242, 104, 136, 37, 3, 20, 59, 4, 267, 49, 87, 5, 1, 24, 251, 125, 40, 1, 186, 286, 38], [1, 1, 103, 169, 1, 12, 1, 1, 1, 327, 228, 166, 227, 107, 38, 24, 1], [137, 3, 20, 1, 8, 34, 393, 354], [146, 274, 1, 15, 40, 8, 171, 1, 1, 1, 1, 105, 1, 8, 149, 274, 5, 1, 105, 1, 1, 171, 1, 365, 15], [167, 361, 108, 5, 29], [10, 21, 1, 181], [1, 83, 213, 2, 1, 17, 75, 19, 1, 292, 1, 1, 11, 313, 149, 448, 48, 379, 1, 1, 2, 40, 228, 166, 5, 1, 1], [1, 1, 1, 6, 432], [352, 60, 61, 107], [6, 165, 119, 2, 371, 6, 165, 1, 19, 1], [1, 122, 1, 1, 205, 352, 160, 11, 8, 1, 243, 1, 1, 86], [205, 193, 3, 352, 1, 48, 1, 1, 2, 163, 53, 3, 31, 8], [179, 1, 6, 112, 3, 6, 156, 2, 127, 6, 468, 48, 8, 1, 13, 1, 2, 413, 3, 423, 26, 1, 1, 6, 81, 3, 6, 158, 3, 6, 1, 3], [147, 3, 23, 126, 4, 1, 1, 147, 5, 1, 1, 139, 196, 1, 1, 312], [9, 20, 4, 485, 486, 435, 85, 487, 9, 94, 52, 184, 5, 1, 2, 306, 43, 39, 435, 33, 75, 82, 97, 77, 1, 1, 464, 1], [8, 16, 143, 10, 294, 2, 44, 1, 1, 32, 7, 1, 1, 2, 1, 2, 1, 31, 1, 13, 1, 1, 151, 132, 1, 1, 1, 1, 90], [1, 220, 1, 6, 311, 291, 9, 146], [1, 20, 4, 1, 441, 1, 103, 18, 8, 34, 12, 1, 92, 387, 7, 164, 103, 13, 47, 30, 2, 35, 1, 1, 151, 132, 1, 1, 1, 1, 90, 1, 77, 496], [6, 1, 3, 2, 5, 249, 12, 84], [35, 57, 3, 432, 29, 3, 302, 119, 406, 3, 117, 1], [1, 349, 307, 71, 1, 1, 1, 1, 1, 2, 226, 1, 183, 1, 343, 1, 22, 226, 183, 14, 343, 2, 1, 12, 25, 135, 15, 64, 200, 56, 1, 1], [130, 445, 23, 495, 17, 8, 1, 12, 5, 1, 13, 308, 100, 1, 1, 205, 51, 1, 75, 1, 1, 75, 28, 1, 1, 82, 1, 1], [67, 74, 5, 1, 24, 139, 8, 1, 421, 25, 1, 149, 14, 232, 56, 270, 189, 255, 62, 106, 132, 1, 1, 150], [167, 1, 127, 29, 102, 6, 1, 73, 51, 48, 210, 17, 220, 1, 314], [165, 1, 17, 1, 1, 1], [1, 1, 1, 434, 11, 1, 1, 12, 202, 260, 1, 1, 2, 8, 88, 32, 1, 2, 1, 77, 187, 63, 15, 33, 22, 33, 1], [1, 1, 169, 1, 1], [1, 220, 72, 1, 11, 1], [84, 138, 314, 98, 167, 1], [421, 25, 1, 1, 149, 14, 426, 203, 56, 1, 8, 67, 189, 1, 12, 24, 139, 51, 2, 1, 43, 1], [6, 46, 1, 21, 210, 17, 60, 61, 319], [211, 135, 40, 21, 1, 322, 19, 481, 248, 116, 32, 341, 2, 1, 12, 315, 370, 34, 62, 106, 315, 1, 1, 316, 446, 1, 90], [73, 1, 96, 167, 120], [1, 7, 1, 10, 1, 467, 17, 1, 57, 17, 1, 129, 390, 36, 1, 1, 6, 1, 5, 3, 12], [128, 84, 26, 1, 10, 1, 1, 1, 6, 117, 4, 1, 52, 50, 55, 58, 1, 98], [93, 79, 1, 3, 20, 4, 54, 1, 196, 294, 11, 3, 74, 5, 1, 12, 2, 1, 196], [1, 1, 18, 60, 61, 1], [299, 6, 20, 156, 1, 19, 1, 38, 1, 253, 6, 305, 4, 32, 2, 372, 1, 1, 211, 65, 101, 1, 41, 3, 225, 14, 1], [1, 155, 40, 21, 1, 322, 19, 481, 248, 32, 162, 2, 1, 12, 315, 1, 370, 34, 62, 106, 1, 316, 446, 1, 90, 1, 39, 365], [1, 1, 2, 64, 56, 24, 318, 2, 1, 203, 240, 22, 1, 13, 47, 2, 1, 187, 63, 95, 1, 90, 1, 160, 39, 1, 25, 345], [74, 5, 45, 93, 79, 463, 18, 455, 1, 1, 423, 1, 1, 76, 3, 20, 59, 4, 87, 141, 56, 14, 232, 49], [67, 8, 34, 35, 1, 131, 126, 4, 414, 203, 215, 404, 49, 18, 1, 1, 350, 28, 10, 45, 217, 219, 2, 78, 3, 5, 1, 1, 1, 1], [129, 489, 167, 1, 1, 1, 14, 1, 100, 1, 14, 167, 1, 47, 2, 26, 1, 176], [320, 10, 205, 6, 1, 1, 2, 127, 3, 101, 19, 28, 320, 10, 205, 73, 52, 1, 27, 3, 13, 18, 1, 76, 19, 283], [1, 1, 7, 1, 2, 31, 4, 1, 1, 1, 378, 7, 54, 35, 75, 24, 1, 4, 1, 1, 1, 14, 4, 1, 1, 1, 89, 25, 16], [11, 8, 135, 2, 64, 4, 16, 1, 1, 108, 1, 39, 110, 27, 1], [273, 456, 6, 305, 3, 124, 1, 133, 102, 2, 480, 325, 7, 1, 1, 1, 6, 1, 47, 3, 1, 122, 37, 339, 1, 102, 1, 23, 110, 210, 20, 4, 148, 498], [162, 37, 46, 44, 450, 112, 3, 44, 1], [1, 1, 386], [222, 1, 365, 121, 4, 1, 1, 197, 430, 57, 1, 1, 48, 45, 398, 397], [47, 4, 1, 15, 21, 1, 15, 1, 1, 92, 4, 304, 22, 112, 1, 1, 1, 469, 112, 1, 1, 1, 2, 1, 1, 1, 1, 25, 35, 1, 63], [159, 2, 1, 1, 48, 1, 1, 30, 220], [1, 293, 1, 1, 95, 330, 19, 1, 22, 330, 2, 1, 188, 291, 43, 108, 111, 172, 4, 1, 1, 25, 130, 355, 96, 1, 91, 69, 1, 316, 172], [1, 57, 478, 102, 363, 3, 494, 289, 1, 8, 112, 2, 230, 37, 363, 30, 46, 1, 105, 129, 497, 3, 14, 3, 31, 1, 1, 1, 1], [1, 1, 12, 167, 1, 209, 1, 53, 167, 58, 1, 1, 167, 1, 1, 17, 1], [110, 17, 1, 153, 11, 1, 268, 80, 13, 1, 268, 89, 13, 229, 163, 3, 396], [1, 1, 372, 18, 88, 27, 1], [1, 304, 1, 230, 254, 363, 1, 230, 396, 1, 304, 46, 51, 100, 1, 57, 1, 1, 46, 44, 1, 1, 1], [3, 1, 1, 30, 57, 334, 478, 334, 1, 366, 39, 301, 12, 2, 1, 1, 1, 1, 37, 46, 1, 8, 1, 24, 1, 38, 1, 22], [3, 20, 83, 213, 2, 1, 17, 75, 19, 1, 292, 1, 1, 11, 313, 149, 322, 379, 2, 40, 5, 1, 1, 1, 1, 1], [1, 314, 1, 1, 185, 2, 1], [1, 3, 1, 6, 422, 352, 2, 1, 7, 260, 460], [1, 50, 352, 1], [1, 1, 1, 4, 54, 1, 27, 1, 16, 1, 1, 2, 21, 34, 22, 21, 258, 405, 2, 1, 469, 1, 2, 1], [1, 1, 27, 1, 109, 60, 61, 11, 1, 60, 1, 61, 121, 83, 1, 2, 7, 1, 176, 18, 60, 61, 48, 60, 98, 61, 60, 61], [84, 1, 1], [67, 8, 34, 109, 121, 83, 126, 27, 4, 267, 49, 87, 5, 1, 24, 251, 125, 40, 1, 186, 286, 38, 150], [146, 1, 21, 104, 25, 200, 287, 274, 46, 173, 1, 18, 1, 19, 4, 1, 1, 105, 131, 1, 1, 1, 22, 392, 2, 1], [67, 50, 23, 264, 2, 78, 3, 211, 1, 104, 136, 9, 20, 59, 4, 141, 49, 87, 5, 1, 40, 145, 1, 186, 286, 63, 417], [50, 20, 89, 1, 52, 51, 1], [1, 1, 128, 1, 36, 1, 37, 28, 10, 21, 109, 52, 10, 30, 62, 173], [1, 1], [64, 4, 1, 277, 1, 111, 65, 1, 12, 15, 216, 32, 1, 2, 1, 1, 1, 1, 1, 118, 1], [24, 42, 1, 86, 1, 1, 77, 1, 329, 62, 1, 1, 1, 1, 22, 33], [74, 127, 29, 3, 20, 246, 19, 37, 184, 1, 3, 302, 1, 133], [1, 73, 1, 175, 17, 4, 33, 13, 341, 1, 1, 298, 12, 1, 26, 1, 43, 1, 6, 413, 100, 73, 4, 1, 17, 1, 1, 1, 29, 13, 12, 6, 413, 100, 73, 1, 3], [1, 1, 138, 1, 351, 10, 1, 169, 1, 1, 1, 1, 1, 1, 1, 18, 1, 1, 1, 1, 14, 1, 1, 1, 320, 9, 1], [1, 53, 168, 26, 380, 168, 10, 4, 1, 5, 249, 12], [179, 6, 81, 3, 6, 1, 3, 6, 291, 3, 6, 158, 3, 6, 112, 3, 1, 1, 1, 1], [192, 7, 1, 281, 10, 60, 61, 1, 492, 29, 70, 53, 105, 102, 363, 3, 81], [131, 252, 26, 1, 1, 6, 1, 3, 46, 5, 3, 197], [253, 26, 212, 1, 1, 348, 1, 138, 9, 1, 1, 1, 1, 58, 1, 138, 35, 400, 398, 2, 58, 1], [153, 11, 1, 120, 11, 29, 36, 2, 372, 2, 18, 444, 3, 23, 254, 146, 2, 29, 6, 1, 1, 3, 76, 4, 1, 13, 1, 1], [9, 23, 1, 2, 7, 351, 34, 393, 79, 17, 7, 69, 11, 316, 97, 1, 312, 1, 3, 47, 33, 2, 1, 1, 1], [194, 198, 161, 7, 1, 1, 1, 254, 1, 27, 1, 19, 1, 3, 55, 207, 80, 2, 124, 1, 2, 198, 30, 13, 108, 246, 1, 254, 254, 1], [167, 198, 29, 246, 98, 2, 1, 120], [235, 3, 100, 2, 163, 26, 331, 355, 129, 23, 52, 335, 129, 302, 1, 1, 17, 7, 69], [6, 368, 53, 9, 1, 220, 1, 1, 1], [76, 4, 448, 93, 6, 165, 1, 2, 1, 3, 37, 1, 1, 1, 19, 8, 170, 35, 3, 23, 126, 27, 4, 1, 215, 49, 5, 1], [338, 1, 185, 37, 454, 386, 117, 26, 1, 12, 128, 36, 1, 1, 1, 120, 11, 29], [28, 1, 460, 10, 1, 4, 1, 476, 4, 1, 41, 193, 41, 4, 1, 76, 1, 41, 28, 1, 328], [31, 7, 1, 1, 340, 143, 14, 241, 425, 18, 1, 34, 11, 1, 378, 32, 68, 14, 425, 2, 1, 1, 22, 1, 33, 1, 1, 118, 82], [418, 138, 10, 269, 1], [1, 355, 1, 2, 8, 88, 163, 29, 360, 1, 13, 1, 36, 11, 3, 1, 32, 355, 2, 1, 12, 22, 1, 63, 1, 1, 99, 331], [1, 1, 15, 1, 15, 1, 24, 1, 1, 12, 25, 182, 409, 5, 1, 106, 160], [1, 4, 1, 1, 1, 17, 226, 1, 30, 131, 254, 1, 168, 1, 4, 499, 289, 1, 4, 1, 1, 19, 1, 168, 1, 1, 1, 1, 226, 1, 15, 1, 98, 1, 168, 156, 1, 1, 1, 1, 80, 289, 168, 1, 43, 1, 1, 94, 1, 1, 1, 302, 1, 1, 188, 1, 80, 1, 17, 226, 1, 72, 191], [67, 8, 34, 35, 1, 59, 4, 414, 203, 215, 404, 49, 18, 1, 1, 350, 28, 10, 7, 217, 219, 2, 1, 3, 5, 1, 1, 1, 150], [5, 1, 11, 38, 75, 1, 97, 1, 5, 24, 4, 1, 125, 1, 1, 109, 1, 1, 1, 1, 35, 1, 475, 1, 42, 1, 91, 69], [338, 6, 70, 1, 52, 1, 1, 386, 1, 11, 197, 1, 50, 1, 1, 17, 7, 1, 19, 1, 302, 1, 2, 31], [179, 433, 1, 1, 382, 15, 57, 1, 156, 15, 58, 210], [11, 21, 135, 2, 64, 4, 276, 56, 111, 172, 22, 1, 2, 1, 472, 244, 42, 1, 349, 431, 1, 1, 172], [1, 95, 184, 64, 181, 141, 17, 45, 307, 13, 207, 8, 1, 18, 7, 1, 19, 4, 1, 47, 58, 2, 1, 12, 63, 77, 496, 431, 1], [179, 1, 1, 26, 212, 34, 109, 10, 20, 4, 72, 142, 295, 1, 1], [3, 46, 44, 17, 7, 398, 19, 37, 1], [1, 175, 165, 1, 1, 98, 165, 12, 1, 9, 1, 1, 181, 1, 103, 12, 1, 204, 15, 96, 9, 382, 1, 1, 1, 1], [6, 1, 9, 1, 438, 1, 303, 9, 159, 277, 19, 1, 50, 1, 314, 50, 1, 1, 1, 1, 468, 48, 1, 384], [67, 21, 275, 87, 190, 10, 157, 1, 5, 1, 12, 1, 1, 1, 1, 1, 118, 1, 1], [399, 205, 1, 3, 1, 2, 26, 32, 73, 1, 293, 1, 13, 206, 1, 382, 2, 336, 24, 9, 1, 317, 1, 97, 77, 39, 33, 2, 266], [1, 18, 51, 1, 1, 19, 3], [1, 293, 1, 1, 95, 330, 19, 1, 22, 330, 2, 1, 188, 291, 43, 108, 111, 172, 4, 1, 1, 25, 130, 355, 96, 1, 91, 69, 1, 316, 172], [269, 432, 2, 1, 37, 168, 81, 1, 17, 1, 1, 73, 1, 175], [250, 107, 256, 222], [123, 177, 5, 3, 256, 6, 165, 17, 1, 456], [168, 273, 1, 133, 1, 1, 38, 220, 6, 70], [456, 47, 2, 1, 1, 449, 30], [94, 9, 175, 1, 73, 1, 1, 1, 169, 1, 1], [1, 269, 1, 1, 1, 6, 1, 6, 432, 161, 334, 478, 386, 6, 1, 269, 1, 96, 268, 1, 108, 269, 1], [72, 1, 104, 1, 398, 1, 1, 1, 72, 1, 11, 1, 47, 33, 2, 1, 93, 236, 1], [1, 307, 346, 1, 64, 4, 292, 1, 1, 384, 53, 9, 70, 320, 1, 7, 1, 10, 17, 22, 1, 2, 1, 118, 82, 1, 1], [245, 8, 358, 176, 278, 11, 1, 136, 347, 359, 394, 178, 6, 288, 279, 5, 1, 280, 145, 1, 259, 1, 250, 395], [23, 3, 1, 14, 1], [156, 8, 34, 1, 263, 11, 16, 2, 1, 134, 241, 147, 1, 429, 498, 403, 5, 34, 1, 18, 1, 285, 14, 1], [3, 20, 59, 4, 87, 141, 56, 14, 4, 267, 49, 2, 40, 440, 49, 5, 45, 93, 79, 463, 18], [5, 24, 1, 1, 9, 15, 5, 1, 2, 40, 232, 49, 9, 20, 15, 419, 89, 21, 34, 1, 474, 7, 1, 1], [36, 1, 80, 1, 128, 283, 57, 6, 1, 1, 1, 1, 60, 61, 165], [35, 158, 2, 1, 1, 167, 271, 1, 1, 1, 1, 1, 19, 28], [16, 174, 17, 15, 4, 199, 473, 11, 4, 135, 2, 64, 124, 383, 22, 1, 2, 1, 2, 31, 174, 385, 22, 166, 62, 244, 160, 1, 11, 474, 99], [1, 1, 1, 1, 1, 13, 80, 25, 30, 12, 5, 1, 36, 227, 107, 2, 33, 221, 5, 1, 227, 107], [26, 1, 17, 1, 1, 3, 1, 4, 148, 1], [1, 153, 11, 8, 1, 19, 4, 152, 1, 24, 1, 1, 83, 377, 1, 225, 3, 55, 41, 1, 205, 51, 47, 4, 152, 17, 4, 1, 1], [6, 1, 37, 1, 456, 1, 29, 52, 38, 6, 113, 100, 37, 1, 1, 1, 133, 1, 1, 432, 116, 52, 38, 1, 188, 1, 29], [81, 2, 1, 80, 21, 1, 27, 4, 199, 54, 68, 39, 1, 15, 28, 32, 42, 1, 91, 69, 7, 1, 169, 351, 214, 1, 195, 458, 1, 160], [1, 3, 1, 31, 2, 1, 325, 37, 1, 253, 6, 20, 1, 3, 1, 8, 1, 1, 1, 1, 3, 1, 29, 11, 4, 499, 406, 6, 1, 57, 273, 1, 7, 413, 19, 37, 1, 18, 8, 1, 1, 92, 7, 1, 1, 1, 3, 1, 85, 1, 3, 354, 26, 1], [1, 1, 13, 1, 294, 11, 8], [162, 1, 6, 158, 2, 1, 1, 8, 1], [188, 1, 1, 105, 1, 1], [338, 1, 26, 1, 10, 1, 1, 27, 26, 1, 1, 10, 100, 15, 319, 1, 1], [1, 1, 1, 1, 1, 1, 45, 304, 1, 1, 105, 230, 10, 17, 30, 57, 30, 1, 254, 1, 105, 230, 1, 30, 72, 191], [1, 1, 1, 1, 13, 1, 1, 1], [1, 24, 1, 2, 31, 15, 82, 240, 16, 5, 482, 13, 474, 19, 148, 370, 194, 39, 15, 28, 32, 27, 8, 186, 405, 1, 35, 13, 1], [1, 1, 1, 216, 1, 48, 4, 292, 1, 31, 15, 1, 1, 406, 171, 1, 13, 58, 1, 14, 1, 27, 1, 1, 13, 1, 43, 4, 333], [11, 21, 135, 2, 64, 276, 56, 111, 172, 22, 216, 2, 1, 472, 244, 42, 261, 1, 237, 431, 1, 1, 172], [1, 102, 9, 1, 204, 21, 84, 1, 133, 9, 1, 112, 169, 291, 207, 464], [1, 80, 8, 170, 27, 4, 1, 189, 19, 4, 1, 330, 122, 1, 4, 16, 1, 68, 22, 1, 1, 2, 224, 1, 1, 97, 1, 330], [202, 16, 292, 1, 214, 5, 1, 228, 166, 31, 4, 1, 1, 305, 111, 65, 36, 32, 1, 2, 1, 316, 97, 1, 1, 1], [140, 120, 50, 20, 12, 1, 1, 45, 1, 235, 44, 148, 15, 96, 9, 53, 9, 1, 159, 80], [84, 96, 1], [6, 1, 50, 1, 58, 43, 169, 20, 246, 344, 52, 1, 17, 1, 14, 411, 1, 1, 84], [333, 76, 4, 448, 195, 93, 3, 20, 83, 213, 2, 1, 1, 49, 342, 2, 40, 5, 1, 40, 145, 1, 186, 1, 1, 38], [3, 20, 75, 54, 122, 74, 5, 1], [1, 9, 1, 273, 1, 1, 1, 222, 1, 1], [3, 20, 124, 367, 93, 79, 1, 5, 1, 455, 1, 1, 12], [245, 8, 358, 176, 278, 11, 136, 347, 359, 394, 178, 6, 288, 279, 5, 1, 280, 145, 1, 259, 1, 1, 395], [229, 54, 409, 1], [332, 153, 4, 1, 6, 386, 1, 15, 1], [242, 1, 465, 1, 27, 1, 23, 213, 2, 4, 154, 4, 379, 190, 53, 8, 109, 1, 5, 1, 2, 154, 8, 379, 190], [72, 1, 26, 112, 102, 1, 8, 95, 102, 185, 3, 371, 6, 204, 8, 192, 26, 1, 6, 225, 19, 3], [3, 55, 1, 414, 82, 2, 1, 1, 1, 1, 1, 1, 92, 1, 1, 2, 1, 414, 82, 46, 44, 1, 2, 8, 182, 1], [375, 320, 1, 364, 17, 364, 76, 229, 76, 4, 1, 17, 1, 14, 1, 7, 1, 10], [1, 19, 1, 1, 1, 1, 1, 362, 11, 45, 1, 80, 181, 1, 1, 1, 1, 37, 10, 4, 202, 446, 97], [16, 11, 171, 65, 484, 66, 68, 25, 21, 170, 111, 65, 36, 22, 66, 2, 1, 31, 387, 13, 127, 21, 326, 1, 262, 1, 1, 1, 68, 90], [1, 3, 1, 11, 454], [9, 55, 64, 200, 19, 261, 287, 248, 111, 65, 1, 12, 22, 7, 164, 104, 2, 388, 1, 42, 490, 86, 1, 1, 1, 1], [209, 23, 7, 1, 1, 129, 1, 18, 7, 1], [123, 177, 5, 256], [1, 1, 1, 1, 362, 80, 161, 88], [6, 476, 1, 3, 27, 43, 8, 1], [3, 1, 59, 8, 25, 1, 1, 1, 149, 14, 232, 270, 189, 5, 1, 12, 1, 255, 457, 178, 1, 1, 1, 1, 82, 417, 1], [1, 38, 156, 8, 34, 1, 3, 23, 1, 2, 263, 2, 7, 134, 241, 147, 34, 11, 16, 5, 7, 34, 263, 1, 16, 18, 1], [1, 25, 1, 29, 210], [16, 174, 325, 45, 276, 199, 1, 36, 32, 7, 164, 64, 2, 1, 12, 99, 62, 96, 42, 1, 91, 69], [179, 1, 1, 19, 9, 119, 1, 2, 183, 1, 1, 1], [146, 274, 1, 15, 40, 28, 466, 155, 48, 8, 1, 58, 2, 243, 42, 183, 1, 91, 69, 1, 428, 106, 160, 15, 33, 221, 22, 33, 2, 1], [76, 4, 448, 93, 6, 165, 1, 2, 1, 3, 37, 1, 1, 1, 19, 8, 170, 35, 3, 23, 126, 27, 4, 1, 215, 49, 5, 1], [146, 1, 74, 5, 1, 24, 4, 139, 8, 421, 25, 1, 1, 149, 14, 141, 56, 270, 189, 1, 255, 62, 106, 1, 1], [140, 1, 295, 365, 9, 1, 1, 29, 1, 1, 360, 1, 1, 28, 10, 4, 1, 1, 35, 53, 3, 1, 3, 31, 1, 1, 166, 77, 1, 400, 1, 1, 273, 1], [332, 13, 92, 7, 1, 3, 41, 20, 130, 1, 17, 8, 1, 81, 2, 58, 43, 11, 4, 1, 397], [36, 117, 357, 1, 137, 1, 1, 72, 460, 6, 112, 26, 1, 52, 363, 57, 38, 252, 1, 179, 1], [1, 121, 1, 1, 1, 334, 4, 1, 1], [6, 1, 204, 128, 478, 37, 1, 29, 438, 73, 311, 1, 249, 3, 1, 1, 418, 2, 413, 1, 133, 1], [6, 193, 70, 9, 13, 9, 193, 70, 29, 47, 103, 2, 233, 12, 13, 1, 115, 471, 400, 38, 63, 77, 496, 401, 296, 297, 234, 374, 462, 99, 1, 14, 181], [353, 21, 126, 201, 19, 1, 248, 14, 1, 87, 16, 174, 15, 318, 346, 104, 22, 261, 2, 388], [148, 1, 5, 1, 1, 2, 40, 8, 87, 141, 56, 14, 267, 287, 1, 2, 4, 206, 458, 12], [64, 7, 1, 1, 1, 13, 7, 321, 19, 7, 1, 1, 202, 39, 1, 392, 202, 1, 135, 2, 44, 7, 376, 1, 1], [89, 46, 159, 1, 1, 1, 101, 72, 434, 1, 120, 1], [3, 23, 4, 333, 9, 20, 83, 1, 213, 15, 154, 141, 56, 14, 4, 25, 149, 1, 1, 1, 2, 4, 206, 458, 15, 40, 1], [128, 72, 2, 336, 24, 3], [41, 3, 81, 4, 54, 152, 1, 239, 337, 101, 195, 114, 310, 281, 125, 488, 323, 39, 14, 5, 272, 11, 196, 197], [3, 46, 44, 1, 28, 1, 1, 1, 143, 1, 354, 30], [1, 1, 343, 10, 1, 3, 2, 44, 161, 380, 39, 162, 1, 14, 35, 1, 163, 161, 42, 113, 381, 9, 1, 33, 47, 33, 1, 2, 1], [102, 1, 157, 1], [295, 20, 3, 117, 1, 491, 2, 362, 80, 1, 13, 1, 13, 177, 198, 3, 30, 110, 105, 3, 31, 210], [71, 41, 9, 81, 105, 6, 159, 110, 4, 1, 1, 76, 4, 1, 19, 26, 304, 11, 3, 1, 71, 6, 46, 198, 57, 38, 2, 26, 1, 19, 26, 1, 44, 37, 13, 163, 35, 142, 55, 198, 3, 37, 188, 5, 29, 6, 46, 352, 1, 6, 159], [6, 369, 368, 1, 53, 50, 369, 31, 130, 53, 1, 1, 55, 1, 17], [41, 3, 81, 4, 54, 66, 1, 241, 88, 1, 27, 1, 16, 319, 2, 101, 34, 318, 16, 221, 16, 323, 39, 14, 5, 272], [245, 8, 358, 176, 278, 11, 1, 1, 136, 347, 359, 394, 178, 6, 288, 279, 5, 1, 280, 145, 1, 259, 1, 1, 395], [67, 5, 1, 139, 8, 421, 25, 1, 149, 14, 426, 203, 56, 270, 189, 255, 62, 106, 151, 132, 1, 1, 1, 150, 99], [51, 1, 38, 1, 142, 95, 142, 1, 27, 17, 142, 329, 50, 55, 1], [3, 20, 75, 54, 122, 5, 1, 1, 1], [1, 88, 28, 88, 6, 392, 28, 142, 57, 1, 7, 400, 10, 445, 6, 193, 192], [156, 8, 34, 250, 1, 263, 2, 7, 134, 147, 152, 436, 11, 16, 459, 21, 415, 109, 31, 1, 16, 114, 221, 32, 162, 11, 4, 5], [1, 1, 1, 295], [433, 15, 34, 1, 1, 94, 223, 5, 1, 12, 1, 1, 21, 326, 216, 1, 247, 1, 1, 261, 1, 1, 1, 1, 1, 63], [179, 11, 29, 120, 10, 35, 497, 18, 1, 352, 6, 46, 368, 26, 1, 13, 127, 3], [16, 152, 147, 436, 27, 310, 281, 125, 488, 11, 1, 1, 13, 201, 1, 1, 114, 318, 366, 5, 284, 1, 14, 391, 1], [67, 8, 34, 109, 121, 83, 126, 4, 1, 1, 49, 87, 5, 1, 24, 139, 40, 1, 186, 286, 38, 150], [180, 8, 1, 498, 2, 1, 1, 1, 1, 1, 49, 87, 32, 1, 2, 35, 1, 42, 1, 1, 86], [39, 2, 64, 200, 199, 209, 46, 7, 1, 1, 1, 1, 44, 1, 47, 33, 2, 1, 2, 266, 79], [28, 10, 7, 217, 98, 50, 20, 309, 2, 78, 9, 9, 20, 59, 7, 1, 49, 15, 40, 10, 483, 36, 5, 1, 12, 38, 227, 97, 1, 327, 228, 166], [1, 457, 1, 119, 18], [1, 1], [4, 1, 19, 21, 1, 10, 26, 1, 4, 1, 19, 21, 1, 10, 26, 1, 4, 357, 19, 21, 304, 10, 26, 356, 4, 304, 100, 1, 1, 464, 11, 9, 1, 76, 26, 1], [1, 84, 57, 4, 1, 1, 9, 1, 58, 1, 1, 12, 1, 177, 413, 1], [188, 492, 1, 1, 3, 43, 1], [11, 21, 135, 2, 64, 4, 276, 56, 111, 172, 22, 1, 2, 1, 472, 244, 42, 1, 349, 431, 1, 1, 172], [26, 1, 10, 1, 183, 494, 17, 183, 1, 52, 73, 51, 1, 479, 161, 52, 96, 9, 389, 15, 1, 116, 14, 1, 138], [1, 38, 156, 8, 34, 1, 3, 23, 1, 2, 263, 2, 7, 134, 241, 147, 34, 11, 16, 5, 7, 34, 263, 91, 16, 18, 1], [290, 135, 40, 21, 1, 322, 19, 481, 248, 116, 32, 162, 2, 1, 12, 315, 1, 370, 34, 62, 106, 315, 1, 1, 316, 446, 1, 90], [1, 3, 20, 51, 1, 7, 393, 3, 20, 386, 1, 11, 1, 243, 1, 1, 349, 2, 180, 8, 393], [1, 21, 321, 10, 18, 7, 1, 9, 339, 154, 4, 79, 77, 15, 1, 21, 393, 53, 9, 41, 51, 1, 416, 1, 349, 18, 21, 34, 1, 79, 1], [1, 1, 2, 40, 21, 1, 149, 47, 4, 1, 1, 1, 1, 2, 1, 18, 268, 69, 151, 132, 1, 1, 1, 1, 307, 1, 444, 1, 33], [1, 1, 83, 1, 268, 1, 1, 1, 1, 51, 1, 12, 153, 2, 8, 1, 50, 46, 1, 324, 1, 1], [13, 1, 1, 1, 27, 1, 1, 12], [73, 17, 1, 41, 3, 81, 418], [30, 476, 173, 1, 15, 1, 76, 264, 15, 1, 1, 43, 10, 37, 84], [50, 412, 20, 4, 122, 1, 8, 189, 2, 180, 8, 122, 36, 5, 1], [67, 28, 10, 45, 217, 219, 2, 78, 9, 8, 1, 49, 24, 454, 10, 157, 1, 189, 2, 40, 5, 12, 1], [140, 1, 1, 93, 1, 155, 7, 54, 1, 34, 24, 38, 426, 48, 1, 22, 164, 427, 2, 35, 1, 31, 223, 12, 1], [148, 6, 131, 360, 1, 133, 3, 36, 70, 37, 4, 1, 13, 1, 1, 100, 3, 46, 20, 38, 7, 351, 17, 356, 70, 37, 9, 94, 1, 13, 1, 112, 10, 223], [119, 1, 4, 254, 1, 1, 1, 1, 13, 1, 80, 27, 7, 415, 10, 7, 415, 1, 98, 46, 1, 1, 6, 1], [123, 37, 131, 26, 1, 6, 1, 459, 17, 1], [1, 1, 91, 69, 130, 247, 24, 1, 146, 1, 1, 19, 16, 247, 27, 148, 1], [16, 378, 31, 1, 1, 25, 16, 24, 7, 1, 247, 1, 171, 31, 21, 247, 1, 39, 1, 108, 1, 1, 1, 1, 1, 11, 1, 1], [16, 292, 143, 1, 2, 199, 143, 31, 171, 65, 16, 47, 1, 2, 1, 137, 97, 65, 33, 113, 1], [6, 70, 73, 1, 18, 1, 19, 28, 1, 1, 474, 57, 11, 7, 1, 357, 73, 51, 1, 133, 37], [9, 265, 400, 1, 1, 389, 265, 29, 1, 1, 173, 4, 1, 1], [67, 8, 25, 1, 1, 1, 149, 14, 232, 270, 189, 5, 1, 12, 1, 255, 457, 178, 1, 1, 1, 1, 82, 417, 1], [67, 3, 20, 59, 4, 75, 65, 16, 1, 17, 45, 200, 203, 49, 1, 22, 7, 164, 40, 2, 35, 1, 62, 96, 42, 1, 237, 1, 262, 1], [24, 1, 1, 1, 208], [28, 10, 7, 217, 98, 50, 20, 309, 15, 78, 9, 9, 20, 59, 7, 1, 1, 49, 15, 40, 10, 483, 5, 1, 1, 38, 227, 97, 1, 327, 228, 166], [399, 1, 4, 1, 39, 1, 12, 308, 7, 1, 1, 1, 34, 299, 79, 439, 496, 36, 1, 2, 1, 22, 33, 2, 1, 39, 1, 12], [31, 21, 171, 143, 16, 12, 39, 2, 28, 77, 27, 68, 1, 292, 1, 214, 2, 8, 88, 111, 65, 36, 118, 82, 97, 172, 15, 306, 43, 47, 33, 1, 90], [1, 31, 1, 81, 260, 1, 1, 305, 475, 2, 8, 34, 308, 7, 1, 1, 495, 195, 22, 1, 2, 1, 12, 1, 1, 1, 118, 82, 77], [67, 5, 1, 24, 139, 8, 1, 25, 1, 149, 14, 426, 203, 56, 270, 189, 255, 62, 106, 151, 132, 137, 1, 1, 150, 99, 1, 1, 155], [433, 66, 1, 152, 147, 88, 10, 8, 5, 1, 403, 187, 150, 1, 5, 1, 1, 24, 1, 90, 1, 1, 1, 1, 462, 1], [290, 135, 40, 21, 1, 322, 19, 481, 248, 116, 32, 162, 2, 1, 12, 315, 1, 370, 34, 62, 106, 315, 1, 1, 316, 446, 1, 90], [9, 55, 64, 200, 19, 261, 287, 248, 111, 65, 1, 12, 22, 7, 164, 104, 2, 388, 1, 42, 1, 86, 1, 1, 1, 1], [50, 20, 54, 1, 1, 17, 8, 1, 1, 19, 54, 445, 1, 17, 8, 1, 39, 1, 2, 427, 12, 99, 38, 42, 1, 268, 1], [3, 70, 1, 445, 1, 62, 1, 1, 1, 1, 10, 89, 50, 70, 50, 94, 48, 1], [76, 4, 1, 1, 3, 23, 213, 2, 154, 4, 215, 31, 30, 1, 2, 8, 1, 22, 7, 164, 84, 2, 35, 1, 2, 40, 63, 77, 1, 1], [1, 173, 1, 396], [273, 1, 2, 31, 1, 1, 24, 8, 1], [11, 1, 357, 17, 45, 34, 1, 454, 3, 55, 12, 20, 201, 221, 15, 453, 1, 3, 1, 15, 31, 366, 36, 47, 22, 2, 1, 62, 96, 42, 1, 86, 75, 1], [6, 165, 17, 1, 1, 12, 119, 2, 1, 1, 17, 4, 1, 319], [21, 56, 447, 10, 412, 201, 240, 2, 1, 21, 56, 17, 12, 47, 58, 2, 233, 38, 63, 77, 1, 1, 401, 296, 297, 234, 374], [89, 7, 1, 24, 1, 1, 1, 1, 1, 13, 7, 1, 64, 1, 247, 27, 1, 1, 1, 416, 1, 14, 32, 416, 2, 1], [1, 71, 98, 3, 225, 3, 55, 31, 175], [75, 1, 373, 15, 1, 373, 137, 1, 373, 25, 1, 373, 202, 1, 373, 348, 1, 373, 407, 1, 373, 1, 1, 373, 452, 1, 373, 60, 61, 1, 373], [1, 23, 3, 142, 19, 324], [3, 20, 59, 4, 66, 1, 28, 10, 71, 3, 31, 105, 3, 64, 45, 16, 282, 2, 207, 357, 47, 66, 2, 1, 12, 401, 296, 297, 234, 1, 90], [3, 20, 75, 54, 1, 74, 5, 1], [1, 1, 307, 64, 4, 200, 1, 1, 49, 53, 9, 70, 85, 7, 54, 1, 19, 1, 46, 44, 22, 161, 376, 405, 2, 1, 1, 33, 118, 82, 1, 1, 1], [67, 8, 34, 109, 121, 83, 126, 27, 4, 267, 215, 404, 49, 5, 1, 24, 251, 125, 186, 286, 38], [225, 3, 305, 7, 32, 2, 7, 210, 88, 37, 422, 1, 221, 53, 3, 157, 81, 2, 47, 30, 1, 109, 10], [1, 226, 1, 4, 1, 131, 1, 1, 18, 60, 1, 61, 60, 61, 1, 75, 1, 1, 1, 1, 15, 1, 1, 1, 137, 1, 456, 6, 131, 1, 105, 7, 1, 1, 398, 25, 1, 6, 131, 1, 202, 1, 6, 131, 1, 1, 348, 1, 1, 6, 1, 15, 226, 1, 1, 407, 1, 50, 1, 15, 216, 1, 1, 50, 1, 15, 4, 1, 1, 1, 226, 1, 1, 1, 30, 39, 27, 1, 53, 9, 94, 1], [146, 1, 1, 83, 1, 2, 1, 28, 10, 45, 290, 219, 2, 78, 9, 22, 103, 2, 233, 63, 1, 296, 297, 234, 374, 462, 1], [1, 1, 192, 364, 120], [1, 57, 51, 1, 1, 138, 73, 17, 183, 1, 1, 116], [282, 1, 25, 7, 1, 1, 10, 12, 1, 182, 1, 1, 10, 1, 2, 1, 47, 1, 183, 301, 250, 2, 1, 426, 2, 1, 72, 1], [21, 56, 447, 10, 412, 201, 240, 2, 1, 21, 56, 17, 12, 47, 58, 2, 233, 38, 63, 1, 1, 1, 401, 296, 297, 234, 374], [134, 1, 1, 1, 1, 1, 1, 20, 313, 2, 58, 18], [67, 8, 34, 109, 121, 83, 126, 27, 4, 267, 49, 87, 5, 1, 24, 251, 125, 40, 1, 186, 286, 38, 150], [53, 6, 31, 120, 406, 3, 253, 8, 1, 1, 403, 13, 221, 52, 208, 29, 1], [1, 64, 4, 265, 1, 27, 1, 25, 9, 14, 4, 1, 129, 23, 412, 18, 71, 1, 75, 1, 15, 1, 137, 1, 32, 75, 15, 14, 137, 2, 1, 187, 1, 385, 32], [338, 71, 1, 17, 1, 1, 17, 1], [334, 1, 50, 55, 211, 4, 1, 499, 360, 130, 101, 98, 396], [188, 1, 3, 70, 28, 10, 7, 1, 98, 269, 121, 156, 1, 100, 37, 52, 459, 6, 1, 19, 71, 269, 1, 13, 185, 7, 95, 406, 14, 53, 418, 1, 7, 95, 406, 52, 37, 50, 55, 44, 1, 128, 313], [265, 253, 1, 1], [209, 94, 50, 1], [148, 1, 5, 1, 1, 2, 40, 8, 87, 141, 56, 14, 267, 287, 1, 2, 4, 206, 458, 12], [147, 3, 23, 126, 4, 1, 1, 147, 5, 1, 1, 139, 196, 1, 1, 312], [1, 11, 1, 32, 1, 194, 1, 42, 424, 237, 1, 1, 238, 27, 33, 35, 1, 300, 208, 1, 424, 1, 1, 1], [242, 1, 465, 1, 27, 1, 26, 211, 1, 1, 23, 213, 2, 1, 4, 379, 190, 53, 8, 109, 1, 74, 5, 1, 2, 40, 8, 379, 190], [140, 71, 3, 225, 133, 1], [21, 56, 447, 10, 412, 201, 240, 2, 1, 21, 56, 17, 12, 47, 180, 2, 1, 38, 63, 77, 1, 1, 151, 132, 1, 1, 1, 1], [367, 1, 25, 218, 1, 1, 116, 10, 21, 1, 95, 15, 115, 43, 205, 480, 1, 243, 42, 1, 86, 1, 4, 1, 1, 3], [71, 10, 7, 1, 19, 7, 1, 1], [332, 1, 283, 192, 20, 4, 72, 191, 13, 6, 46, 198, 9, 4, 5, 197, 1, 12, 119, 2, 58, 2, 371, 191, 191], [159, 2, 1, 1, 33, 60, 1, 61], [53, 1, 51, 17, 26, 1, 17, 124, 1, 13, 4, 310, 73, 119, 1], [375, 71, 1, 3, 70, 1, 1, 3, 1, 115, 43, 85, 30, 10, 198, 268, 4, 5, 18, 1, 24, 139, 1, 63, 107, 99], [1, 1, 22, 1, 120, 2, 1, 2, 419, 94, 199, 104, 25, 4, 276, 287, 274, 25, 4, 1, 19, 440, 1, 62, 106, 42, 1, 86, 1, 2, 1, 82, 65], [41, 3, 81, 4, 54, 152, 1, 337, 101, 195, 114, 1, 32, 11, 38, 1, 240, 97, 65, 5, 1, 12, 14, 39, 11, 196, 197], [35, 6, 1, 7, 1, 10, 7, 415, 37, 60, 61, 1, 48, 60, 61, 28, 1, 10, 311, 1, 20, 3, 1, 1, 8, 1, 1, 128, 367, 13, 20, 3, 1, 53, 3, 23, 252, 1, 19, 1, 1, 14, 53, 1, 36, 41, 7, 1, 1], [140, 28, 10, 1, 50, 46, 44, 1, 3, 4, 16, 88, 109, 17, 4, 1, 19, 312, 320, 46, 198, 3, 124, 1, 2, 89, 7, 1, 1], [332, 1, 1, 1, 1, 1, 1, 1], [123, 177, 5, 256], [1, 36, 1, 29, 37, 3, 1, 45, 1, 153], [45, 1, 1, 9, 1, 1, 2, 1, 240, 17, 1, 11, 7, 1, 3, 156, 2, 40, 25, 16, 39, 27, 40, 2, 28, 77, 15, 33, 22, 33], [28, 122, 10, 16, 1, 2, 7, 54, 1, 1, 495, 258, 2, 238, 24, 28, 79, 39, 33, 439, 63, 99, 38], [64, 4, 409, 1, 19, 1, 25, 4, 1, 19, 21, 1, 322, 275, 419, 45, 200, 199, 104, 22, 261, 2, 388, 428, 106, 42, 490, 86, 1, 1], [201, 54, 1, 24, 477, 1, 58, 22, 66, 2, 35, 1, 180, 223, 116, 24, 38, 118, 42, 25, 457, 1, 1, 1, 1, 1, 1], [123, 6, 1, 8, 5, 1, 372, 105, 3, 20, 7, 98, 73, 18, 1], [1, 6, 112, 3, 130, 1, 1, 20, 4, 1, 95], [3, 46, 1, 8, 68, 1, 7, 182, 1, 11, 1, 13, 1, 74, 163, 1, 9, 1, 1, 239], [41, 3, 70, 71, 1, 1, 185, 454, 115, 43, 12, 60, 1, 61], [1, 1, 146, 20, 4, 1, 95], [16, 11, 171, 65, 484, 66, 68, 25, 21, 34, 111, 65, 36, 22, 66, 2, 1, 31, 387, 13, 127, 21, 326, 42, 470, 91, 69, 262, 1, 1, 90, 1, 68], [6, 422, 362, 7, 88, 298, 12, 194, 47, 4, 122], [185, 3, 1, 7, 1, 23, 3, 1, 124, 1, 185, 3, 144, 4, 1, 23, 3, 1, 8, 1, 1, 181, 1, 41, 3, 413, 26, 112], [72, 430, 1, 102, 23, 3], [1, 157, 50, 188, 20, 1], [143, 258, 31, 7, 69, 1, 1, 18, 8, 34, 471, 65, 13, 443, 101, 292, 1, 143, 28, 122, 10, 16, 19, 300], [399, 75, 329, 429, 16, 403, 1, 1, 22, 5, 2, 35, 1, 1, 172, 429, 403, 208, 1, 33, 22, 33, 1], [128, 4, 1, 207, 30, 27, 3], [9, 1, 17, 1, 14, 119, 210, 1, 177, 173, 119, 15, 1, 256], [3, 20, 59, 76, 4, 448, 1, 93, 45, 1, 121, 1, 3, 2, 64, 4, 1, 49, 2, 180, 10, 483, 36, 5, 1], [1, 320, 1, 108, 3, 77, 29, 6, 46, 5, 80, 253, 212, 14, 1, 73, 119, 2, 31, 1, 26, 1, 10, 1], [48, 71, 98, 23, 3, 1], [3, 41, 117, 4, 1, 19, 1, 1], [314, 98, 1, 209, 157, 117], [1, 6, 1, 36, 32, 7, 164, 84, 18, 8, 34, 88, 13, 47], [81, 15, 31, 1, 397, 81, 260, 495, 1, 305, 475, 15, 21, 170, 308, 7, 1, 1, 495, 195, 92, 387, 1, 2, 1, 1, 1, 77, 63], [3, 23, 87, 7, 134, 66, 88, 4, 1, 383, 1, 384, 14, 4, 275, 49, 22, 164, 180, 2, 35, 1, 1, 1, 63, 1], [1, 1, 269, 372, 303, 144, 6, 1, 3], [30, 36, 1, 100, 1, 1, 37, 7, 191, 37, 89, 3, 13, 301, 81, 10, 11, 29, 2, 159, 1, 10, 7, 415, 95, 76, 105, 4, 1, 10, 1, 2, 29, 1, 1, 181, 13, 1, 1, 1], [1, 57, 144, 1, 168, 1, 50, 1, 1, 1], [168, 1, 1, 57, 6, 1, 138, 1, 1, 1, 138, 1, 1, 57, 50, 157, 1, 25, 1, 1, 4, 51, 1, 336, 1, 324, 1, 167, 117, 4, 1, 19, 212, 1], [57, 8, 51, 175], [147, 3, 23, 126, 4, 1, 1, 147, 5, 1, 1, 139, 196, 1, 1, 312], [40, 4, 1, 277, 1, 36, 5, 1, 12, 20, 3, 59, 1], [1, 423, 1, 1, 187, 227], [1, 95, 184, 64, 181, 141, 17, 45, 307, 13, 207, 8, 1, 18, 7, 1, 19, 4, 1, 47, 58, 2, 1, 12, 63, 77, 496, 431, 1], [123, 6, 46, 44, 1, 2, 31, 2, 3, 163, 3, 17, 7, 430], [93, 79, 1, 50, 1, 309, 2, 144, 4, 196, 2, 3, 57, 302, 1, 2, 41, 52, 74, 5, 1, 2, 442, 1, 1, 1], [3, 20, 59, 4, 66, 1, 28, 10, 71, 3, 31, 105, 3, 64, 45, 16, 282, 2, 207, 357, 47, 66, 2, 1, 12, 401, 296, 297, 234, 1, 90], [134, 66, 34, 14, 383, 1, 384, 1, 1, 87, 39, 27, 64, 2, 1, 12, 1, 317, 118, 82, 1], [140, 53, 21, 1, 25, 1, 1, 344, 1, 1, 1, 1, 165, 16, 89, 182, 65, 103, 12, 15, 1, 98, 1, 1, 1, 1], [74, 5, 45, 93, 79, 463, 18, 455, 1, 1, 423, 1, 1, 76, 3, 20, 59, 4, 87, 141, 56, 14, 232, 49], [3, 1, 1, 30, 57, 334, 478, 334, 1, 366, 39, 301, 12, 2, 1, 1, 1, 1, 37, 46, 1, 8, 1, 24, 1, 38, 1, 22], [67, 8, 34, 35, 59, 4, 414, 203, 215, 404, 49, 18, 1, 1, 350, 28, 10, 7, 217, 219, 2, 1, 3, 5, 1, 1, 1, 150], [1, 50, 1, 1, 1, 45, 1, 51, 36, 2, 44, 1, 24, 360, 1, 57, 2, 115, 43, 85, 1, 1, 2, 1, 7, 1, 289, 31, 1, 1], [1, 330, 1, 13, 1, 1, 13, 1, 17, 1, 89, 1, 441, 1, 103, 27, 1, 1, 5, 1, 227, 107, 15, 33, 221, 5, 1], [1, 155, 40, 21, 1, 322, 19, 481, 248, 32, 162, 2, 1, 12, 315, 1, 370, 34, 62, 106, 1, 316, 446, 1, 90, 1, 39, 365], [1, 1, 1, 25, 4, 135, 15, 64, 1, 1, 378, 1, 1, 1, 11, 247, 1, 385, 416, 300, 163, 1, 91, 69, 247, 25, 1, 1, 35, 1], [8, 199, 1, 170, 214, 23, 361, 2, 1, 28, 466, 54, 214, 1, 75, 1, 1, 1, 343, 15, 1, 1, 137, 1, 1, 188, 1, 130, 345, 17, 169], [179, 1, 1, 7, 15, 1, 18, 1, 1], [108, 9, 368, 1, 58, 169, 362, 9, 138, 57, 6, 1, 1, 1, 1, 15, 265, 1], [67, 28, 10, 7, 217, 219, 2, 78, 9, 9, 20, 59, 1, 1, 1, 1, 1, 1, 1, 82], [6, 117, 8, 110, 41, 3, 20, 101, 1, 17, 1], [353, 21, 126, 201, 19, 1, 248, 14, 1, 87, 16, 174, 15, 318, 346, 104, 22, 261, 2, 388, 1, 42, 490, 1], [165, 18, 26, 1], [122, 367, 1, 11, 1, 1, 116, 10, 8, 1, 95, 15, 115, 43, 205, 480, 1, 243, 42, 1, 86, 120, 10, 4, 1, 1, 1, 3], [54, 1, 24, 477, 1, 58, 22, 66, 2, 35, 1, 180, 223, 116, 24, 38, 118, 42, 25, 457, 1, 1, 1, 1, 1, 1], [3, 20, 59, 4, 87, 1, 190, 14, 1, 141, 1, 40, 21, 190, 5, 16, 18, 1, 99, 15, 33, 1, 18, 1, 1, 1, 1], [123, 177, 5, 256], [41, 3, 1, 37, 17, 133, 1, 1, 1, 20, 1, 19, 1, 1, 1, 1, 27, 1], [1], [230, 9, 70, 121, 1, 45, 299, 79, 15, 78, 3, 422, 375, 85, 5, 1, 12, 89, 46, 44, 1, 262, 348, 1, 63], [433, 75, 409, 184, 1, 1, 11, 15, 10, 223, 5, 1, 12, 96, 1, 1, 1, 1, 1, 89, 25, 16, 1, 1, 1, 1, 188, 291, 43], [1, 1, 102, 23, 3, 116, 6, 235, 112, 2, 20, 4, 103, 205, 188, 3, 127, 29, 71, 3, 468, 100, 13, 71, 3, 23, 17, 2, 293], [1, 102, 41, 3, 100, 7, 1, 1], [123, 1, 1, 46, 1, 1, 1, 28, 65, 53, 8, 157, 175], [7, 1, 1, 60, 61, 183, 1, 1, 1, 301, 1, 60, 61, 60, 98, 61, 165, 177, 231, 449, 13, 32, 3, 328, 197], [333, 76, 4, 448, 195, 93, 3, 1, 83, 213, 2, 154, 4, 1, 342, 2, 180, 5, 1, 186, 1, 1, 38, 1], [1, 1, 53, 1, 1, 41, 30, 6, 369, 1, 368, 1, 4, 1], [73, 1, 210, 17, 202, 107], [415, 1, 1, 4, 1, 1, 108], [8, 135, 2, 44, 18, 4, 1, 1, 494, 5, 12, 1, 36, 1, 97, 107, 1, 317, 151, 132, 1, 1, 1, 1, 1, 10, 4, 228, 166, 5], [9, 23, 1, 2, 7, 351, 34, 393, 79, 17, 7, 69, 11, 316, 97, 250, 312, 1, 3, 47, 33, 2, 1, 1, 1], [84, 6, 1, 372, 2, 249], [303, 28, 1, 1, 6, 112, 3, 289, 6, 158, 3, 1, 26, 304, 27, 8, 1, 47, 28, 2, 1, 184, 445, 289, 9, 96, 1, 197, 41, 30, 194, 194, 41, 30], [1, 167, 51, 1], [1, 152, 1, 16, 1, 1, 28, 17, 1, 1], [298, 30, 1, 3, 85, 1, 30, 131, 230, 27, 4, 109, 100, 223], [36, 117, 80, 20, 2, 44, 43, 19, 7, 1, 254, 396, 1, 6, 1, 1, 7, 1, 110, 1, 48, 1, 6, 1, 48, 1, 2, 31, 80, 13, 108, 1, 30, 131, 407, 1, 1, 1, 17, 1], [9, 1, 303, 52, 1, 1, 9, 96, 386, 108, 303], [1, 1, 343, 10, 1, 3, 2, 44, 161, 380, 39, 162, 1, 14, 35, 1, 163, 161, 42, 113, 381, 9, 1, 33, 47, 33, 1, 2, 1], [16, 11, 171, 65, 484, 66, 68, 25, 21, 34, 111, 65, 36, 22, 66, 2, 1, 31, 387, 13, 127, 21, 326, 42, 470, 91, 69, 262, 1, 1, 90, 1, 68], [1, 215, 184, 201, 240, 19, 1, 1, 248, 2, 44, 59, 36, 392, 25, 483, 1, 216, 12, 47, 1, 2, 233, 130, 345, 42, 1, 260, 86], [273, 140, 1, 1, 3, 83], [123, 1], [1, 1, 1, 335, 1, 103, 12, 1, 5, 1, 228, 166, 24, 75, 1, 107, 1, 2, 407, 1, 107, 1, 2, 33, 221, 5, 1, 227, 107], [64, 50, 20, 4, 333, 1, 62, 1, 59, 124, 383, 130, 1, 1, 396, 52, 459, 124, 1, 18, 21, 34, 14, 493, 42, 64, 1, 91, 69], [5, 1, 11, 38, 75, 1, 97, 1, 5, 24, 4, 1, 125, 1, 1, 109, 1, 1, 1, 1, 35, 1, 475, 1], [1, 1, 343, 10, 1, 3, 2, 44, 161, 380, 39, 162, 1, 14, 35, 1, 163, 161, 42, 113, 381, 9, 1, 33, 47, 33, 1, 2, 1], [67, 8, 34, 35, 131, 126, 4, 414, 203, 215, 404, 49, 18, 75, 1, 350, 28, 10, 45, 217, 219, 2, 78, 3, 5, 1, 1, 1, 1, 327, 228, 166], [1, 1, 1, 314, 9, 311, 1, 96, 183, 77, 6, 305, 1], [1, 103, 31, 1, 174, 325, 1, 103, 1, 48, 4, 1, 19, 7, 187, 39, 1, 14, 5, 1, 2, 1, 1, 417, 1, 1, 132, 1, 462, 1], [179, 182, 1, 1, 1, 4, 1, 1, 1, 48, 1, 50, 55, 58, 11, 37, 1, 1, 182, 1, 127, 29, 71, 98, 3, 94, 16], [231, 114, 1, 366, 18, 218, 1, 134, 402, 1, 66, 27, 1, 16, 5, 284, 18, 285, 14, 391, 1], [99, 312, 2, 1, 1, 9, 46, 44, 1, 1, 19, 89, 7, 134, 1, 13, 1, 1, 238, 47, 31, 1, 33, 2, 1], [433, 75, 409, 184, 1, 1, 11, 15, 10, 223, 5, 1, 12, 96, 1, 1, 1, 1, 1, 89, 25, 16, 1, 1, 1, 1, 188, 291, 43], [35, 1, 18, 105, 1, 1, 1, 1, 1, 1], [1, 2, 453, 8, 482, 1, 7, 416, 1, 17, 7, 182, 22, 122, 14, 1, 175, 243, 416, 1, 86, 169, 1], [148, 54, 155, 231, 114, 231, 22, 18, 351, 218, 1, 13, 31, 134, 147, 436, 25, 16, 5, 284, 16, 18, 285, 12, 14, 1, 62, 106], [26, 1, 1, 1, 48, 115, 1, 1, 1, 1, 1], [231, 114, 231, 22, 75, 15, 281, 1, 18, 134, 218, 1, 1, 5, 284, 11, 7, 254, 134, 370, 285, 14, 391, 1], [399, 179, 120, 1, 334, 83, 137, 1, 12, 13, 35, 164, 110, 1, 100, 246, 344, 3, 80, 11, 30, 157, 1, 84, 331, 385, 1, 2, 47, 118, 82, 2, 1], [433, 75, 409, 184, 1, 1, 11, 15, 10, 223, 5, 1, 12, 96, 1, 1, 1, 1, 1, 89, 25, 16, 1, 1, 1, 1, 188, 291, 43], [76, 97, 8, 1, 1, 1, 1, 121, 83, 1, 76, 8, 1, 11, 89, 1, 1, 452, 2, 1, 8, 420, 1], [1, 1, 175, 1, 4, 103, 14, 1, 27, 293, 1, 17, 440, 1, 2, 31, 1, 80, 36, 39, 1, 12, 16, 15, 308, 1, 22, 33, 1], [6, 131, 48, 1, 1, 12, 314, 57, 12, 73, 1, 210, 1, 167, 52, 283, 108, 39, 6, 1, 1, 4, 292, 1, 6, 100, 57, 1, 1, 209, 94, 167, 12], [108, 3, 23, 1, 70], [1, 1, 103, 169, 1, 12, 1, 1, 1, 327, 228, 166, 227, 107, 38, 24, 1], [242, 1, 465, 1, 27, 1, 23, 213, 2, 4, 154, 4, 379, 190, 53, 8, 109, 1, 5, 1, 2, 154, 8, 379, 190], [1, 1, 359, 1, 1, 14, 411, 100, 37], [52, 188, 453, 1, 80, 101, 102], [156, 8, 1, 34, 1, 1, 134, 402, 66, 1, 89, 16, 231, 114, 32, 18, 218, 1, 32, 162, 11, 1, 35, 2, 1, 24, 1], [353, 1, 59, 1, 4, 333, 17, 45, 1, 141, 49, 104, 5, 1, 12, 49, 145, 1], [8, 477, 176, 11, 1, 136, 1, 1, 279, 2, 40, 5, 1, 280, 145, 1, 259, 1, 350, 1], [74, 5, 45, 93, 79, 463, 18, 1, 1, 1, 1, 423, 1, 1, 76, 3, 20, 59, 4, 87, 141, 56, 14, 232, 49], [67, 50, 23, 264, 2, 78, 9, 242, 104, 136, 37, 3, 20, 59, 4, 451, 49, 87, 5, 1, 24, 251, 125, 40, 1, 1, 38], [50, 309, 2, 78, 3, 442, 8, 39, 2, 45, 155, 19, 4, 152, 1, 239, 337, 1, 114, 429, 32, 323, 39, 14, 5, 272, 12], [35, 1, 1, 1, 348, 1, 452, 153, 1, 101, 1, 71, 98, 6, 339, 159, 197], [41, 3, 81, 239, 337, 101, 195, 114, 1, 32, 13, 4, 54, 152, 88, 11, 38, 1, 240, 97, 65, 5, 1, 14, 39, 11, 196, 197], [194, 1, 7, 98, 2, 180, 7, 1], [102, 23, 3, 26, 112, 23, 3, 27, 8, 1, 98, 2, 372, 1, 27, 249, 1, 303, 179, 1, 1, 1, 1, 24, 1, 7, 1], [3, 20, 124, 367, 93, 79, 1, 5, 1, 455, 1, 1, 12], [231, 114, 13, 366, 25, 1, 16, 1, 18, 218, 1, 18, 1, 66, 402, 436, 5, 284, 18, 285, 14, 391, 1], [204, 3, 23, 1, 4, 148, 54, 1, 41, 1, 3, 7, 254, 351, 3, 23, 1, 11, 1], [1, 97, 107, 2, 5, 1, 1, 24, 8, 327, 125, 36, 1, 97, 107, 449, 1, 86, 11, 345, 472, 244, 32, 33, 2, 306, 43], [1, 26, 1, 2, 249], [57, 73, 1, 269, 157, 55, 375, 298, 138], [338, 1, 48, 28, 1, 6, 375, 51], [5, 29, 6, 288, 1, 2, 1, 1, 265, 1, 13, 1], [123, 26, 1, 1, 1, 30, 84, 53, 6, 159, 92, 12], [1, 353, 17, 28, 1, 1, 104, 9, 20, 59, 7, 1, 49, 2, 40, 36, 5, 1, 1, 62, 106, 33, 113, 1, 181, 99, 38, 150], [1, 307, 346, 1, 64, 4, 292, 1, 1, 384, 53, 9, 70, 320, 1, 7, 1, 10, 17, 22, 1, 2, 1, 118, 82, 1, 1], [3, 55, 1, 41, 313], [74, 5, 1, 1, 76, 120, 10, 124, 67, 122, 294, 11, 3], [102, 46, 6, 1, 18, 3, 12], [52, 12, 26, 1, 10, 1, 5, 253, 168, 1, 43, 19, 212, 13, 368, 89, 1, 1, 1], [1, 138, 459, 1, 1, 33, 14, 9, 389, 15, 58, 1], [263, 12, 257, 155, 134, 402, 1, 66, 16, 1, 231, 114, 1, 22, 18, 218, 5, 284, 18, 285, 14, 391, 1], [148, 1, 1, 10, 26, 1, 13, 1, 11, 1, 111, 430], [140, 1, 309, 1, 9, 12, 1, 2, 1, 9, 1, 198, 29, 4, 1, 1, 1, 9, 96, 1, 77, 1], [1, 66, 214, 1, 1, 68, 1, 2, 224, 469, 68, 1, 2, 224, 1, 1, 1, 1, 1, 1, 42, 470, 91, 69, 1, 63], [119, 18, 313, 148, 1], [6, 131, 1, 53, 30, 235, 44, 1, 11, 3, 2, 5, 1, 1, 13, 492, 249, 70, 37, 1, 23, 51, 7, 415, 17, 1, 76, 129, 94, 175, 37, 60, 61, 1, 10, 1, 305, 13, 37, 3, 70, 128, 4, 1, 57, 6, 1, 2, 410, 110, 111, 1, 168, 1, 111, 1, 52, 11, 29, 2, 1, 418, 24, 3, 10, 51, 1, 411, 100, 37], [94, 167, 1, 110, 11, 1], [438, 6, 81, 30, 2, 44, 8, 460], [338, 6, 131, 1, 211, 329, 6, 1, 246, 17, 57, 6, 1, 60, 61, 36, 17, 1, 6, 131, 1, 130, 1, 7, 65, 1, 129, 1, 30, 18, 7, 1], [1, 9, 1, 6, 1, 1, 1, 6, 432, 9, 235, 5], [102, 363, 235, 30, 187, 2, 1, 4, 1], [84, 6, 273, 389, 15, 1, 183, 452, 417, 494], [245, 8, 477, 176, 278, 11, 1, 136, 1, 1, 215, 279, 2, 40, 5, 1, 280, 145, 1, 259], [3, 1, 336, 30, 24, 29], [353, 21, 126, 1, 275, 19, 1, 287, 248, 16, 174, 15, 45, 200, 199, 104, 22, 261, 2, 388, 1, 42, 490, 86, 75, 1], [178, 1, 1, 1, 1], [11, 1, 1, 1, 72, 1, 57, 35, 1, 14, 1], [16, 77, 50, 1, 8, 34, 109, 92, 1, 24, 1, 1, 74, 5, 1, 2, 20, 1, 1, 28, 5, 46, 44, 16, 24, 4, 327, 139], [1, 215, 184, 201, 240, 19, 1, 1, 248, 2, 44, 59, 36, 392, 25, 483, 1, 216, 12, 47, 1, 2, 233, 130, 345, 42, 1, 260, 86], [245, 8, 358, 176, 278, 11, 136, 347, 359, 394, 178, 6, 288, 279, 5, 1, 280, 145, 1, 259, 1, 1, 395], [64, 50, 20, 4, 333, 1, 62, 1, 59, 124, 383, 130, 1, 1, 396, 52, 459, 124, 1, 18, 21, 34, 14, 493, 42, 64, 1, 91, 69], [2, 1, 13, 459, 7, 1, 66, 169, 1, 378, 1, 27, 258, 66, 58, 15, 42, 1, 86, 1, 238, 24, 1, 39, 27, 7, 164, 43], [47, 4, 1, 15, 21, 1, 15, 1, 1, 92, 4, 304, 22, 112, 1, 1, 1, 469, 112, 1, 1, 1, 2, 1, 1, 1, 1, 25, 35, 1, 63], [146, 274, 1, 20, 8, 182, 1, 18, 268, 453, 7, 1, 1, 18, 8, 1, 15, 354, 4, 15, 25, 75, 1, 1, 42, 1, 86, 1, 1, 1], [52, 8, 1, 29, 6, 1, 83, 8, 260, 1, 13, 6, 1, 9, 1, 362, 29, 11, 313], [1, 52, 1, 1, 1, 1, 138, 422, 1, 19, 418, 1, 57, 177, 173, 1, 26, 1, 256], [83, 80, 2, 1, 460, 1, 185, 3, 20, 4, 72, 1, 105, 23, 9, 1, 1, 6, 1, 1, 116], [102, 133, 360, 17, 1, 27, 1, 294, 11, 1, 36, 22, 110, 8, 405, 13, 1, 2, 306, 17, 354, 7, 1, 63, 113], [133, 60, 61, 1, 7, 1, 1, 23, 1, 1, 2, 5, 7, 1, 13, 115, 43], [57, 6, 1, 1, 6, 1, 1, 26, 1, 116], [127, 8, 420, 71, 3, 1, 2, 41, 18, 1, 95, 60, 1, 61], [35, 73, 17, 7, 415, 1, 157, 175, 48, 26, 1, 449, 29, 43, 18, 1, 73, 310, 1], [1, 220, 1, 1, 19, 21, 88], [16, 77, 1, 115, 4, 1, 17, 8, 1, 1, 19, 260, 445, 23, 294, 2, 103, 12, 47, 103, 2, 1, 47, 1, 1, 82, 97, 77], [120, 10, 35, 1, 17, 26, 1, 13, 1], [3, 1, 144, 1, 1, 1, 129, 23], [1, 1, 80, 11, 1, 13, 1, 1, 100, 4, 1, 454, 12, 6, 413, 1, 57, 48, 1, 128, 51, 1, 1, 1, 19, 1], [372, 293, 144, 54, 420, 14, 1, 17, 112, 17, 7, 1, 1, 1, 32, 299, 79, 36, 32, 1, 2, 1, 13, 163, 85, 3, 369, 265], [108, 167, 159, 169, 362, 29, 48, 1, 1], [492, 29, 70, 105, 1, 117, 7, 491, 52, 1, 55, 144, 7, 5], [113, 381, 1, 1, 1, 1, 10, 1, 288, 24, 1, 1, 1, 449, 249, 43, 243, 1, 113, 381, 479, 1, 25, 35, 1, 1, 47, 1], [81, 4, 54, 152, 88, 239, 337, 101, 195, 114, 310, 281, 125, 488, 16, 32, 11, 137, 1, 39, 14, 5, 272, 11, 16, 196], [72, 1, 26, 1, 102, 1, 37, 1, 175, 13, 120, 95, 185, 3, 31, 37, 1, 1, 23, 3, 157, 43, 13, 133, 6, 1, 13, 291, 3, 295], [245, 8, 358, 176, 278, 11, 136, 347, 359, 394, 178, 6, 288, 279, 5, 1, 280, 145, 1, 259, 1, 250, 1], [67, 21, 126, 4, 421, 1, 2, 1, 1, 1, 1, 14, 141, 2, 40, 22, 1, 2, 1, 99, 348, 118, 82, 1, 1, 250, 1, 1], [6, 117, 1, 11, 1, 48, 6, 1, 3, 51, 60, 98, 61, 417], [153, 11, 8, 143, 321, 1, 109, 1, 8, 34, 46, 44, 377, 1, 82, 339, 8, 68, 51, 1, 74, 5, 93, 236, 18, 1], [140, 146, 5, 29, 128, 1, 6, 193, 70, 1, 8, 1, 3, 193, 81, 2, 212, 14, 53, 3, 20, 101, 400, 1, 48, 1, 127, 29, 1, 11, 8, 39], [74, 5, 45, 93, 79, 463, 18, 1, 1, 1, 1, 423, 1, 1, 76, 3, 20, 59, 4, 87, 141, 56, 14, 232, 49], [1, 1, 1, 1, 1, 1, 60, 61], [6, 418, 138], [1, 1, 11, 416, 1, 86, 10, 1, 453, 8, 416, 88, 51, 1], [162, 168, 20, 72, 1, 1], [1, 1, 1, 209, 23, 3, 6, 369, 1, 19, 1, 3, 70, 1, 1, 1, 6, 158, 3], [178, 178, 1, 60, 61], [1, 37, 83, 7, 1, 1, 1, 1], [6, 305, 3, 7, 1, 13, 41, 3, 1, 7, 60, 61, 301], [74, 5, 1, 27, 1, 2, 1, 14, 1, 8, 1, 62, 34, 1, 16, 19, 300, 155, 1, 116, 1, 1, 1, 1, 1, 2, 472, 13, 244], [20, 72, 498], [230, 121, 1, 45, 299, 79, 13, 1, 8, 88, 1, 129, 1, 3, 2, 115, 43, 85, 30, 10, 5, 24, 4, 139, 1, 1], [1, 1, 10, 1, 108, 1, 10, 7, 19, 1, 1, 53, 9, 1, 1, 3, 1, 60, 61, 1, 1, 178, 1, 408, 441, 2, 392], [148, 1, 422, 33, 1, 220], [1, 1, 1, 1, 159, 1, 21, 16], [84, 1, 6, 1, 30, 131, 84, 6, 36, 1, 271, 363, 6, 20, 2, 41, 246, 1, 1, 26, 1, 13, 108, 20, 2, 1, 328, 57, 3, 55, 5, 29, 120, 1], [153, 11, 8, 143, 321, 1, 109, 1, 8, 34, 46, 44, 377, 25, 82, 339, 8, 68, 51, 1, 74, 5, 93, 236, 1, 24, 241, 1, 32, 241, 1], [123, 177, 5, 256, 60, 61, 114], [50, 70, 1, 1, 76, 1, 19, 112, 57, 7, 400, 1, 1, 1, 75, 1, 131, 1, 1, 1, 43, 19, 1, 407, 1, 15, 1, 1, 1, 1, 2, 1, 161, 137, 1, 1, 17, 161, 60, 61, 1, 196, 25, 168, 108, 1, 1, 1, 408, 1, 209, 7, 1, 10, 7, 112, 7, 148, 1], [1, 5, 1, 1, 465, 1, 57, 1, 35, 122, 1], [67, 8, 34, 109, 121, 83, 126, 27, 4, 267, 49, 87, 5, 1, 24, 251, 125, 40, 1, 186, 286, 38], [1, 25, 7, 98, 1, 1, 1, 128, 1, 1, 21, 26, 1, 13, 89, 6, 81, 10, 9, 1], [67, 50, 23, 264, 2, 78, 9, 242, 104, 136, 37, 3, 20, 59, 4, 451, 49, 87, 5, 1, 24, 251, 125, 40, 1, 186, 286, 38], [209, 23, 3, 71, 23, 3, 252, 23, 1, 1, 18, 360, 7, 1, 2, 8, 1, 185, 3, 115, 4, 1, 37, 30, 235, 212, 6, 158, 3], [6, 165, 335, 169, 1, 13, 1, 6, 206, 1, 2, 3, 32, 4, 39, 2, 336, 1, 110, 24, 29, 63, 97, 77, 1, 1, 1, 39, 33, 2, 266], [257, 155, 134, 402, 1, 66, 16, 1, 14, 1, 231, 114, 1, 22, 18, 218, 5, 284, 18, 285, 14, 391, 1], [23, 3, 1, 27, 8, 1, 1, 17, 1], [1, 1, 1, 110, 12, 108], [153, 11, 28, 204, 3, 156, 4, 72, 95, 116], [153, 25, 8, 1, 1, 8, 408, 28, 65, 46, 419, 9, 1, 45, 104, 25, 200, 56, 405, 7, 54, 268, 1, 22, 1, 2, 1], [313, 311, 36, 1, 1, 1, 80, 2, 1], [16, 171, 65, 174, 15, 1, 25, 4, 135, 15, 64, 1, 383, 14, 276, 56, 111, 172, 22, 1, 2, 1, 428, 106, 42, 1, 237, 431, 1], [192, 1, 1, 31, 7, 1, 340, 143, 14, 241, 425, 18, 1, 34, 32, 68, 14, 425, 2, 1, 12, 306, 43, 22, 1, 33, 1, 1, 118, 82], [140, 7, 1, 1, 23, 294, 11, 3, 2, 32, 324, 32, 12, 11, 4, 148, 191, 1, 47, 33, 2, 33, 28, 79], [1, 206, 1, 103, 36, 1, 107, 443, 8, 1, 13, 1, 206, 5, 1, 12, 1, 103, 1, 1, 206, 79, 1, 1], [195, 458, 7, 79, 10, 16, 11, 62, 244, 493, 1, 1], [23, 3, 229, 1, 23, 3, 1, 185, 3, 207, 37, 1, 6, 204, 8, 450, 6, 47, 3, 4, 1, 2, 144, 3, 1, 24, 1, 7, 1, 1, 1], [143, 258, 1, 54, 1, 475, 2, 8, 34, 111, 65], [399, 45, 1, 1, 3, 390, 44, 1, 2, 1, 240, 11, 7, 1, 3, 156, 2, 40, 11, 16, 39, 27, 162, 2, 28, 77, 2, 306, 43, 32, 33], [1, 364, 1, 452, 1], [67, 50, 23, 264, 2, 78, 3, 211, 1, 104, 136, 37, 3, 20, 59, 4, 1, 49, 87, 5, 1, 40, 145, 1, 186, 1, 38], [1, 19, 1, 299, 441, 1, 22, 1, 2, 1, 53, 3, 193, 100, 1, 22, 1, 13, 31, 4, 54, 1, 1, 1, 63, 77, 1, 90], [36, 1, 1, 3], [179, 295, 26, 380, 156, 2, 1, 157, 80, 11, 4, 493], [209, 48, 302, 1, 271], [245, 8, 358, 176, 278, 11, 136, 347, 359, 394, 178, 6, 288, 279, 5, 1, 280, 145, 1, 259, 1, 250, 395], [1, 142, 143, 13, 12, 360, 221, 1, 137, 1, 1, 130, 214, 1], [1, 146, 1, 28, 10, 8, 290, 1, 2, 180, 8, 25, 1, 149, 14, 1, 56, 190, 5, 1, 24, 139, 1, 255, 1, 1, 150], [23, 3, 48, 212, 298, 12], [192, 1, 1, 31, 7, 1, 340, 143, 14, 241, 425, 18, 1, 34, 32, 68, 14, 425, 2, 1, 12, 306, 43, 22, 1, 33, 1, 1, 118, 82], [1, 5, 29, 105, 3, 31, 7, 135, 4, 380, 19, 1, 1, 29, 2, 368, 3, 133, 4, 1, 321], [1, 123, 1, 6, 1, 96, 21, 77, 51, 1, 386, 1, 29, 1, 349, 12, 9, 157, 17, 1], [1, 1, 41, 3, 81, 4, 54, 66, 1, 241, 88, 1, 27, 1, 16, 319, 2, 101, 34, 318, 16, 221, 16, 323, 39, 14, 5, 272], [1, 123, 36, 2, 449, 37, 3, 193, 1, 1, 29, 80, 1, 48, 310, 1, 24, 1, 235, 37, 44, 84], [295, 9, 81, 29, 188, 9, 1, 364, 1, 13, 20, 4, 460, 25, 1, 1, 4, 1, 98, 27, 4, 293, 1, 102, 133, 50, 58, 1, 169, 1, 22, 331, 1, 1], [3, 23, 12, 1, 89, 236, 31, 1, 19, 293, 1, 14, 1, 1, 2, 8, 88, 58, 2, 243, 1, 91, 69, 35, 1], [9, 1, 1, 9, 1, 1, 6, 131, 119, 43, 1, 249, 1, 169, 9, 157, 159, 169, 368, 29], [67, 8, 34, 109, 121, 83, 126, 27, 4, 267, 49, 87, 5, 1, 24, 251, 125, 40, 1, 186, 286, 38], [332, 1, 117, 1, 1, 1, 1, 6, 131, 1, 55, 58, 11, 1, 108, 1, 2, 1, 1, 397, 73, 16, 1, 13, 1, 4, 1, 1, 397], [1, 1, 4, 1, 17, 356, 1, 1, 1, 4, 1, 1, 9, 413, 48, 21, 1, 1, 9, 41, 1, 21, 1, 314, 1, 1, 1, 1, 1, 1, 1, 1, 289, 1, 9, 1, 30, 2, 89, 1, 146, 1, 1, 1, 1, 9, 422, 206, 6, 1, 185, 30, 1, 1], [1, 19, 7, 1, 1, 19, 7, 1, 17, 1, 12, 39, 1, 92, 15, 1, 25, 135, 15, 64, 1, 1, 1, 1, 39, 33, 2, 266, 366], [3, 20, 1, 1, 76, 1, 480, 17, 48, 1, 86, 13, 419, 1, 60, 61, 2, 1, 1, 19, 1, 41, 51, 1, 14, 1, 1, 2, 1], [101, 1, 209, 23, 3, 13, 71, 252], [11, 21, 135, 2, 64, 4, 276, 346, 277, 1, 22, 341, 2, 1, 472, 244, 42, 22, 15, 341, 86, 431, 1, 1, 172], [123, 133, 1, 1, 43, 1, 23, 3, 1, 2, 372, 253, 452, 14, 41, 3, 1, 20, 4, 356, 338], [16, 1, 68, 36, 32, 1, 2, 1, 108, 111, 65, 31, 4, 54, 68, 1, 38, 118, 82, 172], [6, 1, 62, 225, 52, 3, 193, 158, 2, 44, 119, 43, 37, 283, 18, 4, 1, 191, 1, 105, 7, 142, 1, 3, 20, 10, 7, 142, 3, 1, 211, 1, 13, 1, 1, 4, 1, 17, 18, 1], [1, 1, 2, 64, 56, 24, 318, 2, 1, 203, 240, 22, 1, 13, 47, 2, 1, 187, 63, 95, 1, 90, 1, 160, 39, 1, 25, 345], [73, 51, 1, 1, 108, 177, 31, 1, 48, 183, 1, 1, 138], [102, 235, 26, 1, 1, 1, 37, 1, 26, 1, 1, 4, 1, 1], [55, 3, 41, 1, 1], [1, 1, 2, 40, 21, 1, 149, 47, 4, 1, 1, 1, 1, 2, 1, 18, 268, 69, 151, 132, 1, 1, 1, 1, 307, 1, 444, 1, 33], [177, 44, 48, 1, 17, 100, 60, 61, 1], [341, 1, 9, 1, 10, 30, 3, 1, 1, 1, 275, 56, 14, 200, 1, 274, 5, 12, 1, 1, 151, 132, 1, 1, 187, 150, 34, 1], [1, 1, 51, 271, 283, 2, 321, 1, 1, 11, 1, 5, 455, 1, 2, 398, 8, 321, 406, 1, 197], [167, 1, 256, 57, 73, 1, 1, 26, 1, 12, 1, 167, 119, 210, 376], [35, 75, 66, 68, 25, 21, 170, 111, 65, 36, 22, 1, 2, 1, 171, 68, 16, 52, 31, 1, 12, 13, 127, 21, 420, 63, 68, 90, 39, 1, 1], [140, 1, 364, 51, 1, 1, 127, 1, 364, 123, 25, 29, 204, 9, 1, 1, 1, 1, 1, 1, 30, 1, 173, 1, 57, 1, 1, 1, 18, 1, 1, 365], [231, 8, 114, 366, 18, 218, 14, 75, 15, 281, 1, 402, 13, 1, 27, 173, 1, 16, 66, 16, 5, 284, 18, 285, 1, 1], [245, 8, 358, 176, 278, 11, 1], [1, 83, 1, 11, 7, 298, 1, 2, 1, 3, 11, 28, 1, 6, 1, 6, 476, 207, 8, 208, 11, 1, 13, 46, 1, 26, 1, 3, 20, 83, 1, 13, 4, 1, 48, 89, 1], [9, 16, 18, 1, 1, 9, 389, 15, 1, 1, 1, 1, 29, 169, 1, 169, 1, 1], [8, 1, 1, 1, 10, 1, 11, 1, 47, 33, 2, 1, 93, 236, 1], [26, 1, 119, 2, 1, 130, 1, 29, 220], [162, 50, 23, 1, 271], [156, 8, 34, 1, 1, 14, 130, 9, 94, 1, 2, 263, 2, 7, 134, 241, 1, 27, 147, 11, 16, 5, 7, 34, 263, 91, 16, 18, 1], [16, 174, 17, 15, 4, 346, 473, 2, 64, 1, 1, 290, 1, 1, 390, 1, 32, 1, 2, 1, 2, 154, 174, 408, 385, 22, 166, 62, 244, 160, 1], [30, 121, 1, 298, 12, 1, 1, 11, 161, 92, 197], [1, 25, 1, 1, 1, 17, 158, 1, 18, 21, 170, 127, 21, 1, 22, 68, 461, 2, 224, 11, 1, 14, 340, 461, 11, 1, 1, 1, 1, 15, 461], [153, 11, 8, 143, 321, 1, 109, 1, 8, 34, 46, 44, 377, 1, 82, 339, 8, 68, 51, 1, 74, 5, 93, 236, 18, 1], [1, 138, 6, 1, 4, 1, 1, 142, 6, 1, 1, 84, 1, 1, 57, 6, 158, 217, 1, 1], [76, 4, 448, 93, 6, 165, 1, 2, 1, 3, 37, 1, 1, 1, 19, 8, 170, 35, 3, 23, 126, 27, 4, 1, 215, 49, 5, 1], [242, 1, 465, 1, 1, 23, 213, 2, 154, 4, 1, 190, 53, 3, 20, 4, 1, 74, 5, 1, 1, 40, 145, 1, 1, 1, 1], [148, 2, 336, 3, 23, 1, 192, 52, 1, 1, 1, 1], [1, 1, 1, 1, 202, 1, 1, 1, 27, 1, 24, 1, 16, 1, 15, 89, 1, 345, 1, 1], [102, 1, 121, 30, 83, 1, 3, 1, 1], [50, 309, 2, 78, 3, 442, 8, 39, 2, 45, 155, 19, 4, 152, 88, 239, 337, 101, 195, 114, 310, 281, 125, 488, 323, 39, 14, 5, 272], [112, 3, 1, 112, 9, 1], [6, 375, 3, 369, 44, 76, 72, 124, 1, 76, 101, 338], [52, 205, 1, 3, 1], [113, 381, 1, 1, 1, 3, 1, 1, 1, 2, 303, 140, 140, 33, 47, 33, 2, 1], [367, 122, 28, 10, 4, 290, 78, 219, 3, 20, 367, 1, 294, 43, 45, 93, 1, 1, 259, 1, 25, 395, 5, 1, 12], [110, 15, 212, 1, 310, 1, 181, 55, 9, 96, 29, 1, 25, 246, 293, 1, 1, 6, 20, 15, 58, 110, 103, 12, 1, 382, 1, 403, 118, 1], [167, 157, 1, 220, 1], [140, 55, 6, 74, 31, 4, 60, 61, 1, 1, 24, 3, 6, 1, 410, 3, 110, 92, 1, 1, 194], [53, 168, 1, 1, 168, 46, 31, 1, 17, 1, 312, 168, 20, 148, 1, 13, 1], [74, 5, 1, 1, 76, 120, 10, 124, 67, 122, 294, 11, 3], [5, 1, 13, 47, 45, 1, 325, 1, 1, 36, 1, 107, 2, 33, 221, 5, 1, 1, 166], [72, 430, 26, 1, 1, 1, 1, 1, 1, 26, 293, 1, 12, 71, 41, 3, 41, 41, 3, 225, 19, 29, 41, 3, 1, 29, 41, 3, 158, 29], [1, 59, 1, 2, 7, 1, 1, 290, 14, 451, 56, 2, 180, 5, 1, 1, 262, 1], [179, 94, 167, 157, 1, 1, 1, 7, 1], [165, 18, 4, 1, 110, 24, 1, 52, 73, 1, 51], [39, 27, 8, 405, 13, 1, 13, 3, 46, 154, 92, 1, 4, 466, 1, 16, 1, 48, 1, 1, 1, 42, 1, 86, 1, 1], [1, 1, 1, 25, 4, 135, 15, 64, 1, 1, 378, 1, 1, 1, 11, 247, 1, 385, 416, 300, 163, 1, 91, 69, 247, 25, 1, 1, 35, 1], [356, 121, 1, 83, 28, 363, 344, 13, 148, 1, 3, 1, 17, 3, 1, 30, 1, 184, 11, 29, 6, 1, 1, 3, 354, 142, 1, 113], [1, 1, 1, 204, 1, 1, 382, 1, 1, 19, 212, 179, 58, 1, 1, 15, 9, 1, 1, 19, 1, 331], [84, 254, 72, 128, 89, 133, 1, 37, 491], [72, 1, 26, 1, 102, 23, 3, 1, 116, 1, 6, 204, 23, 3, 1, 26, 72, 1, 23, 3, 26, 1, 1, 41, 3, 74, 8, 1], [67, 50, 23, 264, 2, 78, 9, 242, 104, 136, 37, 3, 20, 59, 4, 451, 49, 87, 5, 1, 24, 251, 125, 40, 1, 186, 286, 38], [67, 50, 23, 264, 2, 78, 9, 242, 104, 136, 37, 3, 20, 59, 4, 451, 49, 87, 5, 1, 24, 251, 125, 40, 1, 1, 38], [222, 198, 29, 4, 1, 1, 4, 60, 61, 48, 1], [10, 1, 178, 1, 1, 72], [74, 5, 45, 93, 79, 463, 18, 1, 1, 1, 1, 423, 1, 1, 76, 3, 20, 59, 4, 87, 141, 56, 14, 232, 49], [245, 8, 477, 176, 278, 11, 1, 407, 136, 1, 1, 215, 279, 2, 40, 5, 1, 280, 145, 1, 259, 1, 1, 1], [74, 5, 1, 1, 76, 120, 10, 124, 67, 122, 294, 11, 3], [4, 1, 257, 342, 10, 294, 11, 3, 45, 1, 121, 1, 1, 3, 24, 45, 1, 34, 1, 2, 154, 4, 1, 342, 36, 5, 1], [442, 8, 5, 3, 1, 163, 26, 1, 1], [1, 76, 437, 1, 76, 9, 100, 35, 1, 1, 15, 443, 9, 55, 1, 47, 15, 440, 1, 22, 456, 2, 1, 316], [1, 73, 1, 4, 1, 1, 44, 48, 1, 17, 100, 60, 61, 107], [341, 1, 9, 1, 10, 30, 3, 1, 1, 1, 275, 56, 14, 200, 1, 274, 5, 12, 1, 1, 151, 132, 1, 1, 187, 150, 34, 1], [3, 1, 59, 8, 25, 1, 1, 1, 149, 14, 232, 270, 189, 5, 1, 12, 1, 255, 457, 178, 1, 1, 1, 1, 82, 417, 1], [399, 1, 7, 95, 53, 3, 23, 361, 73, 1, 206, 17, 8, 1, 6, 112, 1, 344, 247, 1, 317, 1, 97, 77, 39, 33, 2, 266], [84, 9, 55, 207, 29, 277, 105, 9, 31, 1, 226], [17, 356, 105, 3, 373, 1, 36, 1, 4, 1, 51, 1, 128, 1, 7, 408, 57, 499, 7, 1, 17, 7, 1, 9, 46, 70, 71, 8, 304, 10, 1, 11, 1], [6, 46, 159, 197, 1], [71, 116, 1, 1, 10, 149, 52, 35, 212], [76, 1, 1, 450, 229, 289, 252, 192], [51, 1, 24, 1, 4, 499, 5, 29, 12, 165, 175, 89, 191, 27, 36, 26, 1, 18, 144, 29, 1, 11, 30, 100, 9, 185, 211, 98, 1, 1, 382, 1, 237], [123, 177, 5, 256, 17, 1], [41, 3, 1, 1, 37, 105, 1, 1, 1, 119, 1, 1, 3, 10, 124, 1, 13, 1, 1, 1, 1, 3, 10, 4, 1], [31, 8, 1, 361, 11, 1, 27, 4, 16, 1, 19, 1, 1, 13, 1, 322, 1, 82, 38, 27, 7, 1, 28, 444, 2, 33, 1, 1, 91, 69], [22, 5, 2, 35, 1, 40, 8, 342, 19, 137, 1, 372, 98, 2, 453, 24, 8, 88, 12, 1, 1, 1, 1, 90, 33, 1, 42, 1, 349], [16, 143, 32, 376, 2, 1, 11, 4, 340, 14, 32, 31, 2, 1, 11, 4, 478, 68, 208, 1, 1, 90, 253, 171, 16, 214, 23, 1, 2, 1, 22, 33], [1, 28, 10, 7, 217, 219, 2, 78, 9, 9, 20, 59, 1, 5, 1, 1, 1, 62, 1, 1, 150, 1, 1, 82], [1, 197, 1, 60, 61, 30, 10], [335, 206, 1, 5, 12, 1, 36, 1, 97, 107, 1, 317, 151, 132, 1, 1, 1, 1, 1, 10, 4, 228, 166, 5], [140, 26, 1, 121, 83, 1, 18, 60, 61, 1, 19, 182, 329, 6, 70, 128, 311, 1, 327, 1, 1, 1, 62, 1, 1, 19, 4, 1], [3, 55, 33, 1, 258, 214, 92, 1, 33, 1, 163, 26, 68, 86, 354, 1, 11, 1, 258, 214, 187, 1, 82, 65, 1, 151, 132, 1, 1, 1, 15, 137], [67, 50, 23, 264, 2, 78, 3, 211, 1, 104, 136, 37, 3, 20, 59, 4, 1, 49, 87, 5, 1, 40, 145, 1, 186, 286, 38], [338, 332, 35, 295, 6, 476, 44, 1, 325, 8, 398, 253, 1, 57, 153, 11, 7, 1], [6, 1, 105, 269, 1, 28, 269, 1, 71, 339, 44, 4, 344, 277, 1, 325, 124, 1, 95, 19, 102, 1, 235, 468, 17, 161, 1], [162, 6, 1, 2, 47, 1, 2, 144, 30, 57, 1, 1, 110, 52, 73, 110, 17, 1, 231, 1, 48, 7, 1, 271, 6, 1, 56, 17, 89, 26, 1], [9, 20, 4, 485, 486, 85, 10, 434, 15, 144, 78, 27, 9, 115, 43, 85, 129, 94, 435, 85, 487, 21, 52, 184, 5, 18, 1, 1, 1], [1, 24, 1, 140, 28, 10, 8, 1, 1, 113, 1, 3, 20, 25, 1, 3, 20, 1, 1, 74, 5, 110, 18, 1, 2, 1, 8, 1, 13, 1], [222, 46, 41, 1, 289, 6, 23, 252, 246, 1, 52, 177, 44, 175, 105, 3, 31, 210], [71, 1, 2, 161, 127, 7, 1], [3, 46, 58, 2, 1, 6, 1, 1], [1, 24, 1, 1, 1, 208], [72, 1, 26, 112, 30, 131, 72, 2, 163, 8, 1, 18, 1, 13, 31, 8, 1, 254, 1, 1, 26, 1, 1, 6, 1, 26, 1, 13, 270, 3], [117, 71, 30, 1, 15, 207, 357, 17, 7, 1, 1, 17, 1, 9, 55, 27, 1, 1, 32, 1, 1, 2, 1, 1, 163, 1, 14, 1, 91, 69, 1, 1, 44, 9], [6, 46, 1, 6, 81, 2, 58, 2, 1, 1, 253, 37, 6, 1, 1, 28, 71, 6, 117, 24, 161, 146, 71, 2, 41, 269, 1, 303, 101, 98], [1, 1, 29, 85, 94, 9], [108, 21, 1, 102], [222, 81, 268, 2, 159, 92, 12], [1, 4, 1, 1, 14, 1, 1, 31, 482, 5, 16, 12, 455, 1, 1, 14, 32, 110, 1, 50, 46], [6, 1, 52, 51, 101, 1, 1, 1, 168, 71, 133, 29], [257, 54, 1, 1, 1, 23, 12, 18, 1, 24, 7, 258, 1, 7, 95, 24, 1, 1, 1, 13, 18, 1, 1, 1, 191, 28, 65, 1, 1, 1], [1, 3, 20, 59, 4, 414, 203, 281, 2, 40, 5, 1], [23, 3, 1, 1, 115, 43, 24, 1, 1, 42, 1, 91, 69], [6, 1, 1, 2, 159, 1, 13, 1, 11, 1], [1, 1, 1, 173, 1, 138, 438, 6, 58, 1, 75, 1, 1], [19, 1, 6, 375, 1, 36, 117, 29, 18, 1, 298, 12], [1, 1, 1, 17, 246, 1, 1, 1], [3, 23, 1, 1, 92, 45, 299, 79, 92, 230, 3, 70, 2, 115, 43, 85, 30, 10, 5, 24, 4, 251, 125, 1, 1], [188, 1, 3, 55, 398, 76, 437, 16, 1, 27, 1, 91, 69, 76, 3, 1, 11, 130, 1, 5, 1], [179, 193, 1, 3, 23, 1, 11, 29, 26, 1, 26, 1, 1, 1, 1], [162, 26, 1, 10, 1], [6, 193, 70, 9, 13, 9, 193, 70, 29, 47, 103, 2, 233, 12, 13, 1, 115, 471, 400, 38, 63, 77, 496, 401, 296, 297, 234, 374, 462, 99, 1, 14, 181], [205, 1, 9, 5, 18, 8, 1], [21, 56, 447, 10, 412, 201, 240, 2, 1, 21, 56, 17, 12, 47, 56, 2, 233, 38, 63, 77, 1, 1, 401, 296, 297, 234, 374], [16, 174, 17, 15, 4, 346, 473, 2, 64, 1, 1, 290, 1, 1, 390, 1, 32, 1, 2, 1, 2, 154, 174, 408, 385, 22, 166, 62, 244, 160, 1], [3, 20, 117, 1, 57, 3, 23, 1], [3, 20, 75, 54, 1, 74, 5, 1], [1, 16, 143, 39, 260], [32, 1, 2, 1, 2, 163, 187, 63, 1, 1, 99, 331], [1, 121, 159, 2, 1, 8, 1, 1, 2, 144, 324, 1, 13, 26, 113, 2, 198, 3, 1, 13, 1, 371, 72, 191], [28, 410, 10, 60, 1, 61, 1], [111, 1, 1, 65, 1, 44, 1], [1, 26, 1, 1, 116, 94, 9, 1, 1, 1, 371, 328, 211, 1, 1, 1, 9, 48, 25, 1], [73, 311, 51, 80, 2, 30, 157, 397, 295], [1, 1, 16, 66, 16, 402, 16, 1, 1, 18, 218, 1, 5, 284, 18, 285, 14, 5, 1], [16, 77, 123, 4, 79, 3, 1, 24, 1, 369, 51, 44, 1, 76, 3, 41, 51, 20, 1, 482, 74, 292, 80, 2, 154, 7, 79], [50, 309, 2, 78, 3, 442, 8, 39, 2, 45, 155, 19, 4, 152, 1, 239, 337, 101, 1, 114, 429, 32, 323, 39, 14, 5, 272, 12], [245, 8, 358, 176, 278, 11, 1, 136, 347, 359, 394, 178, 6, 288, 279, 5, 1, 280, 145, 1, 259, 99, 1, 395], [433, 15, 34, 1, 1, 94, 223, 5, 1, 12, 1, 1, 21, 326, 216, 1, 247, 1, 1, 261, 1, 1, 1, 1, 1, 1], [10, 1, 1, 2, 20, 1], [6, 20, 15, 1, 1, 182, 65, 73, 1, 19, 324, 1, 1, 80, 29, 1, 205, 1, 6, 20, 156, 4, 1, 1], [1, 1, 229, 54, 409, 1], [113, 236, 11, 8, 1, 32, 1, 194, 1, 42, 424, 237, 1, 1, 238, 27, 33, 35, 1, 300, 208, 1, 424, 1, 1], [41, 3, 81, 4, 54, 66, 1, 241, 88, 1, 27, 1, 16, 319, 2, 101, 34, 318, 16, 221, 16, 323, 39, 14, 5, 272], [113, 282, 4, 1, 54, 66, 1, 10, 80, 25, 282, 116, 282, 10, 16, 15, 308, 207, 357, 22, 66, 2, 1, 12, 401, 296, 297, 234, 374], [1, 122, 1, 1, 205, 352, 160, 11, 8, 1, 243, 1, 1, 86], [21, 1, 1, 121, 83, 1, 13, 3, 20, 83, 377, 1, 82, 3, 55, 443, 250, 130, 1, 28, 329, 42, 1, 91, 69, 1, 77], [399, 1, 257, 214, 39, 260], [497, 30, 1, 427, 1, 11, 182], [46, 1, 226, 1, 116, 13, 1, 2, 3, 41, 3, 20, 4, 151, 132, 109], [6, 204, 8, 1, 1, 1], [123, 177, 5, 256, 17, 1], [1, 1, 51, 1, 3, 70, 26, 1, 1, 1, 3, 2, 8, 1, 1, 26, 1, 13, 1, 8, 1, 2, 30, 193, 1, 6, 70, 223, 271, 1, 1], [1, 156, 357, 98, 1, 1, 1], [269, 489, 1, 41, 9, 1, 53, 6, 58, 325, 7, 1, 11, 4, 1, 1, 1, 6, 1, 17, 4, 293, 1, 269, 1, 43, 202, 1, 1, 1, 4, 1, 169, 26, 1], [16, 174, 2, 7, 1, 346, 473, 25, 4, 135, 2, 64, 7, 134, 66, 1, 1, 14, 276, 56, 111, 172, 22, 148, 2, 1, 243, 42, 1, 86, 1], [6, 188, 70, 368, 2, 26, 1, 313, 1, 246, 460, 37, 36, 6, 432], [216, 479, 1, 1, 6, 1, 15, 9, 138], [1, 25, 1, 1, 1, 17, 158, 1, 18, 21, 170, 127, 21, 1, 22, 68, 461, 2, 224, 11, 1, 14, 340, 461, 11, 1, 1, 1, 1, 15, 461], [1, 1, 41, 1, 3, 81], [353, 21, 126, 1, 4, 1, 1, 19, 1, 24, 1, 1, 14, 4, 1, 287, 87, 5, 1, 428, 106, 42, 1, 237, 118, 1, 1, 1], [99, 312, 2, 1, 1, 9, 46, 44, 1, 1, 19, 89, 7, 134, 1, 13, 1, 1, 238, 47, 31, 1, 33, 2, 1], [179, 1, 81, 335, 331, 355, 305, 475, 15, 21, 88, 22, 1, 2, 1, 1, 16, 13, 108, 36, 1, 97, 95, 2, 33, 32, 1, 1, 1], [], [3, 23, 1, 1, 92, 45, 299, 79, 92, 230, 3, 70, 2, 115, 43, 85, 30, 10, 5, 24, 8, 34, 14, 139, 1, 1], [37, 1, 102, 235, 3, 100, 2, 44, 1], [1, 24, 1, 16, 174, 325, 45, 276, 199, 473, 36, 47, 7, 164, 419, 2, 1, 12, 99, 62, 96, 42, 1, 86], [1, 73, 119, 2, 1, 26, 1, 1, 1, 73, 119, 2, 44, 283, 1], [1], [148, 54, 155, 231, 114, 231, 22, 18, 351, 218, 1, 13, 31, 134, 147, 436, 25, 16, 5, 284, 16, 18, 285, 12, 14, 1, 62, 106], [9, 20, 4, 485, 486, 85, 10, 434, 15, 144, 78, 27, 9, 115, 43, 85, 129, 94, 435, 85, 487, 21, 52, 184, 5, 18, 1], [1, 175, 499, 3, 302, 1], [53, 3, 81, 2, 1, 30, 14, 411, 468, 80, 1, 1, 1, 467, 7, 1, 1, 209, 7, 1, 1, 10], [73, 52, 17, 112, 27, 3, 73, 1, 471, 95, 6, 1, 27, 3, 3, 144, 29, 52, 229], [153, 11, 1, 29, 52, 3, 1], [3, 23, 4, 333, 9, 20, 83, 1, 213, 15, 154, 141, 14, 4, 25, 149, 1, 1, 1, 2, 4, 206, 458, 15, 40, 1, 107, 99], [1, 2, 1, 124, 1, 79, 27, 1, 1, 3, 55, 12, 5, 45, 1, 1, 1, 16, 24, 8, 34, 92, 1, 1], [354, 7, 1, 1, 1, 258, 27, 8, 1, 11, 15, 54, 1, 15, 1, 1, 31, 130, 344, 24, 1, 91, 69, 90, 38, 208, 5, 1], [311, 41, 204, 7, 212, 1, 31, 1, 20, 4, 1, 95], [9, 1, 20, 4, 485, 486, 85, 10, 434, 15, 144, 78, 27, 9, 115, 43, 85, 129, 94, 435, 85, 487, 21, 52, 184, 5, 18, 1], [1, 91, 69, 31, 1, 19, 56, 28, 498, 42, 1, 91, 69, 146, 1, 2, 7, 498, 50, 20, 117, 45, 1, 13, 351, 1, 56, 198, 1, 1], [6, 1, 2, 1, 4, 1, 1, 1, 128, 1, 67, 57, 1, 4, 1, 19, 60, 61, 1, 120, 10, 35, 1, 2, 1, 1, 1, 60, 61, 1, 1, 26, 1], [1, 1, 3, 23, 51, 17, 1, 205], [35, 158, 1, 6, 58, 1, 438, 26, 1, 48, 1, 116], [48, 25, 1, 58, 2, 1, 1], [1, 1, 37, 1, 4, 231, 1], [1, 13, 1, 23, 1, 88, 236, 5, 1], [222, 222, 1], [1, 38, 156, 8, 34, 1, 3, 23, 1, 2, 263, 2, 7, 134, 241, 147, 34, 11, 16, 5, 7, 34, 263, 91, 16, 18, 1], [16, 1, 143, 32, 1, 2, 1, 2, 31, 8, 16, 340, 68, 19, 7, 65, 12, 90, 1, 1, 1, 1, 1, 1], [245, 8, 358, 176, 278, 11, 1, 35, 136, 347, 359, 394, 178, 6, 288, 279, 5, 1, 280, 145, 1, 259, 1, 250, 395], [224, 1, 25, 1, 1, 1, 17, 158, 1, 18, 21, 170, 127, 21, 1, 22, 68, 461, 2, 224, 11, 1, 14, 340, 461, 11, 1, 1, 1, 1, 15, 461], [178, 57, 1, 51, 100, 37], [1, 491, 18, 1, 1, 48, 42, 1, 1, 91, 69, 443, 24, 4, 1, 1, 27, 228, 196, 1, 2, 3, 92, 1], [15, 15, 1], [72, 72, 1, 6, 100, 1], [467, 1, 50, 1, 2, 1, 169, 96, 102, 138], [6, 51, 48, 210, 12, 1], [51, 360, 1, 27, 28, 1, 1, 1, 181, 175], [28, 466, 315, 1, 370, 23, 12, 1, 36, 5, 1, 11, 474, 315, 262, 1, 1, 1, 38, 118, 82, 65, 315, 370, 34], [1, 72, 27, 1, 7, 1, 9, 369, 173, 4, 1, 1, 15, 308, 7, 1, 1, 1, 1, 258, 39, 1, 1, 1, 1, 39, 33, 77, 118, 1], [1, 182, 33], [84, 1, 35, 158, 2, 1, 27, 71, 3, 489], [84], [123, 9, 55, 51, 238, 1, 7, 170, 155, 1, 121, 4, 107, 1, 19, 1, 466, 194, 1, 1, 253, 1, 39, 1, 208, 25, 130, 345], [1, 9, 437, 437, 1, 19, 7, 95, 229, 1, 1], [1, 1, 133, 1, 4, 72, 356, 27, 4, 1, 1, 36, 22, 110, 405, 13, 1, 2, 308, 7, 34, 1, 1, 113], [3, 20, 83, 1, 213, 2, 154, 4, 1, 190, 5, 1, 406, 7, 1, 1, 187, 1, 90, 62, 106, 160, 1, 1], [222, 73, 361, 60, 61], [81, 7, 134, 152, 1, 239, 337, 101, 195, 114, 310, 281, 125, 488, 39, 14, 5, 272, 11, 196, 197], [1, 19, 1], [64, 4, 409, 1, 19, 1, 25, 4, 1, 19, 21, 1, 322, 275, 419, 45, 200, 199, 104, 22, 261, 2, 388, 428, 106, 42, 490, 86, 1, 1], [102, 159, 30, 1, 52, 1, 98, 11, 4, 1, 85, 10, 1, 19, 7, 1, 2, 1, 4, 1, 85, 1, 2, 1, 43, 89, 191], [1, 177, 58, 1, 1, 271, 50, 55, 1, 1, 1, 58, 1, 1, 58, 1, 142, 1, 1, 1], [105, 445, 163, 26, 439, 129, 225, 1, 1, 2, 1, 129, 23, 1, 1, 129, 1, 1, 70, 37, 1, 1, 2, 26, 1, 420, 1], [16, 171, 65, 174, 15, 1, 25, 4, 135, 15, 64, 1, 383, 14, 276, 56, 111, 172, 22, 1, 2, 1, 428, 106, 42, 1, 237, 431, 1], [16, 143, 39, 260, 14, 340, 469, 1, 75, 1, 15, 1, 137, 1, 25, 1, 202, 1, 171, 68, 16, 13, 348, 130, 105, 9, 308, 11, 316, 172], [192, 1, 1, 158, 2, 1, 406, 1, 177, 492, 3, 70, 105, 73, 43], [67, 367, 1, 11, 1, 1, 116, 10, 8, 1, 95, 15, 115, 43, 205, 480, 1, 243, 42, 1, 86, 120, 10, 4, 1, 1, 1, 3], [140, 295, 128, 1, 102, 94, 9, 364, 210, 24, 1, 13, 1, 32, 29, 110, 53, 9, 1, 103, 1, 1, 86, 32, 33, 2, 1, 63, 1], [1, 54, 79, 206, 1, 152, 103, 18, 8, 170, 163, 7, 1, 1, 1, 206, 18, 21, 88, 25, 474, 32, 1, 2, 1, 2, 1, 47, 33, 2, 1], [16, 174, 325, 45, 276, 199, 473, 36, 47, 7, 164, 419, 2, 1, 12, 99, 62, 96, 42, 1, 86, 1, 464, 1], [230, 9, 70, 121, 1, 45, 299, 79, 15, 78, 3, 422, 375, 85, 5, 1, 12, 89, 46, 44, 1, 151, 1, 1, 1], [16, 11, 171, 65, 484, 66, 68, 25, 21, 170, 111, 65, 36, 22, 66, 2, 224, 31, 387, 13, 127, 21, 326, 42, 470, 91, 69, 262, 1, 1, 1, 68, 90], [4, 1, 85, 1, 1, 57, 10, 271, 1, 2, 1, 30], [162, 1, 6, 81, 2, 1, 3, 27, 26, 1, 1, 1], [201, 54, 1, 24, 477, 1, 58, 22, 66, 2, 35, 1, 180, 223, 116, 24, 38, 118, 42, 25, 457, 1, 1, 1, 1, 1], [257, 49, 1, 50, 23, 264, 2, 78, 9, 242, 104, 136, 37, 3, 20, 59, 4, 267, 49, 87, 5, 1, 24, 251, 125, 186, 286, 38], [1, 408, 27, 4, 1, 392, 230, 1, 4, 1, 102, 10, 21, 356, 168, 1, 289, 1, 269, 10, 450, 1], [293, 293, 1, 13, 32, 29, 364, 1, 13, 1, 13, 361, 11, 246, 1, 9, 80, 11, 246, 344, 28, 77, 10, 16, 1, 439, 63, 1, 1, 15, 1, 32, 33], [178, 24, 7, 1, 1, 30, 494, 120, 10, 35, 1, 1, 128, 89, 133, 1, 1, 13, 1], [1, 295, 9, 84], [3, 23, 126, 4, 1, 1, 147, 5, 1, 24, 139, 196, 1, 1, 62, 106, 1, 1, 1, 1, 150, 90, 1, 1, 1], [1, 102, 131, 211, 191, 1, 83, 1, 13, 1, 1, 1, 13, 254, 1, 361, 11, 130, 277, 1, 71, 1, 19, 98, 41, 3, 1, 265], [1, 10, 38, 11, 1, 6, 46, 1, 362, 11, 268, 35, 1, 11, 249], [46, 3, 159, 1, 116, 191], [10, 21, 1, 17, 183, 1, 14, 1, 1], [1, 19, 1, 437, 1, 15, 9, 85, 94, 1, 15, 28, 94, 361, 15, 1, 21, 111, 1, 158, 55, 9, 1, 1, 32, 1, 2, 1, 118, 1, 288], [53, 3, 193, 8, 49, 46, 58, 2, 1, 93, 62, 96, 48, 42, 62, 96, 1, 99, 63, 107, 1, 317, 1, 1, 1, 1, 1, 74, 5, 110, 53, 1], [81, 2, 1, 80, 21, 1, 27, 4, 199, 54, 68, 39, 1, 15, 28, 32, 42, 1, 91, 69, 7, 1, 169, 351, 214, 1, 195, 458, 1, 160], [399, 140, 1, 1, 36, 117, 4, 54, 1, 1, 1, 96, 4, 335, 330, 14, 1, 4, 103, 364, 1, 1, 1, 103, 2, 1, 1, 1, 1, 1], [204, 3, 1, 8, 54, 393, 32, 33, 2, 1, 2, 238, 208, 1, 1, 92, 1, 91, 69], [194, 5, 29, 220, 71, 1], [242, 1, 465, 1, 1, 23, 213, 2, 154, 4, 1, 53, 3, 20, 4, 1, 74, 5, 1, 1, 40, 145, 1, 1, 1, 1], [178, 57, 51, 1, 2, 371], [7, 1, 1, 1, 10, 1, 2, 1, 28, 282, 47, 43, 93, 464, 1], [1, 11, 101, 1, 275, 1, 203, 1, 1, 1, 20, 3, 83, 1, 1, 50, 55, 157, 208, 5, 16, 455, 1, 14, 32, 110, 1], [1, 24, 1, 74, 5, 1, 1, 76, 120, 10, 124, 67, 122, 294, 11, 3], [1, 1, 10, 110, 18, 8, 349, 58, 2, 1, 1, 18, 1, 1, 13, 216, 1, 1, 1, 1, 1, 18, 444, 52, 1, 12, 1, 306, 43, 2, 1], [1, 1, 1, 1, 1, 4, 135], [16, 122, 1, 8, 201, 16, 32, 1, 92, 1, 2, 28, 122, 27, 7, 164, 16, 11, 1, 1, 493, 42, 1, 86], [418], [467, 72, 1, 6, 158, 1], [127, 324, 7, 1, 1, 360, 1], [1, 334, 1, 1], [140, 93, 1, 155, 7, 54, 1, 34, 24, 38, 426, 48, 1, 22, 164, 427, 2, 35, 1, 31, 223, 12, 1, 1, 457, 63, 1], [140, 1, 10, 1, 1, 1, 48, 407, 417, 48, 1, 397], [353, 21, 126, 1, 275, 19, 1, 287, 248, 16, 174, 15, 45, 200, 199, 104, 22, 261, 2, 388, 1, 42, 490, 1], [73, 124, 1, 105, 6, 212, 6, 212, 17, 7, 1, 13, 371, 283, 1, 73, 1, 48, 7, 1, 6, 1, 371, 283, 105, 1, 1, 111, 95, 10, 444], [367, 1, 25, 218, 1, 116, 10, 8, 1, 95, 1, 43, 205, 480, 1, 243, 42, 1, 86, 1, 4, 1, 1, 1, 3], [3, 20, 75, 54, 122, 74, 5, 1], [84, 138], [334, 450, 1, 31, 4, 1, 14, 1, 81, 29, 2, 159, 115, 3], [467, 1, 8, 1, 6, 206, 2, 44, 1], [21, 447, 10, 12, 1, 182, 408, 1, 7, 1, 1, 4, 1, 173, 1, 14, 96, 1, 32, 4, 173, 14, 96, 2, 1, 72, 1], [81, 1, 1, 17, 1, 1, 1, 1, 12, 1, 1, 107], [224, 16, 11, 171, 65, 484, 66, 68, 25, 21, 170, 111, 65, 36, 22, 66, 2, 224, 31, 387, 13, 127, 21, 326, 42, 470, 91, 69, 262, 1, 1, 1, 1, 63, 68, 90], [46, 9, 265, 21, 1, 1, 396, 10, 21, 1, 1, 15, 4, 1, 427, 15, 115, 43, 16, 22, 1, 1, 92, 21, 1, 1, 183, 301, 1, 1], [1, 73, 43, 20, 4, 72, 191], [201, 16, 32, 439, 36, 32, 84, 2, 1, 13, 1, 482, 8, 176], [1, 1, 86, 1, 19, 1, 1, 1, 1, 1, 362, 11, 45, 1, 80, 181, 1, 1, 1, 1, 37, 10, 4, 202, 446, 97], [81, 1, 1, 17, 1, 1, 1, 1, 12, 1, 1, 107, 1, 262, 1, 1, 1], [1, 1, 235, 8, 1, 1, 100, 4, 5, 24, 1, 257, 1, 5, 1, 2, 1, 3, 98, 1, 1, 211, 1, 1, 62, 96, 42, 1, 86]]\n"
          ]
        }
      ]
    },
    {
      "cell_type": "markdown",
      "source": [
        "# Model"
      ],
      "metadata": {
        "id": "JvhrgAKil_ZJ"
      }
    },
    {
      "cell_type": "code",
      "source": [
        "vocab_size = 500 # As defined earlier\n",
        "embeding_dim = 16\n",
        "drop_value = 0.2 # dropout\n",
        "n_dense = 24"
      ],
      "metadata": {
        "id": "-S_AofWBiSQ6"
      },
      "execution_count": null,
      "outputs": []
    },
    {
      "cell_type": "code",
      "source": [
        "n_lstm = 20\n",
        "drop_lstm =0.2"
      ],
      "metadata": {
        "id": "rEJXQuYI-uT4"
      },
      "execution_count": null,
      "outputs": []
    },
    {
      "cell_type": "code",
      "source": [
        "model = Sequential()\n",
        "model.add(Embedding(vocab_size, embeding_dim, input_length=max_len))\n",
        "#model.add(GlobalAveragePooling1D())\n",
        "#model.add(Dense(24, activation='relu'))\n",
        "model.add(Bidirectional(tf.keras.layers.RNN(tf.keras.layers.LSTMCell(64))))\n",
        "model.add(Dense(1, activation='sigmoid'))\n",
        "model.summary() "
      ],
      "metadata": {
        "id": "TlVxXw8vmGkR",
        "colab": {
          "base_uri": "https://localhost:8080/"
        },
        "outputId": "72325d3f-838a-4fd2-b745-f030537534a6"
      },
      "execution_count": null,
      "outputs": [
        {
          "output_type": "stream",
          "name": "stdout",
          "text": [
            "Model: \"sequential\"\n",
            "_________________________________________________________________\n",
            " Layer (type)                Output Shape              Param #   \n",
            "=================================================================\n",
            " embedding (Embedding)       (None, 100, 16)           8000      \n",
            "                                                                 \n",
            " bidirectional (Bidirectiona  (None, 128)              41472     \n",
            " l)                                                              \n",
            "                                                                 \n",
            " dense (Dense)               (None, 1)                 129       \n",
            "                                                                 \n",
            "=================================================================\n",
            "Total params: 49,601\n",
            "Trainable params: 49,601\n",
            "Non-trainable params: 0\n",
            "_________________________________________________________________\n"
          ]
        }
      ]
    },
    {
      "cell_type": "code",
      "source": [
        "model.compile(loss='binary_crossentropy',optimizer='adam' ,metrics=['accuracy'])"
      ],
      "metadata": {
        "id": "6BtM27kbmOwE"
      },
      "execution_count": null,
      "outputs": []
    },
    {
      "cell_type": "code",
      "source": [
        "num_epochs = 50\n",
        "early_stop = EarlyStopping(monitor='val_loss', patience=3)"
      ],
      "metadata": {
        "id": "fJe8dDu5mvth"
      },
      "execution_count": null,
      "outputs": []
    },
    {
      "cell_type": "code",
      "source": [
        "history = model.fit(train_pad, y_train, epochs=num_epochs,\n",
        "                    validation_data=(test_pad, y_test),\n",
        "                    callbacks =[early_stop], verbose=2)"
      ],
      "metadata": {
        "id": "FTsZNhFPm9i9",
        "colab": {
          "base_uri": "https://localhost:8080/"
        },
        "outputId": "a4277725-357f-42a4-d3a6-868e78a1a9b1"
      },
      "execution_count": null,
      "outputs": [
        {
          "output_type": "stream",
          "name": "stdout",
          "text": [
            "Epoch 1/50\n",
            "38/38 - 42s - loss: 0.6290 - accuracy: 0.6594 - val_loss: 0.4467 - val_accuracy: 0.8261 - 42s/epoch - 1s/step\n",
            "Epoch 2/50\n",
            "38/38 - 24s - loss: 0.3711 - accuracy: 0.8519 - val_loss: 0.2452 - val_accuracy: 0.9064 - 24s/epoch - 619ms/step\n",
            "Epoch 3/50\n",
            "38/38 - 24s - loss: 0.1899 - accuracy: 0.9389 - val_loss: 0.1782 - val_accuracy: 0.9365 - 24s/epoch - 623ms/step\n",
            "Epoch 4/50\n",
            "38/38 - 24s - loss: 0.1213 - accuracy: 0.9598 - val_loss: 0.1264 - val_accuracy: 0.9632 - 24s/epoch - 643ms/step\n",
            "Epoch 5/50\n",
            "38/38 - 24s - loss: 0.1017 - accuracy: 0.9657 - val_loss: 0.1206 - val_accuracy: 0.9565 - 24s/epoch - 621ms/step\n",
            "Epoch 6/50\n",
            "38/38 - 25s - loss: 0.0775 - accuracy: 0.9774 - val_loss: 0.1491 - val_accuracy: 0.9431 - 25s/epoch - 653ms/step\n",
            "Epoch 7/50\n",
            "38/38 - 24s - loss: 0.0709 - accuracy: 0.9799 - val_loss: 0.1432 - val_accuracy: 0.9498 - 24s/epoch - 619ms/step\n",
            "Epoch 8/50\n",
            "38/38 - 24s - loss: 0.0547 - accuracy: 0.9866 - val_loss: 0.1406 - val_accuracy: 0.9532 - 24s/epoch - 627ms/step\n"
          ]
        }
      ]
    },
    {
      "cell_type": "markdown",
      "source": [
        "The function called `predict_message` takes a message string as an argument and returns a list. The first element in the list should be a number between zero and one that indicates the likeliness of \"ham\" (0) or \"spam\" (1). The second element in the list should be the word \"ham\" or \"spam\", depending on which is most likely."
      ],
      "metadata": {
        "id": "q1TL8817qZkD"
      }
    },
    {
      "cell_type": "code",
      "execution_count": null,
      "metadata": {
        "id": "J9tD9yACG6M9"
      },
      "outputs": [],
      "source": [
        "# function to predict messages based on model\n",
        "# (should return list containing prediction and label, ex. [0.008318834938108921, 'ham'])\n",
        "def predict_message(pred_text):\n",
        "  msg= tokenizer.texts_to_sequences([pred_text])\n",
        "  msg_pad=pad_sequences(msg, maxlen =max_len,\n",
        "                      padding = padding_type,\n",
        "                      truncating=trunc_type)\n",
        "  pred=model.predict(msg_pad)\n",
        "  l=len(pred)\n",
        "  if pred[0]<0.5:\n",
        "    prediction=[pred[0], 'ham']\n",
        "  else:\n",
        "    prediction=[pred[0], 'spam']\n",
        "\n",
        "\n",
        "\n",
        "  return (prediction)\n",
        "\n"
      ]
    },
    {
      "cell_type": "code",
      "execution_count": null,
      "metadata": {
        "id": "Dxotov85SjsC",
        "colab": {
          "base_uri": "https://localhost:8080/"
        },
        "outputId": "47ed10ee-c7ad-4a0e-9b4a-94b84854f6a5"
      },
      "outputs": [
        {
          "output_type": "stream",
          "name": "stdout",
          "text": [
            "how are you doing today\n",
            "1/1 [==============================] - 0s 400ms/step\n",
            "[array([0.01471415], dtype=float32), 'ham']\n",
            "sale today! to stop texts call 98912460324\n",
            "1/1 [==============================] - 0s 53ms/step\n",
            "[array([0.76375437], dtype=float32), 'spam']\n",
            "i dont want to go. can we try it a different day? available sat\n",
            "1/1 [==============================] - 0s 61ms/step\n",
            "[array([0.01573204], dtype=float32), 'ham']\n",
            "our new mobile video service is live. just install on your phone to start watching.\n",
            "1/1 [==============================] - 0s 59ms/step\n",
            "[array([0.9899512], dtype=float32), 'spam']\n",
            "you have won £1000 cash! call to claim your prize.\n",
            "1/1 [==============================] - 0s 60ms/step\n",
            "[array([0.99571407], dtype=float32), 'spam']\n",
            "i'll bring it tomorrow. don't forget the milk.\n",
            "1/1 [==============================] - 0s 68ms/step\n",
            "[array([0.00918701], dtype=float32), 'ham']\n",
            "wow, is your arm alright. that happened to me one time too\n",
            "1/1 [==============================] - 0s 60ms/step\n",
            "[array([0.01720878], dtype=float32), 'ham']\n",
            "You passed the challenge. Great job!\n"
          ]
        }
      ],
      "source": [
        "# Run this cell to test your function and model.\n",
        "def test_predictions():\n",
        "  test_messages = [\"how are you doing today\",\n",
        "                   \"sale today! to stop texts call 98912460324\",\n",
        "                   \"i dont want to go. can we try it a different day? available sat\",\n",
        "                   \"our new mobile video service is live. just install on your phone to start watching.\",\n",
        "                   \"you have won £1000 cash! call to claim your prize.\",\n",
        "                   \"i'll bring it tomorrow. don't forget the milk.\",\n",
        "                   \"wow, is your arm alright. that happened to me one time too\"\n",
        "                  ]\n",
        "\n",
        "  test_answers = [\"ham\", \"spam\", \"ham\", \"spam\", \"spam\", \"ham\", \"ham\"]\n",
        "  passed = True\n",
        "\n",
        "  for msg, ans in zip(test_messages, test_answers):\n",
        "    print(msg)\n",
        "    prediction = predict_message(msg)\n",
        "    print(prediction)\n",
        "    if prediction[1] != ans:\n",
        "      passed = False\n",
        "\n",
        "  if passed:\n",
        "    print(\"You passed the challenge. Great job!\")\n",
        "  else:\n",
        "    print(\"You haven't passed yet. Keep trying.\")\n",
        "\n",
        "test_predictions()\n"
      ]
    },
    {
      "cell_type": "code",
      "source": [
        ""
      ],
      "metadata": {
        "id": "Lh_MT-yvp5P8"
      },
      "execution_count": null,
      "outputs": []
    }
  ],
  "metadata": {
    "colab": {
      "collapsed_sections": [],
      "name": "sms_text_classification.ipynb",
      "provenance": [],
      "toc_visible": true,
      "include_colab_link": true
    },
    "kernelspec": {
      "display_name": "Python 3",
      "name": "python3"
    },
    "language_info": {},
    "accelerator": "GPU"
  },
  "nbformat": 4,
  "nbformat_minor": 0
}