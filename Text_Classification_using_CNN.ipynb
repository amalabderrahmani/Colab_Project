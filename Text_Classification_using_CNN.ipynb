{
  "nbformat": 4,
  "nbformat_minor": 0,
  "metadata": {
    "colab": {
      "name": "Text Classification using CNN.ipynb",
      "provenance": [],
      "collapsed_sections": [],
      "toc_visible": true,
      "include_colab_link": true
    },
    "kernelspec": {
      "name": "python3",
      "display_name": "Python 3"
    },
    "language_info": {
      "name": "python"
    },
    "accelerator": "GPU"
  },
  "cells": [
    {
      "cell_type": "markdown",
      "metadata": {
        "id": "view-in-github",
        "colab_type": "text"
      },
      "source": [
        "<a href=\"https://colab.research.google.com/github/amalabderrahmani/Colab_Project/blob/main/Text_Classification_using_CNN.ipynb\" target=\"_parent\"><img src=\"https://colab.research.google.com/assets/colab-badge.svg\" alt=\"Open In Colab\"/></a>"
      ]
    },
    {
      "cell_type": "code",
      "source": [
        "#!sudo update-alternatives --install /usr/bin/python3 python3 /usr/bin/python3.7 1\n",
        "#!sudo update-alternatives --install /usr/bin/python3 python3 /usr/bin/python3.9 2"
      ],
      "metadata": {
        "id": "QrZ-8SZvXDtu"
      },
      "execution_count": 1,
      "outputs": []
    },
    {
      "cell_type": "code",
      "source": [
        "!python --version"
      ],
      "metadata": {
        "id": "192dvfhBXFUl",
        "outputId": "689e76c8-1d06-403c-8606-56674e46f5db",
        "colab": {
          "base_uri": "https://localhost:8080/"
        }
      },
      "execution_count": 2,
      "outputs": [
        {
          "output_type": "stream",
          "name": "stdout",
          "text": [
            "Python 3.7.13\n"
          ]
        }
      ]
    },
    {
      "cell_type": "code",
      "source": [
        "#pip install torch==1.8.0+cu111 torchvision==0.9.0+cu111 torchaudio==0.8.0 -f https://download.pytorch.org/whl/torch_stable.html"
      ],
      "metadata": {
        "id": "aLMSTGLE1Lnx"
      },
      "execution_count": 3,
      "outputs": []
    },
    {
      "cell_type": "code",
      "source": [
        "#!pip install -U torchtext==0.9.0"
      ],
      "metadata": {
        "id": "GYIrhfX5Zrws"
      },
      "execution_count": 4,
      "outputs": []
    },
    {
      "cell_type": "markdown",
      "source": [
        "# Preprocessing data"
      ],
      "metadata": {
        "id": "UsZxCNFivXz7"
      }
    },
    {
      "cell_type": "code",
      "execution_count": 5,
      "metadata": {
        "id": "jZsFelMfohu_"
      },
      "outputs": [],
      "source": [
        "import torch\n",
        "from torchtext.legacy import data, datasets\n",
        "\n",
        "import random"
      ]
    },
    {
      "cell_type": "code",
      "source": [
        "seed = 966\n",
        "torch.manual_seed(seed)\n",
        "\n",
        "device = torch.device('cuda' if torch.cuda.is_available() else 'cpu')\n",
        "print(device)"
      ],
      "metadata": {
        "id": "Htwa2BnOp7uy",
        "colab": {
          "base_uri": "https://localhost:8080/"
        },
        "outputId": "d62ffbe4-c5ca-4b72-b6e8-28f8a936d8d5"
      },
      "execution_count": 6,
      "outputs": [
        {
          "output_type": "stream",
          "name": "stdout",
          "text": [
            "cuda\n"
          ]
        }
      ]
    },
    {
      "cell_type": "markdown",
      "source": [
        "**Fields**\n",
        "\n",
        "[Check documentation](https://pytorch.org/text/_modules/torchtext/data/field.html)"
      ],
      "metadata": {
        "id": "IpsI5mzbiw_N"
      }
    },
    {
      "cell_type": "code",
      "source": [
        "# define fields\n",
        "TEXT= data.Field(tokenize='spacy', lower= True)\n",
        "LABEL= data.LabelField()\n"
      ],
      "metadata": {
        "id": "mkJfNKJWp-_a"
      },
      "execution_count": 7,
      "outputs": []
    },
    {
      "cell_type": "markdown",
      "source": [
        "**Text REtrieval Conference (TREC) Question Classification Dataset**\n",
        "\n",
        "*Data Examples and Six Categories:*\n",
        "\n",
        "| Text | Label | Category |\n",
        "| --- | --- | --- |\n",
        "|CNN is the abbreviation for what ?|ABBR| ABBREVIATION |\n",
        "| What is the date of Boxing Day ? | NUM |NUMERIC|\n",
        "|Who discovered electricity ?| HUM |HUMAN|\n",
        "|What 's the colored part of the eye called ?|ENTY|ENTITY|\n",
        "|Why do horseshoes bring luck ?|DESC|DESCRIPTION|\n",
        "|What is California 's capital ?|LOC|LOCATION|"
      ],
      "metadata": {
        "id": "1cA0GOYlXyn7"
      }
    },
    {
      "cell_type": "code",
      "source": [
        "from torchtext.legacy.datasets import TREC"
      ],
      "metadata": {
        "id": "uAInBOcTkSDC"
      },
      "execution_count": 8,
      "outputs": []
    },
    {
      "cell_type": "code",
      "source": [
        "TREC"
      ],
      "metadata": {
        "colab": {
          "base_uri": "https://localhost:8080/"
        },
        "id": "0d5M_KlwmLEI",
        "outputId": "a57bf95b-94bc-4358-b00e-60b60a757587"
      },
      "execution_count": 9,
      "outputs": [
        {
          "output_type": "execute_result",
          "data": {
            "text/plain": [
              "torchtext.legacy.datasets.trec.TREC"
            ]
          },
          "metadata": {},
          "execution_count": 9
        }
      ]
    },
    {
      "cell_type": "code",
      "source": [
        "train, test = datasets.TREC.splits(TEXT, LABEL, root='http://cogcomp.org/Data/QA/QC', train='train_5500.label', test='TREC_10.label')\n",
        "train, val = train.split(random_state=random.seed(seed))"
      ],
      "metadata": {
        "id": "WegTcNYsp_vQ"
      },
      "execution_count": 10,
      "outputs": []
    },
    {
      "cell_type": "code",
      "source": [
        "vars(train[-1])"
      ],
      "metadata": {
        "id": "X7f7bzP1qCY5",
        "colab": {
          "base_uri": "https://localhost:8080/"
        },
        "outputId": "20cb0c64-699c-45c1-ab91-fddc8c6a9686"
      },
      "execution_count": 11,
      "outputs": [
        {
          "output_type": "execute_result",
          "data": {
            "text/plain": [
              "{'label': 'ENTY', 'text': ['how', 'do', 'you', 'say', '2', 'in', 'latin', '?']}"
            ]
          },
          "metadata": {},
          "execution_count": 11
        }
      ]
    },
    {
      "cell_type": "code",
      "source": [
        "# build vocab\n",
        "TEXT.build_vocab(train, min_freq=2)\n",
        "LABEL.build_vocab(train)"
      ],
      "metadata": {
        "id": "-pbG4QBJqE4B"
      },
      "execution_count": 12,
      "outputs": []
    },
    {
      "cell_type": "code",
      "source": [
        "print(LABEL.vocab.stoi)"
      ],
      "metadata": {
        "id": "MOJPaDk04Lsl",
        "colab": {
          "base_uri": "https://localhost:8080/"
        },
        "outputId": "c5afc4e4-93d5-464b-9a70-3519df2cb181"
      },
      "execution_count": 13,
      "outputs": [
        {
          "output_type": "stream",
          "name": "stdout",
          "text": [
            "defaultdict(None, {'ENTY': 0, 'HUM': 1, 'DESC': 2, 'NUM': 3, 'LOC': 4, 'ABBR': 5})\n"
          ]
        }
      ]
    },
    {
      "cell_type": "code",
      "source": [
        "print(\"Vocabulary size of TEXT:\",len(TEXT.vocab.stoi))\n",
        "print(\"Vocabulary size of LABEL:\",len(LABEL.vocab.stoi))"
      ],
      "metadata": {
        "id": "rC6vaKQjqJBp",
        "colab": {
          "base_uri": "https://localhost:8080/"
        },
        "outputId": "8d0a0450-46e5-4bad-a721-b121815ba350"
      },
      "execution_count": 14,
      "outputs": [
        {
          "output_type": "stream",
          "name": "stdout",
          "text": [
            "Vocabulary size of TEXT: 2641\n",
            "Vocabulary size of LABEL: 6\n"
          ]
        }
      ]
    },
    {
      "cell_type": "code",
      "source": [
        "train_iterator, valid_iterator, test_iterator = data.BucketIterator.splits(\n",
        "    (train, val, test),\n",
        "    batch_size = 64,\n",
        "    sort_key=lambda x: len(x.text), \n",
        "    device=device\n",
        ")"
      ],
      "metadata": {
        "id": "hE20ZBrjqJkY"
      },
      "execution_count": 15,
      "outputs": []
    },
    {
      "cell_type": "markdown",
      "source": [
        "# Building the CNN model"
      ],
      "metadata": {
        "id": "KKKSrts7vU3_"
      }
    },
    {
      "cell_type": "code",
      "source": [
        "import torch.nn as nn\n",
        "import torch.nn.functional as F"
      ],
      "metadata": {
        "id": "srtp1aRnQrXW"
      },
      "execution_count": 16,
      "outputs": []
    },
    {
      "cell_type": "code",
      "source": [
        "class CNN(nn.Module):\n",
        "  def __init__(self, vocabulary_size, embedding_size, \n",
        "               kernels_number, kernel_sizes, output_size, dropout_rate):\n",
        "    super().__init__()\n",
        "    self.embedding = nn.Embedding(vocabulary_size, embedding_size)\n",
        "    self.convolution_layers = nn.ModuleList([nn.Conv2d(in_channels=1,\n",
        "                                                       out_channels=kernels_number,\n",
        "                                                       kernel_size=(k, embedding_size)) for k in kernel_sizes])\n",
        "    self.dropout = nn.Dropout(dropout_rate)\n",
        "    self.fully_connected = nn.Linear(len(kernel_sizes) * kernels_number, output_size)\n",
        "\n",
        "\n",
        "  def forward(self, text):\n",
        "    text = text.permute(1,0)\n",
        "    input_embeddings = self.embedding(text)\n",
        "    input_embeddings = input_embeddings.unsqueeze(1)\n",
        "    conved = [F.relu(convolution_layer(input_embeddings)).squeeze(3) for convolution_layer in self.convolution_layers]\n",
        "    pooled = [F.max_pool1d(conv, conv.shape[2]).squeeze(2) for conv in conved ]\n",
        "    concat = self.dropout(torch.cat(pooled, dim = 1 ))\n",
        "    final_output = self.fully_connected(concat)\n",
        "\n",
        "\n",
        "\n",
        "    \n",
        "\n",
        "    return final_output"
      ],
      "metadata": {
        "id": "86mY6RFMqhX-"
      },
      "execution_count": 17,
      "outputs": []
    },
    {
      "cell_type": "code",
      "source": [
        "vocabulary_size = 2679\n",
        "embedding_size = 100\n",
        "kernels_number = 100\n",
        "kernel_sizes = [2, 3, 4]\n",
        "output_size = 6\n",
        "dropout_rate = 0.3"
      ],
      "metadata": {
        "id": "R-N2S6PUqjly"
      },
      "execution_count": 18,
      "outputs": []
    },
    {
      "cell_type": "code",
      "source": [
        "model = CNN(vocabulary_size, embedding_size, kernels_number, kernel_sizes, output_size, dropout_rate)"
      ],
      "metadata": {
        "id": "2RlP9WDjqmb3"
      },
      "execution_count": 19,
      "outputs": []
    },
    {
      "cell_type": "code",
      "source": [
        "print(model)"
      ],
      "metadata": {
        "colab": {
          "base_uri": "https://localhost:8080/"
        },
        "id": "wlozG0YTqn2q",
        "outputId": "9f778b8e-2282-4527-fdba-4fd073db4855"
      },
      "execution_count": 20,
      "outputs": [
        {
          "output_type": "stream",
          "name": "stdout",
          "text": [
            "CNN(\n",
            "  (embedding): Embedding(2679, 100)\n",
            "  (convolution_layers): ModuleList(\n",
            "    (0): Conv2d(1, 100, kernel_size=(2, 100), stride=(1, 1))\n",
            "    (1): Conv2d(1, 100, kernel_size=(3, 100), stride=(1, 1))\n",
            "    (2): Conv2d(1, 100, kernel_size=(4, 100), stride=(1, 1))\n",
            "  )\n",
            "  (dropout): Dropout(p=0.3, inplace=False)\n",
            "  (fully_connected): Linear(in_features=300, out_features=6, bias=True)\n",
            ")\n"
          ]
        }
      ]
    },
    {
      "cell_type": "code",
      "source": [
        "device = torch.device('cuda' if torch.cuda.is_available() else 'cpu')\n",
        "model.to(device)"
      ],
      "metadata": {
        "colab": {
          "base_uri": "https://localhost:8080/"
        },
        "id": "Z3mRsIwXqpdU",
        "outputId": "5daf27a8-6f28-4348-96bd-efaf005e646e"
      },
      "execution_count": 21,
      "outputs": [
        {
          "output_type": "execute_result",
          "data": {
            "text/plain": [
              "CNN(\n",
              "  (embedding): Embedding(2679, 100)\n",
              "  (convolution_layers): ModuleList(\n",
              "    (0): Conv2d(1, 100, kernel_size=(2, 100), stride=(1, 1))\n",
              "    (1): Conv2d(1, 100, kernel_size=(3, 100), stride=(1, 1))\n",
              "    (2): Conv2d(1, 100, kernel_size=(4, 100), stride=(1, 1))\n",
              "  )\n",
              "  (dropout): Dropout(p=0.3, inplace=False)\n",
              "  (fully_connected): Linear(in_features=300, out_features=6, bias=True)\n",
              ")"
            ]
          },
          "metadata": {},
          "execution_count": 21
        }
      ]
    },
    {
      "cell_type": "markdown",
      "source": [
        "# Training"
      ],
      "metadata": {
        "id": "m9jvueEEvQ5N"
      }
    },
    {
      "cell_type": "code",
      "source": [
        "import torch.optim as optim\n",
        "import torch.nn as nn\n",
        "\n",
        "criterion = nn.CrossEntropyLoss()\n",
        "criterion = criterion.to(device)\n",
        "\n",
        "optimizer = optim.Adam(model.parameters())"
      ],
      "metadata": {
        "id": "tC6WLCrRvFEE"
      },
      "execution_count": 22,
      "outputs": []
    },
    {
      "cell_type": "code",
      "source": [
        "def accuracy(predictions, actual_label):\n",
        "    max_predictions = predictions.argmax(dim = 1, keepdim = True, )\n",
        "    correct_predictions = max_predictions.squeeze(1).eq(actual_label)\n",
        "    accuracy = correct_predictions.sum() / torch.cuda.FloatTensor([actual_label.shape[0]])\n",
        "    return accuracy"
      ],
      "metadata": {
        "id": "NfLPcXY3vGC0"
      },
      "execution_count": 23,
      "outputs": []
    },
    {
      "cell_type": "code",
      "source": [
        "def train(model, iterator, optimizer, criterion):\n",
        "\n",
        "    model.train()\n",
        "    epoch_loss = 0\n",
        "    epoch_acc = 0\n",
        "    \n",
        "    for batch in iterator:\n",
        "        # optimizer\n",
        "        optimizer.zero_grad()\n",
        "        \n",
        "        # predictions\n",
        "        predictions = model(batch.text)\n",
        "\n",
        "        # loss\n",
        "        loss = criterion(predictions, batch.label)\n",
        "        \n",
        "        # accuracy\n",
        "        acc = accuracy(predictions, batch.label)\n",
        "\n",
        "        loss.backward()\n",
        "        \n",
        "        optimizer.step()\n",
        "        \n",
        "        epoch_loss += loss.item()\n",
        "        epoch_acc += acc.item()\n",
        "        \n",
        "    return epoch_loss / len(iterator), epoch_acc / len(iterator)"
      ],
      "metadata": {
        "id": "JDMejMqkvH1x"
      },
      "execution_count": 24,
      "outputs": []
    },
    {
      "cell_type": "code",
      "source": [
        "def evaluate(model, iterator, criterion):\n",
        "\n",
        "    model.eval()\n",
        "    epoch_loss = 0\n",
        "    epoch_acc = 0\n",
        "    \n",
        "    with torch.no_grad():\n",
        "    \n",
        "        for batch in iterator:\n",
        "\n",
        "            predictions = model(batch.text)\n",
        "            \n",
        "            loss = criterion(predictions, batch.label)\n",
        "            \n",
        "            acc = accuracy(predictions, batch.label)\n",
        "            epoch_loss += loss.item()\n",
        "            epoch_acc += acc.item()\n",
        "        \n",
        "    return epoch_loss / len(iterator), epoch_acc / len(iterator)"
      ],
      "metadata": {
        "id": "XahEIA3XvMbM"
      },
      "execution_count": 25,
      "outputs": []
    },
    {
      "cell_type": "code",
      "source": [
        "number_of_epochs = 20\n",
        "\n",
        "best_acc = float('-inf')\n",
        "\n",
        "for epoch in range(number_of_epochs):\n",
        "    \n",
        "    # Write the code here\n",
        "    train_loss, train_acc = train(model, train_iterator, optimizer, criterion)\n",
        "    # Write the code here\n",
        "    valid_loss, valid_acc = evaluate(model, valid_iterator, criterion)\n",
        "    \n",
        "    if valid_acc > best_acc:\n",
        "        # Write the code here\n",
        "        best_acc = valid_acc\n",
        "        torch.save(model.state_dict(), 'trec.pt')\n",
        "    \n",
        "    print(f'Epoch {epoch+1} ')\n",
        "    print(f'\\tTrain Loss: {train_loss:.3f} | Train Acc: {train_acc*100:.2f}%')\n",
        "    print(f'\\t Validation Loss: {valid_loss:.3f} |  Validation Acc: {valid_acc*100:.2f}%')"
      ],
      "metadata": {
        "colab": {
          "base_uri": "https://localhost:8080/"
        },
        "id": "fHG8JPQYwlIW",
        "outputId": "aef3e023-a302-409f-98ef-beedf33846c7"
      },
      "execution_count": 26,
      "outputs": [
        {
          "output_type": "stream",
          "name": "stdout",
          "text": [
            "Epoch 1 \n",
            "\tTrain Loss: 1.318 | Train Acc: 47.93%\n",
            "\t Validation Loss: 0.977 |  Validation Acc: 62.11%\n",
            "Epoch 2 \n",
            "\tTrain Loss: 0.797 | Train Acc: 71.49%\n",
            "\t Validation Loss: 0.759 |  Validation Acc: 72.44%\n",
            "Epoch 3 \n",
            "\tTrain Loss: 0.589 | Train Acc: 80.09%\n",
            "\t Validation Loss: 0.664 |  Validation Acc: 74.09%\n",
            "Epoch 4 \n",
            "\tTrain Loss: 0.451 | Train Acc: 85.73%\n",
            "\t Validation Loss: 0.638 |  Validation Acc: 75.67%\n",
            "Epoch 5 \n",
            "\tTrain Loss: 0.359 | Train Acc: 89.02%\n",
            "\t Validation Loss: 0.604 |  Validation Acc: 77.17%\n",
            "Epoch 6 \n",
            "\tTrain Loss: 0.276 | Train Acc: 92.09%\n",
            "\t Validation Loss: 0.551 |  Validation Acc: 79.82%\n",
            "Epoch 7 \n",
            "\tTrain Loss: 0.209 | Train Acc: 94.48%\n",
            "\t Validation Loss: 0.541 |  Validation Acc: 80.01%\n",
            "Epoch 8 \n",
            "\tTrain Loss: 0.167 | Train Acc: 95.53%\n",
            "\t Validation Loss: 0.565 |  Validation Acc: 79.25%\n",
            "Epoch 9 \n",
            "\tTrain Loss: 0.127 | Train Acc: 96.94%\n",
            "\t Validation Loss: 0.525 |  Validation Acc: 81.62%\n",
            "Epoch 10 \n",
            "\tTrain Loss: 0.104 | Train Acc: 97.76%\n",
            "\t Validation Loss: 0.533 |  Validation Acc: 81.92%\n",
            "Epoch 11 \n",
            "\tTrain Loss: 0.086 | Train Acc: 98.14%\n",
            "\t Validation Loss: 0.542 |  Validation Acc: 81.86%\n",
            "Epoch 12 \n",
            "\tTrain Loss: 0.068 | Train Acc: 98.69%\n",
            "\t Validation Loss: 0.551 |  Validation Acc: 81.92%\n",
            "Epoch 13 \n",
            "\tTrain Loss: 0.062 | Train Acc: 98.70%\n",
            "\t Validation Loss: 0.542 |  Validation Acc: 82.16%\n",
            "Epoch 14 \n",
            "\tTrain Loss: 0.054 | Train Acc: 98.97%\n",
            "\t Validation Loss: 0.553 |  Validation Acc: 82.15%\n",
            "Epoch 15 \n",
            "\tTrain Loss: 0.049 | Train Acc: 98.83%\n",
            "\t Validation Loss: 0.567 |  Validation Acc: 81.61%\n",
            "Epoch 16 \n",
            "\tTrain Loss: 0.039 | Train Acc: 99.14%\n",
            "\t Validation Loss: 0.564 |  Validation Acc: 82.36%\n",
            "Epoch 17 \n",
            "\tTrain Loss: 0.040 | Train Acc: 99.20%\n",
            "\t Validation Loss: 0.572 |  Validation Acc: 82.39%\n",
            "Epoch 18 \n",
            "\tTrain Loss: 0.036 | Train Acc: 99.30%\n",
            "\t Validation Loss: 0.581 |  Validation Acc: 81.56%\n",
            "Epoch 19 \n",
            "\tTrain Loss: 0.029 | Train Acc: 99.43%\n",
            "\t Validation Loss: 0.577 |  Validation Acc: 82.32%\n",
            "Epoch 20 \n",
            "\tTrain Loss: 0.030 | Train Acc: 99.30%\n",
            "\t Validation Loss: 0.601 |  Validation Acc: 82.33%\n"
          ]
        }
      ]
    },
    {
      "cell_type": "code",
      "source": [
        "model.load_state_dict(torch.load('trec.pt'))\n",
        "\n",
        "test_loss, test_acc = evaluate(model, test_iterator, criterion)\n",
        "\n",
        "print(f'Test Loss: {test_loss:.3f} | Test Acc: {test_acc*100:.2f}%')"
      ],
      "metadata": {
        "colab": {
          "base_uri": "https://localhost:8080/"
        },
        "id": "VeviHkE-wn80",
        "outputId": "1ed4bc82-d809-4558-9ae0-7deaa626d3ed"
      },
      "execution_count": 27,
      "outputs": [
        {
          "output_type": "stream",
          "name": "stdout",
          "text": [
            "Test Loss: 0.392 | Test Acc: 87.38%\n"
          ]
        }
      ]
    }
  ]
}